{
 "cells": [
  {
   "cell_type": "markdown",
   "id": "4fdccd1c",
   "metadata": {},
   "source": [
    "# PFGAP vs KNN Results Analysis\n",
    "This notebook analyzes experimental results from the PFGAP vs KNN testing pipeline by calling analysis functions in separate cells."
   ]
  },
  {
   "cell_type": "markdown",
   "id": "f765bd85",
   "metadata": {},
   "source": [
    "## 1. Import Required Libraries\n",
    "Import the analyze_results module and other necessary libraries for the analysis workflow."
   ]
  },
  {
   "cell_type": "code",
   "execution_count": 1,
   "id": "a92a7794",
   "metadata": {},
   "outputs": [
    {
     "name": "stdout",
     "output_type": "stream",
     "text": [
      "✓ All libraries imported successfully\n"
     ]
    }
   ],
   "source": [
    "# Import the analyze_results module and necessary libraries\n",
    "import analyze_results\n",
    "import json\n",
    "import numpy as np\n",
    "import pandas as pd\n",
    "import matplotlib.pyplot as plt\n",
    "from pathlib import Path\n",
    "import seaborn as sns\n",
    "from datetime import datetime\n",
    "\n",
    "# Set up matplotlib for inline plots\n",
    "%matplotlib inline\n",
    "\n",
    "# Set seaborn style for better plots\n",
    "sns.set_style(\"whitegrid\")\n",
    "\n",
    "print(\"✓ All libraries imported successfully\")"
   ]
  },
  {
   "cell_type": "markdown",
   "id": "f8a154e0",
   "metadata": {},
   "source": [
    "## 2. Load Experimental Results\n",
    "Load the summary and seed results from the results directory using the load_results function."
   ]
  },
  {
   "cell_type": "code",
   "execution_count": 2,
   "id": "524e5772",
   "metadata": {},
   "outputs": [
    {
     "name": "stdout",
     "output_type": "stream",
     "text": [
      "✓ Loaded pipeline summary\n",
      "✓ Loaded 10 seed results\n",
      "\n",
      "📊 Successfully loaded results for 10 seeds\n",
      "Seeds analyzed: ['161', '737', '102', '821', '61', '2', '346', '982', '67', '78']\n"
     ]
    }
   ],
   "source": [
    "# Load all experimental results\n",
    "summary, seed_results = analyze_results.load_results()\n",
    "\n",
    "if seed_results:\n",
    "    print(f\"\\n📊 Successfully loaded results for {len(seed_results)} seeds\")\n",
    "    print(f\"Seeds analyzed: {list(seed_results.keys())}\")\n",
    "else:\n",
    "    print(\"⚠️ No results found! Make sure the results directory exists and contains data.\")"
   ]
  },
  {
   "cell_type": "markdown",
   "id": "066406c0",
   "metadata": {},
   "source": [
    "# Visualizations"
   ]
  },
  {
   "cell_type": "code",
   "execution_count": null,
   "id": "8be0837c",
   "metadata": {},
   "outputs": [
    {
     "data": {
      "application/vnd.microsoft.datawrangler.viewer.v0+json": {
       "columns": [
        {
         "name": "index",
         "rawType": "object",
         "type": "string"
        },
        {
         "name": "seed",
         "rawType": "int64",
         "type": "integer"
        },
        {
         "name": "knn_results_k1_accuracy",
         "rawType": "float64",
         "type": "float"
        },
        {
         "name": "knn_results_k1_f1_score",
         "rawType": "float64",
         "type": "float"
        },
        {
         "name": "knn_results_k1_precision",
         "rawType": "float64",
         "type": "float"
        },
        {
         "name": "knn_results_k1_recall",
         "rawType": "float64",
         "type": "float"
        },
        {
         "name": "knn_results_k1_confusion_matrix",
         "rawType": "object",
         "type": "unknown"
        },
        {
         "name": "knn_results_k4_accuracy",
         "rawType": "float64",
         "type": "float"
        },
        {
         "name": "knn_results_k4_f1_score",
         "rawType": "float64",
         "type": "float"
        },
        {
         "name": "knn_results_k4_precision",
         "rawType": "float64",
         "type": "float"
        },
        {
         "name": "knn_results_k4_recall",
         "rawType": "float64",
         "type": "float"
        },
        {
         "name": "knn_results_k4_confusion_matrix",
         "rawType": "object",
         "type": "unknown"
        },
        {
         "name": "knn_results_k8_accuracy",
         "rawType": "float64",
         "type": "float"
        },
        {
         "name": "knn_results_k8_f1_score",
         "rawType": "float64",
         "type": "float"
        },
        {
         "name": "knn_results_k8_precision",
         "rawType": "float64",
         "type": "float"
        },
        {
         "name": "knn_results_k8_recall",
         "rawType": "float64",
         "type": "float"
        },
        {
         "name": "knn_results_k8_confusion_matrix",
         "rawType": "object",
         "type": "unknown"
        },
        {
         "name": "knn_results_k12_accuracy",
         "rawType": "float64",
         "type": "float"
        },
        {
         "name": "knn_results_k12_f1_score",
         "rawType": "float64",
         "type": "float"
        },
        {
         "name": "knn_results_k12_precision",
         "rawType": "float64",
         "type": "float"
        },
        {
         "name": "knn_results_k12_recall",
         "rawType": "float64",
         "type": "float"
        },
        {
         "name": "knn_results_k12_confusion_matrix",
         "rawType": "object",
         "type": "unknown"
        },
        {
         "name": "knn_results_k16_accuracy",
         "rawType": "float64",
         "type": "float"
        },
        {
         "name": "knn_results_k16_f1_score",
         "rawType": "float64",
         "type": "float"
        },
        {
         "name": "knn_results_k16_precision",
         "rawType": "float64",
         "type": "float"
        },
        {
         "name": "knn_results_k16_recall",
         "rawType": "float64",
         "type": "float"
        },
        {
         "name": "knn_results_k16_confusion_matrix",
         "rawType": "object",
         "type": "unknown"
        },
        {
         "name": "knn_results_k20_accuracy",
         "rawType": "float64",
         "type": "float"
        },
        {
         "name": "knn_results_k20_f1_score",
         "rawType": "float64",
         "type": "float"
        },
        {
         "name": "knn_results_k20_precision",
         "rawType": "float64",
         "type": "float"
        },
        {
         "name": "knn_results_k20_recall",
         "rawType": "float64",
         "type": "float"
        },
        {
         "name": "knn_results_k20_confusion_matrix",
         "rawType": "object",
         "type": "unknown"
        }
       ],
       "ref": "22ec26ba-b6c9-4b1b-9d97-6a08a1b60344",
       "rows": [
        [
         "161",
         "161",
         "0.989010989010989",
         "0.989010989010989",
         "0.9892498805542284",
         "0.989010989010989",
         "[[45, 1], [0, 45]]",
         "0.989010989010989",
         "0.989010989010989",
         "0.9892498805542284",
         "0.989010989010989",
         "[[45, 1], [0, 45]]",
         "0.989010989010989",
         "0.989010989010989",
         "0.9892498805542284",
         "0.989010989010989",
         "[[45, 1], [0, 45]]",
         "0.989010989010989",
         "0.989010989010989",
         "0.9892498805542284",
         "0.989010989010989",
         "[[45, 1], [0, 45]]",
         "0.989010989010989",
         "0.989010989010989",
         "0.9892498805542284",
         "0.989010989010989",
         "[[45, 1], [0, 45]]",
         "0.989010989010989",
         "0.989010989010989",
         "0.9892498805542284",
         "0.989010989010989",
         "[[45, 1], [0, 45]]"
        ],
        [
         "737",
         "737",
         "0.8131868131868132",
         "0.8129155780698432",
         "0.8144202736039471",
         "0.8131868131868132",
         "[[35, 10], [7, 39]]",
         "0.8351648351648352",
         "0.8347659599928202",
         "0.8394532296971321",
         "0.8351648351648352",
         "[[40, 5], [10, 36]]",
         "0.8351648351648352",
         "0.8351648351648352",
         "0.8353665658013484",
         "0.8351648351648352",
         "[[38, 7], [8, 38]]",
         "0.8131868131868132",
         "0.8131868131868132",
         "0.8133832351223655",
         "0.8131868131868132",
         "[[37, 8], [9, 37]]",
         "0.8351648351648352",
         "0.835045346100076",
         "0.8367461027344748",
         "0.8351648351648352",
         "[[39, 6], [9, 37]]",
         "0.8241758241758241",
         "0.8241333545681371",
         "0.8248878780793675",
         "0.8241758241758241",
         "[[38, 7], [9, 37]]"
        ],
        [
         "102",
         "102",
         "1.0",
         "1.0",
         "1.0",
         "1.0",
         "[[46, 0], [0, 45]]",
         "1.0",
         "1.0",
         "1.0",
         "1.0",
         "[[46, 0], [0, 45]]",
         "1.0",
         "1.0",
         "1.0",
         "1.0",
         "[[46, 0], [0, 45]]",
         "1.0",
         "1.0",
         "1.0",
         "1.0",
         "[[46, 0], [0, 45]]",
         "1.0",
         "1.0",
         "1.0",
         "1.0",
         "[[46, 0], [0, 45]]",
         "1.0",
         "1.0",
         "1.0",
         "1.0",
         "[[46, 0], [0, 45]]"
        ],
        [
         "821",
         "821",
         "1.0",
         "1.0",
         "1.0",
         "1.0",
         "[[45, 0], [0, 46]]",
         "1.0",
         "1.0",
         "1.0",
         "1.0",
         "[[45, 0], [0, 46]]",
         "1.0",
         "1.0",
         "1.0",
         "1.0",
         "[[45, 0], [0, 46]]",
         "1.0",
         "1.0",
         "1.0",
         "1.0",
         "[[45, 0], [0, 46]]",
         "1.0",
         "1.0",
         "1.0",
         "1.0",
         "[[45, 0], [0, 46]]",
         "1.0",
         "1.0",
         "1.0",
         "1.0",
         "[[45, 0], [0, 46]]"
        ],
        [
         "61",
         "61",
         "0.9560439560439561",
         "0.9560333386420343",
         "0.9569473080111378",
         "0.9560439560439561",
         "[[44, 1], [3, 43]]",
         "0.989010989010989",
         "0.989010989010989",
         "0.9892498805542284",
         "0.989010989010989",
         "[[45, 0], [1, 45]]",
         "0.989010989010989",
         "0.989010989010989",
         "0.9892498805542284",
         "0.989010989010989",
         "[[45, 0], [1, 45]]",
         "0.967032967032967",
         "0.9670250010953164",
         "0.9672508342721108",
         "0.967032967032967",
         "[[43, 2], [1, 45]]",
         "0.978021978021978",
         "0.9780060365166748",
         "0.978937728937729",
         "0.978021978021978",
         "[[43, 2], [0, 46]]",
         "0.978021978021978",
         "0.9780060365166748",
         "0.978937728937729",
         "0.978021978021978",
         "[[43, 2], [0, 46]]"
        ],
        [
         "2",
         "2",
         "1.0",
         "1.0",
         "1.0",
         "1.0",
         "[[46, 0], [0, 45]]",
         "1.0",
         "1.0",
         "1.0",
         "1.0",
         "[[46, 0], [0, 45]]",
         "1.0",
         "1.0",
         "1.0",
         "1.0",
         "[[46, 0], [0, 45]]",
         "1.0",
         "1.0",
         "1.0",
         "1.0",
         "[[46, 0], [0, 45]]",
         "1.0",
         "1.0",
         "1.0",
         "1.0",
         "[[46, 0], [0, 45]]",
         "1.0",
         "1.0",
         "1.0",
         "1.0",
         "[[46, 0], [0, 45]]"
        ],
        [
         "346",
         "346",
         "0.989010989010989",
         "0.989010989010989",
         "0.9892498805542284",
         "0.989010989010989",
         "[[45, 1], [0, 45]]",
         "1.0",
         "1.0",
         "1.0",
         "1.0",
         "[[46, 0], [0, 45]]",
         "1.0",
         "1.0",
         "1.0",
         "1.0",
         "[[46, 0], [0, 45]]",
         "1.0",
         "1.0",
         "1.0",
         "1.0",
         "[[46, 0], [0, 45]]",
         "1.0",
         "1.0",
         "1.0",
         "1.0",
         "[[46, 0], [0, 45]]",
         "1.0",
         "1.0",
         "1.0",
         "1.0",
         "[[46, 0], [0, 45]]"
        ],
        [
         "982",
         "982",
         "0.989010989010989",
         "0.989010989010989",
         "0.9892498805542284",
         "0.989010989010989",
         "[[45, 1], [0, 45]]",
         "1.0",
         "1.0",
         "1.0",
         "1.0",
         "[[46, 0], [0, 45]]",
         "1.0",
         "1.0",
         "1.0",
         "1.0",
         "[[46, 0], [0, 45]]",
         "1.0",
         "1.0",
         "1.0",
         "1.0",
         "[[46, 0], [0, 45]]",
         "1.0",
         "1.0",
         "1.0",
         "1.0",
         "[[46, 0], [0, 45]]",
         "1.0",
         "1.0",
         "1.0",
         "1.0",
         "[[46, 0], [0, 45]]"
        ],
        [
         "67",
         "67",
         "1.0",
         "1.0",
         "1.0",
         "1.0",
         "[[45, 0], [0, 46]]",
         "1.0",
         "1.0",
         "1.0",
         "1.0",
         "[[45, 0], [0, 46]]",
         "1.0",
         "1.0",
         "1.0",
         "1.0",
         "[[45, 0], [0, 46]]",
         "1.0",
         "1.0",
         "1.0",
         "1.0",
         "[[45, 0], [0, 46]]",
         "1.0",
         "1.0",
         "1.0",
         "1.0",
         "[[45, 0], [0, 46]]",
         "1.0",
         "1.0",
         "1.0",
         "1.0",
         "[[45, 0], [0, 46]]"
        ],
        [
         "78",
         "78",
         "0.6923076923076923",
         "0.6907378335949765",
         "0.6952662721893491",
         "0.6923076923076923",
         "[[28, 17], [11, 35]]",
         "0.6923076923076923",
         "0.6918613301592025",
         "0.6941018165507962",
         "0.6923076923076923",
         "[[33, 12], [16, 30]]",
         "0.6703296703296703",
         "0.669851425170574",
         "0.6719742842191821",
         "0.6703296703296703",
         "[[32, 13], [17, 29]]",
         "0.7032967032967034",
         "0.7032250098578479",
         "0.7033232724722087",
         "0.7032967032967034",
         "[[31, 14], [13, 33]]",
         "0.6703296703296703",
         "0.6700905477501221",
         "0.6705000425930658",
         "0.6703296703296703",
         "[[29, 16], [14, 32]]",
         "0.6923076923076923",
         "0.6915623136553369",
         "0.6935084427767355",
         "0.6923076923076923",
         "[[29, 16], [12, 34]]"
        ]
       ],
       "shape": {
        "columns": 31,
        "rows": 10
       }
      },
      "text/html": [
       "<div>\n",
       "<style scoped>\n",
       "    .dataframe tbody tr th:only-of-type {\n",
       "        vertical-align: middle;\n",
       "    }\n",
       "\n",
       "    .dataframe tbody tr th {\n",
       "        vertical-align: top;\n",
       "    }\n",
       "\n",
       "    .dataframe thead th {\n",
       "        text-align: right;\n",
       "    }\n",
       "</style>\n",
       "<table border=\"1\" class=\"dataframe\">\n",
       "  <thead>\n",
       "    <tr style=\"text-align: right;\">\n",
       "      <th></th>\n",
       "      <th>seed</th>\n",
       "      <th>knn_results_k1_accuracy</th>\n",
       "      <th>knn_results_k1_f1_score</th>\n",
       "      <th>knn_results_k1_precision</th>\n",
       "      <th>knn_results_k1_recall</th>\n",
       "      <th>knn_results_k1_confusion_matrix</th>\n",
       "      <th>knn_results_k4_accuracy</th>\n",
       "      <th>knn_results_k4_f1_score</th>\n",
       "      <th>knn_results_k4_precision</th>\n",
       "      <th>knn_results_k4_recall</th>\n",
       "      <th>...</th>\n",
       "      <th>knn_results_k16_accuracy</th>\n",
       "      <th>knn_results_k16_f1_score</th>\n",
       "      <th>knn_results_k16_precision</th>\n",
       "      <th>knn_results_k16_recall</th>\n",
       "      <th>knn_results_k16_confusion_matrix</th>\n",
       "      <th>knn_results_k20_accuracy</th>\n",
       "      <th>knn_results_k20_f1_score</th>\n",
       "      <th>knn_results_k20_precision</th>\n",
       "      <th>knn_results_k20_recall</th>\n",
       "      <th>knn_results_k20_confusion_matrix</th>\n",
       "    </tr>\n",
       "  </thead>\n",
       "  <tbody>\n",
       "    <tr>\n",
       "      <th>161</th>\n",
       "      <td>161</td>\n",
       "      <td>0.989011</td>\n",
       "      <td>0.989011</td>\n",
       "      <td>0.989250</td>\n",
       "      <td>0.989011</td>\n",
       "      <td>[[45, 1], [0, 45]]</td>\n",
       "      <td>0.989011</td>\n",
       "      <td>0.989011</td>\n",
       "      <td>0.989250</td>\n",
       "      <td>0.989011</td>\n",
       "      <td>...</td>\n",
       "      <td>0.989011</td>\n",
       "      <td>0.989011</td>\n",
       "      <td>0.989250</td>\n",
       "      <td>0.989011</td>\n",
       "      <td>[[45, 1], [0, 45]]</td>\n",
       "      <td>0.989011</td>\n",
       "      <td>0.989011</td>\n",
       "      <td>0.989250</td>\n",
       "      <td>0.989011</td>\n",
       "      <td>[[45, 1], [0, 45]]</td>\n",
       "    </tr>\n",
       "    <tr>\n",
       "      <th>737</th>\n",
       "      <td>737</td>\n",
       "      <td>0.813187</td>\n",
       "      <td>0.812916</td>\n",
       "      <td>0.814420</td>\n",
       "      <td>0.813187</td>\n",
       "      <td>[[35, 10], [7, 39]]</td>\n",
       "      <td>0.835165</td>\n",
       "      <td>0.834766</td>\n",
       "      <td>0.839453</td>\n",
       "      <td>0.835165</td>\n",
       "      <td>...</td>\n",
       "      <td>0.835165</td>\n",
       "      <td>0.835045</td>\n",
       "      <td>0.836746</td>\n",
       "      <td>0.835165</td>\n",
       "      <td>[[39, 6], [9, 37]]</td>\n",
       "      <td>0.824176</td>\n",
       "      <td>0.824133</td>\n",
       "      <td>0.824888</td>\n",
       "      <td>0.824176</td>\n",
       "      <td>[[38, 7], [9, 37]]</td>\n",
       "    </tr>\n",
       "    <tr>\n",
       "      <th>102</th>\n",
       "      <td>102</td>\n",
       "      <td>1.000000</td>\n",
       "      <td>1.000000</td>\n",
       "      <td>1.000000</td>\n",
       "      <td>1.000000</td>\n",
       "      <td>[[46, 0], [0, 45]]</td>\n",
       "      <td>1.000000</td>\n",
       "      <td>1.000000</td>\n",
       "      <td>1.000000</td>\n",
       "      <td>1.000000</td>\n",
       "      <td>...</td>\n",
       "      <td>1.000000</td>\n",
       "      <td>1.000000</td>\n",
       "      <td>1.000000</td>\n",
       "      <td>1.000000</td>\n",
       "      <td>[[46, 0], [0, 45]]</td>\n",
       "      <td>1.000000</td>\n",
       "      <td>1.000000</td>\n",
       "      <td>1.000000</td>\n",
       "      <td>1.000000</td>\n",
       "      <td>[[46, 0], [0, 45]]</td>\n",
       "    </tr>\n",
       "    <tr>\n",
       "      <th>821</th>\n",
       "      <td>821</td>\n",
       "      <td>1.000000</td>\n",
       "      <td>1.000000</td>\n",
       "      <td>1.000000</td>\n",
       "      <td>1.000000</td>\n",
       "      <td>[[45, 0], [0, 46]]</td>\n",
       "      <td>1.000000</td>\n",
       "      <td>1.000000</td>\n",
       "      <td>1.000000</td>\n",
       "      <td>1.000000</td>\n",
       "      <td>...</td>\n",
       "      <td>1.000000</td>\n",
       "      <td>1.000000</td>\n",
       "      <td>1.000000</td>\n",
       "      <td>1.000000</td>\n",
       "      <td>[[45, 0], [0, 46]]</td>\n",
       "      <td>1.000000</td>\n",
       "      <td>1.000000</td>\n",
       "      <td>1.000000</td>\n",
       "      <td>1.000000</td>\n",
       "      <td>[[45, 0], [0, 46]]</td>\n",
       "    </tr>\n",
       "    <tr>\n",
       "      <th>61</th>\n",
       "      <td>61</td>\n",
       "      <td>0.956044</td>\n",
       "      <td>0.956033</td>\n",
       "      <td>0.956947</td>\n",
       "      <td>0.956044</td>\n",
       "      <td>[[44, 1], [3, 43]]</td>\n",
       "      <td>0.989011</td>\n",
       "      <td>0.989011</td>\n",
       "      <td>0.989250</td>\n",
       "      <td>0.989011</td>\n",
       "      <td>...</td>\n",
       "      <td>0.978022</td>\n",
       "      <td>0.978006</td>\n",
       "      <td>0.978938</td>\n",
       "      <td>0.978022</td>\n",
       "      <td>[[43, 2], [0, 46]]</td>\n",
       "      <td>0.978022</td>\n",
       "      <td>0.978006</td>\n",
       "      <td>0.978938</td>\n",
       "      <td>0.978022</td>\n",
       "      <td>[[43, 2], [0, 46]]</td>\n",
       "    </tr>\n",
       "    <tr>\n",
       "      <th>2</th>\n",
       "      <td>2</td>\n",
       "      <td>1.000000</td>\n",
       "      <td>1.000000</td>\n",
       "      <td>1.000000</td>\n",
       "      <td>1.000000</td>\n",
       "      <td>[[46, 0], [0, 45]]</td>\n",
       "      <td>1.000000</td>\n",
       "      <td>1.000000</td>\n",
       "      <td>1.000000</td>\n",
       "      <td>1.000000</td>\n",
       "      <td>...</td>\n",
       "      <td>1.000000</td>\n",
       "      <td>1.000000</td>\n",
       "      <td>1.000000</td>\n",
       "      <td>1.000000</td>\n",
       "      <td>[[46, 0], [0, 45]]</td>\n",
       "      <td>1.000000</td>\n",
       "      <td>1.000000</td>\n",
       "      <td>1.000000</td>\n",
       "      <td>1.000000</td>\n",
       "      <td>[[46, 0], [0, 45]]</td>\n",
       "    </tr>\n",
       "    <tr>\n",
       "      <th>346</th>\n",
       "      <td>346</td>\n",
       "      <td>0.989011</td>\n",
       "      <td>0.989011</td>\n",
       "      <td>0.989250</td>\n",
       "      <td>0.989011</td>\n",
       "      <td>[[45, 1], [0, 45]]</td>\n",
       "      <td>1.000000</td>\n",
       "      <td>1.000000</td>\n",
       "      <td>1.000000</td>\n",
       "      <td>1.000000</td>\n",
       "      <td>...</td>\n",
       "      <td>1.000000</td>\n",
       "      <td>1.000000</td>\n",
       "      <td>1.000000</td>\n",
       "      <td>1.000000</td>\n",
       "      <td>[[46, 0], [0, 45]]</td>\n",
       "      <td>1.000000</td>\n",
       "      <td>1.000000</td>\n",
       "      <td>1.000000</td>\n",
       "      <td>1.000000</td>\n",
       "      <td>[[46, 0], [0, 45]]</td>\n",
       "    </tr>\n",
       "    <tr>\n",
       "      <th>982</th>\n",
       "      <td>982</td>\n",
       "      <td>0.989011</td>\n",
       "      <td>0.989011</td>\n",
       "      <td>0.989250</td>\n",
       "      <td>0.989011</td>\n",
       "      <td>[[45, 1], [0, 45]]</td>\n",
       "      <td>1.000000</td>\n",
       "      <td>1.000000</td>\n",
       "      <td>1.000000</td>\n",
       "      <td>1.000000</td>\n",
       "      <td>...</td>\n",
       "      <td>1.000000</td>\n",
       "      <td>1.000000</td>\n",
       "      <td>1.000000</td>\n",
       "      <td>1.000000</td>\n",
       "      <td>[[46, 0], [0, 45]]</td>\n",
       "      <td>1.000000</td>\n",
       "      <td>1.000000</td>\n",
       "      <td>1.000000</td>\n",
       "      <td>1.000000</td>\n",
       "      <td>[[46, 0], [0, 45]]</td>\n",
       "    </tr>\n",
       "    <tr>\n",
       "      <th>67</th>\n",
       "      <td>67</td>\n",
       "      <td>1.000000</td>\n",
       "      <td>1.000000</td>\n",
       "      <td>1.000000</td>\n",
       "      <td>1.000000</td>\n",
       "      <td>[[45, 0], [0, 46]]</td>\n",
       "      <td>1.000000</td>\n",
       "      <td>1.000000</td>\n",
       "      <td>1.000000</td>\n",
       "      <td>1.000000</td>\n",
       "      <td>...</td>\n",
       "      <td>1.000000</td>\n",
       "      <td>1.000000</td>\n",
       "      <td>1.000000</td>\n",
       "      <td>1.000000</td>\n",
       "      <td>[[45, 0], [0, 46]]</td>\n",
       "      <td>1.000000</td>\n",
       "      <td>1.000000</td>\n",
       "      <td>1.000000</td>\n",
       "      <td>1.000000</td>\n",
       "      <td>[[45, 0], [0, 46]]</td>\n",
       "    </tr>\n",
       "    <tr>\n",
       "      <th>78</th>\n",
       "      <td>78</td>\n",
       "      <td>0.692308</td>\n",
       "      <td>0.690738</td>\n",
       "      <td>0.695266</td>\n",
       "      <td>0.692308</td>\n",
       "      <td>[[28, 17], [11, 35]]</td>\n",
       "      <td>0.692308</td>\n",
       "      <td>0.691861</td>\n",
       "      <td>0.694102</td>\n",
       "      <td>0.692308</td>\n",
       "      <td>...</td>\n",
       "      <td>0.670330</td>\n",
       "      <td>0.670091</td>\n",
       "      <td>0.670500</td>\n",
       "      <td>0.670330</td>\n",
       "      <td>[[29, 16], [14, 32]]</td>\n",
       "      <td>0.692308</td>\n",
       "      <td>0.691562</td>\n",
       "      <td>0.693508</td>\n",
       "      <td>0.692308</td>\n",
       "      <td>[[29, 16], [12, 34]]</td>\n",
       "    </tr>\n",
       "  </tbody>\n",
       "</table>\n",
       "<p>10 rows × 31 columns</p>\n",
       "</div>"
      ],
      "text/plain": [
       "     seed  knn_results_k1_accuracy  knn_results_k1_f1_score  \\\n",
       "161   161                 0.989011                 0.989011   \n",
       "737   737                 0.813187                 0.812916   \n",
       "102   102                 1.000000                 1.000000   \n",
       "821   821                 1.000000                 1.000000   \n",
       "61     61                 0.956044                 0.956033   \n",
       "2       2                 1.000000                 1.000000   \n",
       "346   346                 0.989011                 0.989011   \n",
       "982   982                 0.989011                 0.989011   \n",
       "67     67                 1.000000                 1.000000   \n",
       "78     78                 0.692308                 0.690738   \n",
       "\n",
       "     knn_results_k1_precision  knn_results_k1_recall  \\\n",
       "161                  0.989250               0.989011   \n",
       "737                  0.814420               0.813187   \n",
       "102                  1.000000               1.000000   \n",
       "821                  1.000000               1.000000   \n",
       "61                   0.956947               0.956044   \n",
       "2                    1.000000               1.000000   \n",
       "346                  0.989250               0.989011   \n",
       "982                  0.989250               0.989011   \n",
       "67                   1.000000               1.000000   \n",
       "78                   0.695266               0.692308   \n",
       "\n",
       "    knn_results_k1_confusion_matrix  knn_results_k4_accuracy  \\\n",
       "161              [[45, 1], [0, 45]]                 0.989011   \n",
       "737             [[35, 10], [7, 39]]                 0.835165   \n",
       "102              [[46, 0], [0, 45]]                 1.000000   \n",
       "821              [[45, 0], [0, 46]]                 1.000000   \n",
       "61               [[44, 1], [3, 43]]                 0.989011   \n",
       "2                [[46, 0], [0, 45]]                 1.000000   \n",
       "346              [[45, 1], [0, 45]]                 1.000000   \n",
       "982              [[45, 1], [0, 45]]                 1.000000   \n",
       "67               [[45, 0], [0, 46]]                 1.000000   \n",
       "78             [[28, 17], [11, 35]]                 0.692308   \n",
       "\n",
       "     knn_results_k4_f1_score  knn_results_k4_precision  knn_results_k4_recall  \\\n",
       "161                 0.989011                  0.989250               0.989011   \n",
       "737                 0.834766                  0.839453               0.835165   \n",
       "102                 1.000000                  1.000000               1.000000   \n",
       "821                 1.000000                  1.000000               1.000000   \n",
       "61                  0.989011                  0.989250               0.989011   \n",
       "2                   1.000000                  1.000000               1.000000   \n",
       "346                 1.000000                  1.000000               1.000000   \n",
       "982                 1.000000                  1.000000               1.000000   \n",
       "67                  1.000000                  1.000000               1.000000   \n",
       "78                  0.691861                  0.694102               0.692308   \n",
       "\n",
       "     ... knn_results_k16_accuracy  knn_results_k16_f1_score  \\\n",
       "161  ...                 0.989011                  0.989011   \n",
       "737  ...                 0.835165                  0.835045   \n",
       "102  ...                 1.000000                  1.000000   \n",
       "821  ...                 1.000000                  1.000000   \n",
       "61   ...                 0.978022                  0.978006   \n",
       "2    ...                 1.000000                  1.000000   \n",
       "346  ...                 1.000000                  1.000000   \n",
       "982  ...                 1.000000                  1.000000   \n",
       "67   ...                 1.000000                  1.000000   \n",
       "78   ...                 0.670330                  0.670091   \n",
       "\n",
       "     knn_results_k16_precision  knn_results_k16_recall  \\\n",
       "161                   0.989250                0.989011   \n",
       "737                   0.836746                0.835165   \n",
       "102                   1.000000                1.000000   \n",
       "821                   1.000000                1.000000   \n",
       "61                    0.978938                0.978022   \n",
       "2                     1.000000                1.000000   \n",
       "346                   1.000000                1.000000   \n",
       "982                   1.000000                1.000000   \n",
       "67                    1.000000                1.000000   \n",
       "78                    0.670500                0.670330   \n",
       "\n",
       "     knn_results_k16_confusion_matrix knn_results_k20_accuracy  \\\n",
       "161                [[45, 1], [0, 45]]                 0.989011   \n",
       "737                [[39, 6], [9, 37]]                 0.824176   \n",
       "102                [[46, 0], [0, 45]]                 1.000000   \n",
       "821                [[45, 0], [0, 46]]                 1.000000   \n",
       "61                 [[43, 2], [0, 46]]                 0.978022   \n",
       "2                  [[46, 0], [0, 45]]                 1.000000   \n",
       "346                [[46, 0], [0, 45]]                 1.000000   \n",
       "982                [[46, 0], [0, 45]]                 1.000000   \n",
       "67                 [[45, 0], [0, 46]]                 1.000000   \n",
       "78               [[29, 16], [14, 32]]                 0.692308   \n",
       "\n",
       "     knn_results_k20_f1_score  knn_results_k20_precision  \\\n",
       "161                  0.989011                   0.989250   \n",
       "737                  0.824133                   0.824888   \n",
       "102                  1.000000                   1.000000   \n",
       "821                  1.000000                   1.000000   \n",
       "61                   0.978006                   0.978938   \n",
       "2                    1.000000                   1.000000   \n",
       "346                  1.000000                   1.000000   \n",
       "982                  1.000000                   1.000000   \n",
       "67                   1.000000                   1.000000   \n",
       "78                   0.691562                   0.693508   \n",
       "\n",
       "     knn_results_k20_recall  knn_results_k20_confusion_matrix  \n",
       "161                0.989011                [[45, 1], [0, 45]]  \n",
       "737                0.824176                [[38, 7], [9, 37]]  \n",
       "102                1.000000                [[46, 0], [0, 45]]  \n",
       "821                1.000000                [[45, 0], [0, 46]]  \n",
       "61                 0.978022                [[43, 2], [0, 46]]  \n",
       "2                  1.000000                [[46, 0], [0, 45]]  \n",
       "346                1.000000                [[46, 0], [0, 45]]  \n",
       "982                1.000000                [[46, 0], [0, 45]]  \n",
       "67                 1.000000                [[45, 0], [0, 46]]  \n",
       "78                 0.692308              [[29, 16], [12, 34]]  \n",
       "\n",
       "[10 rows x 31 columns]"
      ]
     },
     "execution_count": 5,
     "metadata": {},
     "output_type": "execute_result"
    }
   ],
   "source": [
    "# Convert dict to DataFrame, drop unwanted columns, and expand dictionaries\n",
    "df = pd.DataFrame.from_dict(seed_results, orient='index')\n",
    "knn_df = df[[\"knn_results\", \"seed\"]]\n",
    "pfgap_df = df[[\"pfgap_euclidean\", \"seed\"]]\n",
    "\n",
    "# Expand dictionary columns (first level: knn_results_k*)\n",
    "for col in knn_df.columns:\n",
    "    if knn_df[col].apply(lambda x: isinstance(x, dict)).any():\n",
    "        expanded = knn_df[col].apply(pd.Series)\n",
    "        expanded = expanded.add_prefix(f\"{col}_\")\n",
    "        knn_df = pd.concat([knn_df.drop(columns=[col]), expanded], axis=1)\n",
    "\n",
    "# Expand dictionary columns again (second level: metrics inside each k)\n",
    "for col in knn_df.columns:\n",
    "    if knn_df[col].apply(lambda x: isinstance(x, dict)).any():\n",
    "        expanded = knn_df[col].apply(pd.Series)\n",
    "        expanded = expanded.add_prefix(f\"{col}_\")\n",
    "        knn_df = pd.concat([knn_df.drop(columns=[col]), expanded], axis=1)\n",
    "\n",
    "for col in pfgap_df.columns:\n",
    "    if pfgap_df[col].apply(lambda x: isinstance(x, dict)).any():\n",
    "        expanded = pfgap_df[col].apply(pd.Series)\n",
    "        expanded = expanded.add_prefix(f\"{col}_\")\n",
    "        pfgap_df = pd.concat([pfgap_df.drop(columns=[col]), expanded], axis=1)\n",
    "\n",
    "pfgap_df = pfgap_df.drop(columns=[col for col in pfgap_df.columns if col == \"pfgap_euclidean_0\" or col.endswith(\"_classification_report\")])\n",
    "knn_df = knn_df.drop(columns=[col for col in knn_df.columns if col.endswith(\"_classification_report\")])\n",
    "\n",
    "# Drop rows where all main metrics are NaN (except 'seed')\n",
    "pfgap_df = pfgap_df.dropna(subset=[\n",
    "    \"pfgap_euclidean_accuracy\",\n",
    "    \"pfgap_euclidean_f1_score\",\n",
    "    \"pfgap_euclidean_precision\",\n",
    "    \"pfgap_euclidean_recall\"\n",
    "], how=\"all\")\n",
    "knn_df"
   ]
  },
  {
   "cell_type": "code",
   "execution_count": null,
   "id": "77c85f31",
   "metadata": {},
   "outputs": [
    {
     "data": {
      "application/vnd.microsoft.datawrangler.viewer.v0+json": {
       "columns": [
        {
         "name": "index",
         "rawType": "object",
         "type": "string"
        },
        {
         "name": "seed",
         "rawType": "int64",
         "type": "integer"
        },
        {
         "name": "pfgap_euclidean_accuracy",
         "rawType": "float64",
         "type": "float"
        },
        {
         "name": "pfgap_euclidean_f1_score",
         "rawType": "float64",
         "type": "float"
        },
        {
         "name": "pfgap_euclidean_precision",
         "rawType": "float64",
         "type": "float"
        },
        {
         "name": "pfgap_euclidean_recall",
         "rawType": "float64",
         "type": "float"
        },
        {
         "name": "pfgap_euclidean_confusion_matrix",
         "rawType": "object",
         "type": "unknown"
        }
       ],
       "ref": "6b722a7d-5ba7-413b-88fc-7996f37fc41c",
       "rows": [
        [
         "737",
         "737",
         "0.8131868131868132",
         "0.8131868131868132",
         "0.8133832351223655",
         "0.8131868131868132",
         "[[37, 8], [9, 37]]"
        ],
        [
         "821",
         "821",
         "0.5164835164835165",
         "0.5163667250623772",
         "0.5167492082385698",
         "0.5164835164835165",
         "[[24, 21], [23, 23]]"
        ],
        [
         "982",
         "982",
         "0.5384615384615384",
         "0.5384615384615384",
         "0.5384615384615384",
         "0.5384615384615384",
         "[[25, 21], [21, 24]]"
        ],
        [
         "67",
         "67",
         "0.5384615384615384",
         "0.5383500557413601",
         "0.5387591132271984",
         "0.5384615384615384",
         "[[25, 20], [22, 24]]"
        ],
        [
         "78",
         "78",
         "0.3076923076923077",
         "0.3041656948267015",
         "0.3042406311637081",
         "0.3076923076923077",
         "[[17, 28], [35, 11]]"
        ]
       ],
       "shape": {
        "columns": 6,
        "rows": 5
       }
      },
      "text/html": [
       "<div>\n",
       "<style scoped>\n",
       "    .dataframe tbody tr th:only-of-type {\n",
       "        vertical-align: middle;\n",
       "    }\n",
       "\n",
       "    .dataframe tbody tr th {\n",
       "        vertical-align: top;\n",
       "    }\n",
       "\n",
       "    .dataframe thead th {\n",
       "        text-align: right;\n",
       "    }\n",
       "</style>\n",
       "<table border=\"1\" class=\"dataframe\">\n",
       "  <thead>\n",
       "    <tr style=\"text-align: right;\">\n",
       "      <th></th>\n",
       "      <th>seed</th>\n",
       "      <th>pfgap_euclidean_accuracy</th>\n",
       "      <th>pfgap_euclidean_f1_score</th>\n",
       "      <th>pfgap_euclidean_precision</th>\n",
       "      <th>pfgap_euclidean_recall</th>\n",
       "      <th>pfgap_euclidean_confusion_matrix</th>\n",
       "    </tr>\n",
       "  </thead>\n",
       "  <tbody>\n",
       "    <tr>\n",
       "      <th>737</th>\n",
       "      <td>737</td>\n",
       "      <td>0.813187</td>\n",
       "      <td>0.813187</td>\n",
       "      <td>0.813383</td>\n",
       "      <td>0.813187</td>\n",
       "      <td>[[37, 8], [9, 37]]</td>\n",
       "    </tr>\n",
       "    <tr>\n",
       "      <th>821</th>\n",
       "      <td>821</td>\n",
       "      <td>0.516484</td>\n",
       "      <td>0.516367</td>\n",
       "      <td>0.516749</td>\n",
       "      <td>0.516484</td>\n",
       "      <td>[[24, 21], [23, 23]]</td>\n",
       "    </tr>\n",
       "    <tr>\n",
       "      <th>982</th>\n",
       "      <td>982</td>\n",
       "      <td>0.538462</td>\n",
       "      <td>0.538462</td>\n",
       "      <td>0.538462</td>\n",
       "      <td>0.538462</td>\n",
       "      <td>[[25, 21], [21, 24]]</td>\n",
       "    </tr>\n",
       "    <tr>\n",
       "      <th>67</th>\n",
       "      <td>67</td>\n",
       "      <td>0.538462</td>\n",
       "      <td>0.538350</td>\n",
       "      <td>0.538759</td>\n",
       "      <td>0.538462</td>\n",
       "      <td>[[25, 20], [22, 24]]</td>\n",
       "    </tr>\n",
       "    <tr>\n",
       "      <th>78</th>\n",
       "      <td>78</td>\n",
       "      <td>0.307692</td>\n",
       "      <td>0.304166</td>\n",
       "      <td>0.304241</td>\n",
       "      <td>0.307692</td>\n",
       "      <td>[[17, 28], [35, 11]]</td>\n",
       "    </tr>\n",
       "  </tbody>\n",
       "</table>\n",
       "</div>"
      ],
      "text/plain": [
       "     seed  pfgap_euclidean_accuracy  pfgap_euclidean_f1_score  \\\n",
       "737   737                  0.813187                  0.813187   \n",
       "821   821                  0.516484                  0.516367   \n",
       "982   982                  0.538462                  0.538462   \n",
       "67     67                  0.538462                  0.538350   \n",
       "78     78                  0.307692                  0.304166   \n",
       "\n",
       "     pfgap_euclidean_precision  pfgap_euclidean_recall  \\\n",
       "737                   0.813383                0.813187   \n",
       "821                   0.516749                0.516484   \n",
       "982                   0.538462                0.538462   \n",
       "67                    0.538759                0.538462   \n",
       "78                    0.304241                0.307692   \n",
       "\n",
       "    pfgap_euclidean_confusion_matrix  \n",
       "737               [[37, 8], [9, 37]]  \n",
       "821             [[24, 21], [23, 23]]  \n",
       "982             [[25, 21], [21, 24]]  \n",
       "67              [[25, 20], [22, 24]]  \n",
       "78              [[17, 28], [35, 11]]  "
      ]
     },
     "execution_count": 6,
     "metadata": {},
     "output_type": "execute_result"
    }
   ],
   "source": [
    "pfgap_df"
   ]
  },
  {
   "cell_type": "code",
   "execution_count": null,
   "id": "506134db",
   "metadata": {},
   "outputs": [
    {
     "data": {
      "image/png": "[encoded data removed]",
      "text/plain": [
       "<Figure size 800x500 with 1 Axes>"
      ]
     },
     "metadata": {},
     "output_type": "display_data"
    }
   ],
   "source": [
    "def plot_metric_comparison(metric: str):\n",
    "    \"\"\"\n",
    "    Plots the given metric ('accuracy', 'precision', 'f1', 'recall') for both KNN and PFGAP across seeds.\n",
    "\n",
    "    Args:\n",
    "        metric (str): One of 'accuracy', 'precision', 'f1', 'recall'.\n",
    "    \"\"\"\n",
    "    metric = metric.lower()\n",
    "    metric_map = {\n",
    "        \"accuracy\": (\"knn_results_k1_accuracy\", \"pfgap_euclidean_accuracy\"),\n",
    "        \"precision\": (\"knn_results_k1_precision\", \"pfgap_euclidean_precision\"),\n",
    "        \"f1\": (\"knn_results_k1_f1_score\", \"pfgap_euclidean_f1_score\"),\n",
    "        \"recall\": (\"knn_results_k1_recall\", \"pfgap_euclidean_recall\"),\n",
    "    }\n",
    "    if metric not in metric_map:\n",
    "        raise ValueError(f\"Metric '{metric}' not recognized. Choose from {list(metric_map.keys())}.\")\n",
    "\n",
    "    knn_col, pfgap_col = metric_map[metric]\n",
    "\n",
    "    # Prepare data for plotting\n",
    "    knn_plot = knn_df[[\"seed\", knn_col]].copy()\n",
    "    knn_plot[\"method\"] = \"KNN\"\n",
    "    knn_plot = knn_plot.rename(columns={knn_col: \"score\"})\n",
    "\n",
    "    pfgap_plot = pfgap_df[[\"seed\", pfgap_col]].copy()\n",
    "    pfgap_plot[\"method\"] = \"PFGAP\"\n",
    "    pfgap_plot = pfgap_plot.rename(columns={pfgap_col: \"score\"})\n",
    "\n",
    "    plot_df = pd.concat([knn_plot, pfgap_plot], ignore_index=True)\n",
    "\n",
    "    plt.figure(figsize=(8, 5))\n",
    "    sns.barplot(data=plot_df, x=\"seed\", y=\"score\", hue=\"method\")\n",
    "    plt.title(f\"{metric.capitalize()} Comparison: KNN vs PFGAP\")\n",
    "    plt.ylabel(metric.capitalize())\n",
    "    plt.xlabel(\"Seed\")\n",
    "    plt.ylim(0, 1)\n",
    "    plt.legend(title=\"Method\")\n",
    "    plt.tight_layout()\n",
    "    plt.show()\n",
    "\n",
    "plot_metric_comparison(\"precision\")"
   ]
  },
  {
   "cell_type": "code",
   "execution_count": null,
   "id": "5ff6f4e1",
   "metadata": {},
   "outputs": [
    {
     "name": "stderr",
     "output_type": "stream",
     "text": [
      "/tmp/ipykernel_3619490/727405740.py:47: UserWarning: This figure includes Axes that are not compatible with tight_layout, so results might be incorrect.\n",
      "  plt.tight_layout()\n"
     ]
    },
    {
     "data": {
      "image/png": "[encoded data removed]",
      "text/plain": [
       "<Figure size 1000x400 with 3 Axes>"
      ]
     },
     "metadata": {},
     "output_type": "display_data"
    }
   ],
   "source": [
    "def plot_average_confusion_matrices():\n",
    "    \"\"\"\n",
    "    Plots the average confusion matrices for KNN (k=1) and PFGAP across all available seeds,\n",
    "    using a shared colorbar.\n",
    "    \"\"\"\n",
    "    # Helper to average confusion matrices\n",
    "    def average_confusion(df, col):\n",
    "        matrices = df[col].dropna().values\n",
    "        matrices = [np.array(m) for m in matrices if m is not None]\n",
    "        if not matrices:\n",
    "            return None\n",
    "        return np.mean(matrices, axis=0)\n",
    "\n",
    "    # Average KNN confusion matrices (k=1)\n",
    "    knn_avg = average_confusion(knn_df, \"knn_results_k1_confusion_matrix\")\n",
    "    # Average PFGAP confusion matrices\n",
    "    pfgap_avg = average_confusion(pfgap_df, \"pfgap_euclidean_confusion_matrix\")\n",
    "\n",
    "    # Determine global min/max for color scale\n",
    "    all_matrices = [m for m in [knn_avg, pfgap_avg] if m is not None]\n",
    "    vmin = min(m.min() for m in all_matrices)\n",
    "    vmax = max(m.max() for m in all_matrices)\n",
    "\n",
    "    fig, axes = plt.subplots(1, 2, figsize=(10, 4), gridspec_kw={'width_ratios': [1, 1], 'wspace': 0.3})\n",
    "\n",
    "    ims = []\n",
    "    for ax, avg_mat, title in zip(\n",
    "        axes,\n",
    "        [knn_avg, pfgap_avg],\n",
    "        [\"KNN (k=1) Average Confusion Matrix\", \"PFGAP Average Confusion Matrix\"]\n",
    "    ):\n",
    "        if avg_mat is not None:\n",
    "            im = ax.imshow(avg_mat, cmap=\"Blues\", vmin=vmin, vmax=vmax)\n",
    "            ims.append(im)\n",
    "            for i in range(avg_mat.shape[0]):\n",
    "                for j in range(avg_mat.shape[1]):\n",
    "                    ax.text(j, i, f\"{avg_mat[i, j]:.1f}\", ha=\"center\", va=\"center\", color=\"black\")\n",
    "            ax.set_xlabel(\"Predicted\")\n",
    "            ax.set_ylabel(\"True\")\n",
    "            ax.set_title(title)\n",
    "            ax.grid(False)\n",
    "        else:\n",
    "            ax.set_visible(False)\n",
    "\n",
    "    # Shared colorbar for both plots\n",
    "    fig.colorbar(ims[0], ax=axes, orientation='vertical', fraction=0.04, pad=0.04)\n",
    "    plt.tight_layout()\n",
    "    plt.show()\n",
    "\n",
    "plot_average_confusion_matrices()\n"
   ]
  },
  {
   "cell_type": "code",
   "execution_count": null,
   "id": "6d9dbc4e",
   "metadata": {},
   "outputs": [
    {
     "data": {
      "application/vnd.microsoft.datawrangler.viewer.v0+json": {
       "columns": [
        {
         "name": "index",
         "rawType": "object",
         "type": "string"
        },
        {
         "name": "seed",
         "rawType": "int64",
         "type": "integer"
        },
        {
         "name": "outlier_scores_pfgap",
         "rawType": "object",
         "type": "unknown"
        },
        {
         "name": "outlier_scores_knn_k1",
         "rawType": "object",
         "type": "unknown"
        },
        {
         "name": "outlier_scores_knn_k4",
         "rawType": "object",
         "type": "unknown"
        },
        {
         "name": "outlier_scores_knn_k8",
         "rawType": "object",
         "type": "unknown"
        },
        {
         "name": "outlier_scores_knn_k12",
         "rawType": "object",
         "type": "unknown"
        },
        {
         "name": "outlier_scores_knn_k16",
         "rawType": "object",
         "type": "unknown"
        },
        {
         "name": "outlier_scores_knn_k20",
         "rawType": "object",
         "type": "unknown"
        }
       ],
       "ref": "84f4a8cd-486d-45f8-9fa7-033a40e45393",
       "rows": [
        [
         "737",
         "737",
         "[0.7520358691205588, 1.5666516750588368, 0.0010224065182282147, 0.6253952067773373, 0.0014045341725301838, 0.06509132336732264, 0.47483911400450246, 0.6938919869432709, 0.2806040428674985, 0.007015617265838319, 0.0002984560878612122, 0.9261800541120798, 0.0007467219183107042, 0.7609113978844363, 0.001408654486481377, 0.13778553756254117, 0.0007944611477567324, 0.0008633178560681264, 0.0015737880822595085, 0.0020838923448136034, 0.6873902388665044, 0.0007111425160882912, 0.42326605914578574, 0.00034828036016024654, 0.0010620722101746388, 0.0011869876505078906, 0.3157817393522021, 0.40056479471543954, 0.7995000108271345, 0.0019553264327107785, 0.0009298707713191908, 4.971135912228473e-05, 0.0013868376353099528, 0.8448993893345166, 0.0014677660022064717, 0.24895393189224413, 0.001863080112904835, 0.22392063540397222, 6.024711459991142e-05, 2.8613088447654724, 0.0017041778008532696, 0.0008246710065823114, 0.14501328313985842, 0.054324318930187625, 0.0012946551826069227, 0.5612371768953032, 1.024879367278267, 0.07386093603262713, 0.4505790252795104, 0.0017608827976475648, 1.725271855545201, 0.20323639196774132, 0.23379756199534452, 2.1846984479829366, 0.6563297262106855, 0.672789509403073, 0.5230881126836076, 0.0019517996580070964, 0.9230066089524448, 0.002840121816913974, 0.0010943046381718094, 0.0018660860044183156, 0.0007306424193803073, 0.0001517875108721272, 1.4224725951773836, 0.7682516804567766, 0.8012831579445372, 0.000688585661229892, 0.20549907025676575, 0.8537428290188085, 0.8657386606538207, 0.6789291400539561, 0.6703472189888569, 0.0057141303661206256, 0.5207636074099301, 0.0004977118365121306, 0.6890632781663597, 0.5350416176059103, 2.379283513278513, 0.0018959243015446527, 0.002714324174457453, 0.34807323255707734, 0.0014276241891667978, 0.7013016643513729, 9.111245491468294e-05, 0.12516639459456996, 1.1958753504790844, 0.8741570812914685, 0.5192375575416184, 0.0016905925175079721, 0.28701203461404146, 0.7045278999498351, 0.1098663248008576, 0.0015512161425661139, 0.00040919812431714663, 0.17103529499779424, 3.88766121738666, 0.00027934727102289124, 0.38046897483011427, 1.443584286351108, 1.015891069015207, 0.5538864050732059, 0.9044934824395212, 0.0009577975382781415, 15.39238006400905, 0.0006686897286671852, 0.8038707439544092, 0.004487971986486283, 0.08698458157386081, 0.15603699695642423, 0.0011072590486654401, 0.001207237091123898, 0.09415435152597791, 0.001144165790845466, 4.882419286489755, 0.0, 0.30640003401083377, 0.0022382933248951092, 51.887442933191615, 0.22849237380443907, 0.0004679909470667671, 0.006424984794407077, 0.665479677596026, 3.1592013329632894e-05, 1.0202755763778408, 0.0003314021783686341, 0.05972292131641337, 0.001062743642733593, 1.0273541477729236, 0.00032857651558805664, 0.0010025987431530729, 0.019316982379000144, 0.0006234024937252404, 0.8068223828167926, 1.7012311592477007, 0.0018115374654401016, 0.37551136070593744, 51.887442933191615, 0.00033846118271039995, 0.0006645936691318222, 0.3286207106179008, 0.001958319237920717, 0.0012056460078120048, 0.9697796726087476, 0.0005448930202317165, 0.00013236875242663893, 0.06473698263436704, 16.27119029828731, 0.0019507962854572371, 0.0002335334514784708, 0.001038865519951801, 0.0012877560916391116, 0.0003582604974418587, 0.8816258020750083, 0.000310244894952068, 0.0022391211944159098, 0.00044597711240220166, 0.0005166783869523806, 0.001964940375150949, 0.43002249846428575, 0.0011710830191142326, 0.0008141795361247998, 0.0002623528885409391, 1.7598993874457518, 0.0016188947896851624, 0.12711643790300975, 0.4211890586563577, 0.547240835967273, 0.869977661016519, 0.7619039549616603, 0.8875315862728822, 0.3591061600662317, 0.6828876555478932, 0.0019500405201685418, 0.0009651300015976725, 0.2988187498309803, 0.0008343729856688634, 0.001684724462867119, 0.0002822760823264305, 0.00418496257501449, 0.013061955871780034, 0.0026088463355260216, 0.0006180446058176922, 0.00021066472568893215, 0.001895197760595286, 0.001225156761876426, 0.5186087853224937, 0.7810688983570776, 0.28401965272959234, 0.005063514595944645, 0.001163335511758293, 0.3331023636846758, 3.1592013329632894e-05, 0.419216734278465, 0.7854960875431064, 0.22093053244407154, 0.005314503554327407, 0.0006687590808235402, 0.6125318884910029, 0.430510721772342, 0.005314503554327407, 1.1196893419929792, 0.00047087779881065166, 0.1420933155871099, 0.0011089060185567148, 0.000800535255012569, 0.0010712766806779193, 0.001163335511758293, 0.0019491155360086977]",
         "[0.0, 0.0, 0.0, 0.0, 0.0, 0.0, 0.0, 0.0, 0.0, 0.0, 0.0, 0.0, 0.0, 0.0, 0.0, 0.0, 0.0, 0.0, 0.0, 0.0, 0.0, 0.0, 0.0, 0.0, 0.0, 0.0, 0.0, 0.0, 0.0, 0.0, 0.0, 0.0, 0.0, 0.0, 0.0, 0.0, 0.0, 0.0, 0.0, 0.0, 0.0, 0.0, 0.0, 0.0, 0.0, 0.0, 0.0, 0.0, 0.0, 0.0, 0.0, 0.0, 0.0, 0.0, 0.0, 0.0, 0.0, 0.0, 0.0, 0.0, 0.0, 0.0, 0.0, 0.0, 0.0, 0.0, 0.0, 0.0, 0.0, 0.0, 0.0, 0.0, 0.0, 0.0, 0.0, 0.0, 0.0, 0.0, 0.0, 0.0, 0.0, 0.0, 0.0, 0.0, 0.0, 0.0, 0.0, 0.0, 0.0, 0.0, 0.0, 0.0, 0.0, 0.0, 0.0, 0.0, 0.0, 0.0, 0.0, 0.0, 0.0, 0.0, 0.0, 0.0, 0.0, 0.0, 0.0, 0.0, 0.0, 0.0, 0.0, 0.0, 0.0, 0.0, 0.0, 0.0, 0.0, 0.0, 0.0, 0.0, 0.0, 0.0, 0.0, 0.0, 0.0, 0.0, 0.0, 0.0, 0.0, 0.0, 0.0, 0.0, 0.0, 0.0, 0.0, 0.0, 0.0, 0.0, 0.0, 0.0, 0.0, 0.0, 0.0, 0.0, 0.0, 0.0, 0.0, 0.0, 0.0, 0.0, 0.0, 0.0, 0.0, 0.0, 0.0, 0.0, 0.0, 0.0, 0.0, 0.0, 0.0, 0.0, 0.0, 0.0, 0.0, 0.0, 0.0, 0.0, 0.0, 0.0, 0.0, 0.0, 0.0, 0.0, 0.0, 0.0, 0.0, 0.0, 0.0, 0.0, 0.0, 0.0, 0.0, 0.0, 0.0, 0.0, 0.0, 0.0, 0.0, 0.0, 0.0, 0.0, 0.0, 0.0, 0.0, 0.0, 0.0, 0.0, 0.0, 0.0, 0.0, 0.0, 0.0, 0.0, 0.0, 0.0, 0.0, 0.0, 0.0]",
         "[1.2340020308102542, 4.582605017664969, 0.3547294602563024, 1.7294065242266912, 0.582711016194811, 0.12525598334787447, 0.22295974561456505, 0.23020059011023528, 2.264920715439177, 24.388131120790085, 1.1103777617382111, 0.6424131991010078, 0.5369745377751709, 0.645766892064955, 1.981667481200355, 0.8338005217550345, 0.03373333594140707, 0.20209078412573828, 1.6850836191376912, 1.120193415081288, 3.9173904345730457, 0.8857529323518288, 0.19797895536606774, 0.3893166350818833, 0.09339543529501398, 1.3719264027995157, 0.8857529323519926, 1.397447555718815, 1.2116263818679658, 7.319064667923287, 8.14483174326862, 1.3949654614144955, 0.5919444409243214, 1.6921735888184344, 4.86799645533202, 0.7443462911405677, 1.598639218892207, 4.335389013521911, 1.1455096993268075, 2.323860943048637, 4.367826223734092, 1.480874761311679, 0.2838537509393328, 0.9431338588131738, 0.9485513816187542, 0.6584884814190737, 1.980269909267993, 6.752146514882592, 0.04271408861989038, 2.4355320421691062, 2.3245393704314496, 5.8666894813566834, 0.8451498919562908, 1.4190535424344395, 2.12638315507419, 6.362235860660123, 0.3459998240113567, 0.8537205323349671, 0.869365624843963, 0.4008778810640316, 5.665031269082278, 1.6233009224998198, 0.12662649883083518, 1.232605002413556, 0.9385590971472613, 1.2020158306274904, 1.7217303301238196, 0.9911246768570835, 0.9673600515495459, 0.28516232020299637, 0.21855161222246763, 1.755521484270003, 0.44890925940412035, 1.4343465201496344, 0.4789356284707725, 0.8997856955484622, 0.7037853569275272, 0.1386084141747118, 0.5063178913586166, 1.2637433416711246, 0.06688577130528217, 0.14024117695883137, 0.07517875358702986, 0.6340772929585392, 2.0306697006604892, 0.611797009827124, 1.1664766851809696, 1.614616211228121, 1.3583454380056603, 1.412439073701194, 0.053744442060575964, 0.26053283407360217, 0.5540768956563531, 2.961110843363275, 0.6535517335992177, 8.007338563720237, 0.47189881244217025, 0.21656961126983923, 0.04588151913267178, 0.5754482949330211, 1.3247074972558759, 3.9224188211651576, 0.055725550546681824, 1.4567107663088257, 1.1938898536484461, 0.49260556330594213, 1.4094477922043285, 2.1885181572989802, 1.9063896832534846, 0.5799815922799374, 1.63066953604392, 1.922121565072613, 0.7871572079360251, 0.8220700166745464, 0.30843884912453834, 0.23651456489846273, 1.7805352804372565, 2.341302830181621, 1.264132819392049, 0.19261912618789545, 1.0683416759924005, 1.1420642350474473, 0.9841944662168501, 1.6492548158384819, 1.0295476002101362, 0.31859043496190914, 0.2018171293158878, 1.6793287986336118, 0.7028652954992145, 0.0018340784508159666, 1.634581123101998, 1.6022466836812097, 0.18368700775534946, 1.1692696449384086, 5.2099483798535005, 0.41803382559203156, 0.8373792383594749, 1.404087993064901, 15.162442138455406, 0.9195560678940563, 0.2041662551291217, 1.4122368002970636, 2.238860556043792, 1.2929726077599306, 1.1821179041878902, 0.6999507852327048, 0.6811677560160737, 1.1972956242453006, 0.42280336887778297, 1.7963678577809417, 1.5536647352695587, 0.3387856544673704, 1.6103245442647516, 1.3774992808453437, 1.3235436514400312, 10.20492496087444, 0.6202779249972079, 3.9271729400406663, 1.1198264273934968, 1.0847055138532076, 9.982952148409685, 1.3858770529240911, 2.253470319801552, 0.981863728027199, 0.4064775358815241, 2.267162593781374, 6.583544972045371, 0.686777956808015, 0.910299722532354, 1.0, 1.5197361709395405, 1.4146579645140442, 1.215970531327356, 3.4234983979545897, 0.7699196368995441, 0.27181090109765965, 0.5797041120546359, 0.3560187329283926, 3.4681744808592305, 17.62968379077235, 1.8688478248596876, 0.4595570402142109, 0.3016477962219329, 0.12042154435556161, 0.931261755170885, 0.13428639037460213, 0.9786143093735573, 0.6575046988470071, 0.3604842170029577, 0.8275700601869028, 0.15031427102703745, 1.5369899643878777, 0.36801575618998766, 0.7331074696938763, 1.6925157248180225, 1.762762953678951, 1.2838426393571702, 0.9575839894628402, 6.6437810384671545, 0.7369421547974371, 0.5771646024495912, 0.7358197823939816, 0.6117970098269027, 1.2578498137479235, 0.0, 1.3527133943758998, 0.9546307108143993, 0.9410988048010906, 1.4824948306263268]",
         "[1.035009988970251, 4.328956124369376, 0.32685712340069467, 1.8558180733162568, 0.5840766544232027, 1.1201943743331593, 0.1647850626620059, 0.24209788750471936, 1.8411734442001453, 21.59306606290638, 1.2718403478786242, 1.0198975354328463, 0.9722721467296565, 0.7060215175602443, 0.27664284723248994, 0.210863734178052, 0.24471230625529608, 0.46292278263692915, 1.8825315723445395, 0.8610488264580174, 5.09706056650827, 0.45310112111341266, 0.3240069650892548, 0.19482616487869364, 0.24889211813408876, 1.5863398554978136, 0.4919684035005802, 0.6622534623626958, 0.8646663854210288, 7.602109879186551, 9.553146485056157, 0.9776607332744486, 0.3421597924066535, 2.0493917089210614, 7.123168930774585, 2.1584997951400764, 1.0595090679844144, 3.3108276924267295, 1.0749107116219445, 1.5639346647539336, 4.36055619286348, 1.8794135872760174, 0.0, 1.2689865943448944, 1.027891018535072, 0.4421276755267582, 2.0040778698466046, 7.419645921996466, 0.3287581281554133, 1.7224005695290163, 2.0295381300820936, 6.60768113691122, 1.198209739384215, 1.8548493088331548, 2.413708170069759, 9.156539005862664, 0.2878627016180491, 0.9871832565111825, 0.487911873643206, 0.79326845795425, 4.945735570859203, 1.8434432166652108, 0.12295821155743866, 1.1164486777818972, 0.6481947469379187, 1.1425523490839944, 0.4810984386596918, 0.9517890836882161, 2.0233513187182557, 0.17193122872567057, 0.28647805143479005, 2.3292140467670444, 0.43772864529337535, 1.6380549213090383, 0.029069215440415883, 0.961678061866779, 0.9116803417140964, 0.12693788256150293, 0.3910066165856003, 0.24203870561038268, 0.054391385345659106, 1.0634490088295339, 0.5658051234516399, 0.15557769851349976, 0.05953930600875978, 0.47466017601995014, 2.279607834872589, 1.9076894582734938, 1.6218559180497951, 1.376781698148316, 0.2770204942179836, 0.6125635795675349, 0.24935195207962382, 2.5066270926745156, 0.15703418819786094, 9.312253528076385, 0.6375408601881738, 0.365708170240473, 0.033049607098421974, 1.6211802769475805, 1.3479323010013953, 3.783814084379397, 0.9850065523972574, 1.0730871679637424, 1.6740114092308416, 0.8586073977505978, 1.1561657760946267, 1.419038561971722, 2.656081204415022, 0.3562595530703209, 0.8264293170674581, 1.7789728271429155, 0.5446330604857557, 0.1505809265071506, 0.9118420702310385, 1.322324762824012, 1.9200728027233516, 3.3275879403482116, 1.0, 0.04143114063731869, 0.8934454960239401, 0.8517219576463276, 1.1980263776481808, 1.8422848988495275, 1.1845493102758138, 0.209491946131448, 0.09544619435416225, 1.190134954975193, 1.2226219594439003, 0.04424440636139565, 1.2780441264011917, 1.6601092219022229, 0.5752900675793234, 1.1429110819990298, 4.817990870376808, 0.1828583744466254, 0.6593111975977471, 1.8004576899877216, 13.633176037501647, 0.6903097335071586, 0.4101678962127236, 0.8351322980445437, 1.9724657537525603, 1.454418662140462, 0.996962561311223, 0.7052269064695247, 2.065946988837102, 0.6871484919384175, 0.39162150477304764, 0.18430607291433482, 0.11527931813169992, 0.44473028216048893, 1.8618318568435375, 0.3338756947778247, 0.8243155177023906, 11.071097226168442, 0.49204487166192334, 5.434110169375791, 1.0282915588392874, 1.079431496101899, 9.315291654513006, 1.1567078535725004, 2.4395004790854373, 1.0173162478315898, 0.021874630647777688, 1.6094575101581965, 7.5443258536708155, 0.8406330450885864, 1.3315796247123104, 1.4473791309761925, 1.931877884874764, 1.3497773617086843, 1.147691858694762, 3.5744655725566097, 0.06838356008990862, 0.08702845883853509, 0.029701316233266273, 0.03271216412663604, 3.3961290031625038, 15.32676338359073, 1.8547185030034676, 0.5661962672613291, 0.07092107331730113, 0.12459503921064538, 0.23631028367293924, 0.35162245174283685, 1.3041925588310197, 1.2734104099879289, 0.24402541723303073, 0.29845250073763036, 0.5733919028664033, 1.5381370556786578, 0.26229821623304667, 0.447889863870606, 1.6470817365157442, 2.5760194700961265, 0.7459212888597304, 0.17204901686650265, 5.8394735030014315, 2.0450532516910487, 0.9763974941072612, 0.3501247701936032, 0.03853086809311635, 1.6936559761988919, 0.5590490923235586, 1.1356957744129903, 1.1643074313696022, 1.108450256449332, 0.9165652763363865]",
         "[1.0280698865735738, 4.514265983069524, 0.21262458538763745, 2.107559180221921, 0.8034079176171806, 1.2339526774910272, 0.08433658931956901, 0.33808475573101304, 1.4964145296496236, 20.386534248932143, 1.4729599366242834, 1.3137676461212309, 1.2404015440678136, 0.49620270430301017, 0.15007193468907826, 0.019779568550553458, 0.5730518433715321, 0.7512686619208939, 2.1958724713604685, 0.6385484581165133, 5.992442375322644, 0.46282369927641287, 0.13705874379731794, 0.19192569180602162, 0.26241702855669197, 1.9189410242416494, 0.44038837469203124, 0.297071129912875, 0.3420895729450147, 7.607879046886727, 10.32106592127473, 0.7812970760945088, 0.16601215857069812, 2.2276175461743932, 7.401667398753048, 2.8085168898976995, 0.7743715811247808, 2.859754314017543, 1.0831503748666118, 1.6428601452366534, 4.139335445144899, 1.9903583246918832, 0.4606727785231497, 1.530683721060989, 1.4325742603583531, 0.6509382319960457, 2.0135229693618815, 7.547449970550659, 0.32389382041911874, 2.2212148726316467, 2.2454344099165784, 6.751502811306646, 1.5787676776307606, 2.082607903896048, 2.78420033506395, 10.089133190450466, 0.3870438401670442, 0.3739241022730913, 0.2784931418327264, 1.080616568476377, 4.356479684221943, 2.087882249846233, 0.1559999022682536, 1.0171268669354225, 0.2596597608523031, 1.179474453398288, 0.40238898515289967, 0.4323413161134725, 2.2259554599007005, 0.2809260461284007, 0.3869009195604747, 2.488611959600362, 0.39691690938982804, 1.7025274294457753, 0.3238899079230065, 1.3247536224635392, 1.2013370585491345, 0.03420391156594723, 0.4083319161351708, 0.042080754080808004, 0.05782330761875955, 1.1393136454071027, 0.9998622900744698, 0.1723745799604356, 0.4815550093657747, 0.3389530650478455, 2.7621178256142906, 2.2270515823490347, 1.9021810545025666, 1.4940921314551592, 0.2673699911914639, 0.7301072826306018, 0.0052422591576278335, 2.3067894268645337, 0.11719141083722821, 10.570188715188625, 0.6120239813964229, 0.5638336084641896, 0.0, 1.5690349448049168, 1.401199774100101, 3.5653116772737072, 1.1946012274438949, 0.7825269829561783, 1.9482472206232055, 0.9776932505728249, 1.2021095784961164, 0.948210353522234, 2.878747523581949, 0.040797715001431145, 0.3653072539398062, 1.5496022027409297, 0.6762668417755134, 0.12178250514109842, 1.0034824186511886, 1.5470861537641736, 2.1646492666115615, 3.227986041195892, 0.9406245347488061, 0.15992245709022507, 0.5724241689638542, 1.1237675025477964, 1.5300833357229322, 2.157490528453463, 1.2807831042665403, 0.01068886276440068, 0.08941723789728984, 0.7873164094913121, 1.3571291718751417, 0.10856452692185878, 1.0, 1.723128095109977, 0.3864939302989945, 0.8103868107798808, 4.815511613147842, 0.0220690358124754, 0.24663359198605125, 2.1359280625679578, 13.163699324881303, 0.5196333890023611, 0.2875545342897737, 0.6061549780592778, 1.8251183281485022, 1.5348034680214355, 0.9940813686112544, 0.5668963960159844, 2.1365364163279277, 0.7172074572954407, 0.5012324182167923, 0.4847158275940265, 0.23792645841962898, 0.42210233111753576, 2.0538721409746197, 0.30887453700096856, 0.31470437856188466, 10.957837814560664, 0.6063448164263129, 5.643632701698837, 1.0498719411759112, 1.2989944657958612, 9.007359914414645, 0.9244392079894761, 2.173394120785603, 1.0792406510656163, 0.030438378688043412, 1.1917117688420455, 7.629561992853163, 0.5291270390957943, 1.7213462152741597, 1.39353717222161, 2.2854235287113296, 1.569354392996498, 1.0468520378826511, 3.850173961753496, 0.19044872591856024, 0.24688698373367762, 0.42359408859380865, 0.06539409847310865, 3.2053549007715816, 14.119741478869884, 1.8872233370103721, 0.48788256269430696, 0.07519440023020164, 0.24345997896332125, 0.04369574400793718, 0.4952842197335644, 1.7319642898327317, 1.6383579361226466, 0.10716200868601224, 0.10396076206970055, 0.9554755336621426, 1.563577544344442, 0.08482603026510908, 0.5384238377720076, 1.860682266265218, 3.069013962721857, 0.7811376998639287, 0.2509880381891267, 5.665698661836428, 2.711498446825167, 1.3551749956085466, 0.05839479628504816, 0.20691055020989604, 1.8028197544539404, 0.9853549197281734, 0.8853155094956737, 1.2892875905146568, 1.402020949040864, 0.6997602601835388]",
         "[1.1566283655681295, 4.295164939834691, 0.6738690834877901, 2.003342845496513, 0.8764354966315382, 1.1553188153471672, 0.08204800508547187, 0.513238227499571, 1.6183513452016156, 17.847818072337503, 1.4540501139375792, 1.3254149016240757, 1.226198481171622, 0.28238866760008946, 0.20858801876084243, 0.01495411664193011, 0.41994122273760465, 0.7994752124626373, 1.8746624531026443, 0.5345300805528219, 5.861880058911274, 0.272371248638472, 0.0530276544779831, 0.17808351545467782, 0.34270859719832375, 1.9698049905287187, 0.4473326082346857, 0.0, 0.23473448652423132, 6.932591902879829, 9.55080570622204, 0.006966651084744758, 0.06261980243168752, 2.129534969798068, 6.772068729901195, 2.769158468064845, 0.5052753541691748, 2.369611917102675, 1.0842269985104862, 1.8015491704892157, 3.7288775802551943, 1.7279233981708926, 0.7247643943804157, 1.557363028024777, 1.50117803771245, 0.7543447950626774, 1.8114167262903615, 6.8389621233894555, 0.22278545953293036, 2.174236947649052, 2.1725617434691555, 6.223564887576654, 1.635754431528237, 1.794197647814348, 2.7245556333097714, 9.672011470297035, 0.3449459906417411, 0.008763704906467697, 0.1037863600490695, 1.1755411277032186, 3.690617907780897, 2.09655225463568, 0.032537384331234265, 1.3214986121450571, 0.06077120506276068, 1.133803104230885, 0.3376285661714944, 0.15439290424848345, 2.0888005844204747, 0.343205279566898, 0.38706151046301907, 2.125283541013111, 0.4892440874933326, 1.4926842427236569, 0.49686812068190267, 2.087871272966303, 1.2871780278759126, 0.14525073191581525, 0.3250809527786993, 0.004356375516132449, 0.04950591486266977, 1.0, 1.1017945352004148, 0.35124206529678004, 0.4510326142348838, 0.23405899873840505, 2.983123857742688, 2.2433330866573438, 1.8709219396551957, 1.5273247457177197, 0.3732821163371035, 0.8001734072050838, 0.17871744383141466, 1.951991346053534, 0.3241968685699245, 10.017299391996469, 0.6755014855159777, 0.42169671755011234, 0.11322276593536164, 1.314719388374508, 1.4340004047233845, 3.3100805040677974, 1.0724573638816899, 0.005562446638514854, 1.7287439180765272, 0.8490180992751771, 1.2232793403422546, 0.6144860016841922, 2.942602663939706, 0.16111350151645323, 0.36777545495082437, 1.3192934354022645, 0.5933917136113429, 0.11061940035929994, 1.049569130801111, 1.426052223694348, 2.110594117621939, 2.7444232006507554, 0.7280449294122003, 0.09659533790767416, 0.3208067711189561, 1.251414573904763, 1.6057777992684719, 2.619111859334524, 1.2081866984192644, 0.025200746050905932, 0.1299353022829716, 0.666539916237208, 1.2342799639512327, 0.2750907032164723, 0.8401520171517569, 1.6281356845552128, 0.21654660161039305, 0.7312571661462437, 4.493167239900276, 0.20385798606716768, 0.04802011390932593, 2.0668114586331208, 11.809596501744739, 0.4097722422029116, 0.038144112639074274, 0.6004701263767441, 1.5956167572974316, 1.5073812526284691, 0.868424669785871, 0.040594927379536946, 1.9498804035216455, 0.757409970491402, 0.36791389196854973, 0.4399389044750242, 0.3504564689688176, 0.32296256997740813, 2.004445025859643, 0.23054677660463324, 0.10351055846543308, 10.09324691039876, 0.6649801988358317, 5.065377517923517, 1.064318036625911, 1.4084639290859124, 7.922342254033888, 0.7904333469038062, 1.7161853438957346, 1.0812773895910428, 0.03646312405489135, 0.8979811736757363, 7.237139369990074, 0.23105887411037826, 1.7527711719977666, 1.2173532988961582, 2.2339622598778583, 1.6024743164033688, 0.8235934460994119, 3.522604390132668, 0.3457688290872927, 0.4097735814800425, 0.42893816924547457, 0.07116814235712221, 3.196141532102357, 12.428990016117055, 1.7090847014556312, 0.4282781086053366, 0.12093784392924975, 0.1758453914921191, 0.014424695788211647, 0.690185752615576, 1.9397038715249704, 1.6679492895876007, 0.308177436979149, 0.3477848832493561, 1.1153140825166528, 1.4202540658848395, 0.3668163712343593, 0.5642752590437043, 1.7218320659133073, 3.297546366086959, 0.7998891971898978, 0.4692862928340696, 5.035149901670429, 2.6632372187589, 1.3136207511298466, 0.04362216016779001, 0.1664469722731324, 1.5743648073385408, 1.1353929118085202, 0.6848508183366631, 1.325117103526795, 1.4972899517604277, 0.663025588128323]",
         "[1.3328280737479012, 4.714592280886095, 1.1953678864774537, 2.131312637590401, 0.8956582765157655, 1.1569730678278178, 0.21346996238257418, 0.5742951643035692, 1.8222802065307837, 17.39369056017529, 1.545789715437715, 1.4651017885282296, 1.3049079215794706, 0.27462324070274763, 0.19773489131893598, 0.11429683444710823, 0.12981441409553235, 0.7446259640558593, 1.6870515269886923, 0.4693926911582214, 6.029134436658837, 0.09435809781122227, 0.018571910680380256, 0.06460828836094043, 0.4199584207333074, 2.0715379606643896, 0.288589822961601, 0.2530250555153969, 0.31064820755755707, 6.8909559552235295, 9.64942591736744, 0.551648729075059, 0.20086516923842757, 2.230926943749407, 6.650728560158125, 2.93028950561309, 0.3195594572697793, 2.277009206204335, 1.1578664044117666, 2.0427533406343, 3.7232405770908295, 1.5570180770779707, 0.9338553620079362, 1.7025573155007319, 1.6644231577122324, 0.9631483324521459, 1.6574942700452353, 6.871971351145029, 0.08614570923622801, 2.2314498823299216, 2.174846742249549, 6.195710923434564, 1.8370070840191854, 1.6373757901423942, 2.9013556475310134, 9.92631888858087, 0.3475855225135203, 0.1642750487032132, 0.08425922224895707, 1.3424415621686543, 3.5255638657571517, 2.1814523193400444, 0.06858258864545877, 1.7669253814663248, 0.1787758592732629, 1.168593906701286, 0.2440515895474028, 0.5316435191161967, 2.2467516939966075, 0.483690937478787, 0.32094600702682563, 1.9362342933341197, 0.7289897854132021, 1.39905852907508, 0.6499508001120274, 2.6474918184177914, 1.4301882954831384, 0.3370533347051282, 0.30566996124772366, 0.06266289069168567, 0.011007992933613335, 0.9736685545828359, 1.2146712683187975, 0.5746916483613657, 0.3763066525965473, 0.27399366229982774, 3.421104610700742, 2.3147926864885684, 2.0099646268830247, 1.7167491862936963, 0.6099220040680277, 0.9794745113748283, 0.25522866251966275, 1.8376011833451744, 0.5100216389114992, 10.171813483641523, 0.8012851098552923, 0.3567828240561447, 0.18694476061137913, 1.2415484284535165, 1.593096158827015, 3.432288705699098, 1.0, 0.5037073367508109, 1.621619139098633, 0.839088144427686, 1.2020506705285117, 0.38720076854935953, 3.39774493215935, 0.29106310473096375, 0.4528668277991786, 1.2393402494521044, 0.5884356483445716, 0.10218162351354537, 1.120347125161454, 1.3698684303030961, 2.288479003183211, 2.694650484060023, 0.6005978441787567, 0.15229771945128487, 0.20043871622494874, 1.442996556577295, 1.8245720789588316, 3.122235486882275, 1.3097888975479748, 0.12524245702622125, 0.17503221692734955, 0.6279643582451571, 1.210874490701564, 0.3609549750916514, 0.8457703641704012, 1.5496281657068363, 0.10714207386655811, 0.7876435424333548, 4.454064885078657, 0.3553107668464312, 0.12614288206399776, 2.1858300446966217, 11.695545404278526, 0.28250484447142515, 0.0964520693602518, 0.6035850757663546, 1.604184113439347, 1.641164075620358, 0.9011026035900732, 0.4054656710144227, 1.883126870556269, 0.8219733977790602, 0.20697015038907715, 0.3432418872919151, 0.3611745717669248, 0.2768885517160154, 2.1376518268828693, 0.11640674711317521, 0.0, 10.181541482968814, 0.7529302365060168, 5.037926813608747, 1.1976294351382017, 1.622069005070928, 7.737482646155553, 0.6879901148524429, 1.4896159793614323, 1.1998271966517955, 0.07122337285570082, 0.9199165147444552, 7.431021777403951, 0.16174312679603312, 1.845793816719256, 1.1422474996790204, 2.334526391913441, 1.7998771059371985, 0.7881630089770371, 3.4954263812770012, 0.41347903356539506, 0.5595674598586787, 0.3712543627722882, 0.057011262242492255, 3.2806015597125615, 12.073821565285982, 1.592337036481531, 0.374452904817122, 0.2770369822992174, 0.08970539219291715, 0.036678835639436275, 0.9438046078274891, 2.221077722839894, 1.8736875905673842, 0.4293398772868319, 0.6038682297317202, 1.314554189409206, 1.3596888670456155, 0.8545528582711266, 0.7027013522425761, 1.8444338974049648, 3.5932608735356886, 0.8588804965642945, 0.5843310434353639, 5.124840687096245, 2.8045984417959615, 1.3374170302053485, 0.06330404144413634, 0.07879845589890651, 1.4588554439425812, 1.2716362992074703, 0.6436049756317455, 1.3740246592404612, 1.7388428040177022, 0.6998105937894308]"
        ],
        [
         "821",
         "821",
         "[2.121104978748802, 0.4614243508394433, 3.011784424958635, 0.1689772591529209, 0.19263285759257734, 0.9797090073670891, 0.2705116202388345, 1.326743727680951, 0.4835784690728492, 0.41915909970210635, 0.6064711019895563, 1.9395781933589795, 0.4981854777377618, 0.0007600128290732183, 0.6363257084882576, 0.6929823067681185, 0.7950098548395079, 0.5398154933569976, 2.0297254298916707, 1.2919966083918306, 1.0228953537856655, 1.1044908045601174, 0.9382042778843687, 0.7823214612558542, 3.8159895947342113, 1.5638127489746274, 0.1775797660351604, 1.23005523690515, 0.2618184227061505, 1.1087892194322253, 0.2839380625801092, 1.5197283148617544, 0.5812560248428903, 3.228405546022178, 1.1941261080059717, 0.038550914338163086, 3.1743043270380196, 0.9123521308306005, 0.7185756384980702, 0.1276797747474887, 0.9785226078646958, 0.08837207683215756, 0.49688252062339916, 0.7177792160157572, 0.11175204750182079, 0.04523445336202805, 0.14555226904646848, 4.459008482284819, 0.3712857439303974, 0.11105088666949872, 0.5421370682070229, 1.06877253166434, 0.350441132422912, 0.5815975243508527, 0.05226310845489988, 1.4176426315501496, 1.502970136401277, 4.804281298309746, 0.6630869542149412, 0.5239006538951788, 1.0486813024977721, 0.0007600128290738802, 1.8770649787246767, 0.07589164205308072, 0.021269681692059915, 2.219822024622014, 0.37592167672708077, 0.36736820470702736, 1.2597633428936932, 0.17727355223091884, 1.4584552691226156, 0.7148777343008955, 0.6823441196371028, 2.5802039298361805, 0.9119788001677691, 0.23713737227803422, 1.2208261161703555, 1.01045400263311, 1.1777855854032078, 1.2822444979613863, 0.7035663000761144, 0.08835078674468258, 1.3474956310174633, 1.050178697545204, 0.8686411672135097, 0.5250112595389022, 1.6749900279414398, 0.3193936064991163, 1.0848994690818916, 1.5332618439982675, 0.07307655631585343, 0.27766704326072805, 0.41032469374192937, 1.31586669292131, 1.9808545677189031, 0.04902198800639887, 0.8891281052391029, 0.28283816340731743, 3.29852551381274, 1.1558644349961817, 0.3726902361481873, 1.477248642807485, 0.4255641628749448, 0.44563829083957274, 1.7351471238945024, 1.3612705008420825, 1.5470319390284428, 0.3704970034916748, 0.49825547687200356, 2.1579619635624514, 0.5118603644053461, 1.471131827754888, 1.5877660727180256, 0.2182020949714342, 1.333627960322515, 0.029801433243434094, 0.8401448641579918, 0.008966981545976908, 1.4893000037389517, 0.11933392898165349, 0.7943936962901568, 1.256660203993002, 0.7281764792681595, 0.8422200592922375, 0.2838378042346649, 1.0023672905308858, 0.8503590957811976, 4.574490545971946, 2.8497332115252965, 0.7582510119279953, 0.33021369699536895, 0.42502592147634716, 0.19065154219718716, 0.5829975737258589, 0.7267162266889455, 0.5431516581559925, 0.411640109999984, 0.8020970156023601, 1.8077091053217769, 0.37924417320324283, 0.7169005056399589, 0.23447564646945585, 1.7120504157699936, 0.5344446449602607, 0.005237751930918539, 0.2073664993905156, 0.47888570333273833, 1.0364501684901295, 0.6145845125843834, 1.5357838162376942, 0.6654210290581275, 1.9846737016776599, 0.25080487579456917, 1.1632806736166792, 0.20434669204601355, 3.7844177648358555, 1.9830641708244752, 0.5183922508808984, 1.2385686045831477, 1.4147998630934295, 1.6893144412662902, 1.2684153114549117, 0.6365902551614256, 0.00047735026852998414, 0.6746759112783751, 0.601145819008038, 0.12183981519156058, 0.7648597034609336, 0.4709622970267378, 0.0, 0.08454033117387422, 3.47658324464222, 1.9134857158808454, 2.295243485520259, 1.3628110237777753, 1.0275265109167797, 0.961671404555722, 0.32981498863836567, 0.08858054576664756, 1.9723275535082279, 0.19921586990501938, 0.9192629578453487, 0.6535993554152738, 1.0232753997232282, 1.9539144867176477, 0.46933983257247, 0.5693789310734195, 0.967775313157631, 0.7143488892773427, 0.93620353410199, 0.2630919134285293, 0.2156893899508596, 4.397960882670456, 0.7541034941466516, 1.110449627034076, 0.8909823669598472, 0.051501577782718105, 0.0004074532809612235, 2.063667698470141, 1.3337713457688576, 0.7963373957636464, 0.7284181785889714, 2.617795736107577, 0.8295677091950099, 2.0440701739006015, 1.0497196717412163, 0.6009931628697466, 2.104888003586879, 1.6611139046530097]",
         "[0.0, 0.0, 0.0, 0.0, 0.0, 0.0, 0.0, 0.0, 0.0, 0.0, 0.0, 0.0, 0.0, 0.0, 0.0, 0.0, 0.0, 0.0, 0.0, 0.0, 0.0, 0.0, 0.0, 0.0, 0.0, 0.0, 0.0, 0.0, 0.0, 0.0, 0.0, 0.0, 0.0, 0.0, 0.0, 0.0, 0.0, 0.0, 0.0, 0.0, 0.0, 0.0, 0.0, 0.0, 0.0, 0.0, 0.0, 0.0, 0.0, 0.0, 0.0, 0.0, 0.0, 0.0, 0.0, 0.0, 0.0, 0.0, 0.0, 0.0, 0.0, 0.0, 0.0, 0.0, 0.0, 0.0, 0.0, 0.0, 0.0, 0.0, 0.0, 0.0, 0.0, 0.0, 0.0, 0.0, 0.0, 0.0, 0.0, 0.0, 0.0, 0.0, 0.0, 0.0, 0.0, 0.0, 0.0, 0.0, 0.0, 0.0, 0.0, 0.0, 0.0, 0.0, 0.0, 0.0, 0.0, 0.0, 0.0, 0.0, 0.0, 0.0, 0.0, 0.0, 0.0, 0.0, 0.0, 0.0, 0.0, 0.0, 0.0, 0.0, 0.0, 0.0, 0.0, 0.0, 0.0, 0.0, 0.0, 0.0, 0.0, 0.0, 0.0, 0.0, 0.0, 0.0, 0.0, 0.0, 0.0, 0.0, 0.0, 0.0, 0.0, 0.0, 0.0, 0.0, 0.0, 0.0, 0.0, 0.0, 0.0, 0.0, 0.0, 0.0, 0.0, 0.0, 0.0, 0.0, 0.0, 0.0, 0.0, 0.0, 0.0, 0.0, 0.0, 0.0, 0.0, 0.0, 0.0, 0.0, 0.0, 0.0, 0.0, 0.0, 0.0, 0.0, 0.0, 0.0, 0.0, 0.0, 0.0, 0.0, 0.0, 0.0, 0.0, 0.0, 0.0, 0.0, 0.0, 0.0, 0.0, 0.0, 0.0, 0.0, 0.0, 0.0, 0.0, 0.0, 0.0, 0.0, 0.0, 0.0, 0.0, 0.0, 0.0, 0.0, 0.0, 0.0, 0.0, 0.0, 0.0, 0.0, 0.0, 0.0, 0.0, 0.0, 0.0, 0.0, 0.0]",
         "[1.1298585693918937, 1.2764405160727559, 0.5049623992787038, 8.628991592620169, 0.18069339288299174, 1.8073520867030783, 7.210465580968934, 2.34394835860402, 0.14317415771263664, 1.1377269358631732, 2.2851658490918463, 0.20747095845694347, 3.784848796239933, 0.05023532565998414, 6.671422093398819, 1.3373182851069065, 0.9088586633946708, 0.6397805159196105, 1.3394085301934344, 2.193388145068049, 1.4695316671275074, 1.0812802265591135, 0.5576692174025105, 2.4397592331989366, 0.6890755118283508, 0.40584045171276795, 0.17064881243674287, 0.3384449748118193, 0.2994682649638589, 1.1120888990104938, 0.6096082936886621, 0.23132798913794436, 1.0081393360469426, 2.073801134095694, 1.0486455368670555, 0.44609371653911284, 0.9127320770716523, 0.23574275966417427, 0.32212983743266654, 0.41067991829160666, 7.273757089176883, 2.360576013871484, 2.644590088509152, 1.2462902250899015, 0.574101149413319, 1.0, 0.6615003387985952, 1.6706144708352575, 0.10309764676132606, 9.3633555500034, 6.19318816464014, 0.9400193424750092, 0.9299792074476403, 0.4922539463012647, 1.2794583128019672, 0.27784022655765767, 2.0978733722920224, 0.6573503146260081, 1.3831171922370442, 0.10775751859003573, 0.6704075443624069, 0.3223745352414424, 1.2647686380994694, 0.03553136510382251, 0.7399986987695799, 1.3022137439299175, 0.810649600485644, 0.7421946448042663, 1.6170139643820258, 0.7074738841613946, 0.5615320153440744, 0.971036213685283, 0.7863322459649228, 1.0911449768542134, 3.861885819303625, 0.5993778828498646, 1.668082210333963, 0.06015353246148217, 0.905653402529857, 1.1821950393385616, 0.9171726000724655, 0.9925578453478264, 4.414670787569795, 0.6218795499276379, 0.5613258894198163, 6.646420360880508, 0.006539154955579344, 2.106995133873225, 0.8016084167669417, 1.6233252104246818, 1.0466010367515706, 0.43987910591399365, 0.4642480077971408, 0.8321055358356955, 1.1846322780723486, 0.9049358849703104, 1.0299812569051383, 15.794072705216612, 3.2913824461637353, 1.1977121158880897, 0.9450127545216476, 0.7443822399281671, 1.3121666663101763, 1.2233551077573241, 0.009583365889751328, 1.418386649708612, 4.380919133863433, 0.7274988053147641, 1.2156457381355623, 1.8621653640594218, 0.024414320150082193, 1.5055622390027668, 0.6256769702356264, 3.3566882043250237, 2.641158767528324, 3.3263561566327082, 0.005998815462657386, 0.11449807473205308, 2.0311541069823704, 1.0991189416130769, 0.42912835116986736, 0.808818809087917, 0.9734602537351701, 4.269175998746457, 1.1798708186154259, 4.391544393716092, 0.40325032735617045, 7.906925029092767, 1.1807762612794308, 0.1377972619692944, 2.8054465262818202, 1.320694550517316, 0.8497616048773882, 1.1807762612794503, 2.5335751211764026, 0.4438733027317591, 0.3832721401259297, 8.50934867073134, 1.3306917080687726, 0.8967450713452687, 4.009490085837923, 0.6104037371927036, 3.021055915645596, 3.528965860856847, 0.26131892178481053, 1.257531616979006, 1.557677465992087, 0.0, 0.9981841650952809, 2.7846514407031133, 0.0027425127966457137, 0.46205363686368484, 0.7059480300001516, 1.6443146532428137, 1.2073388728929133, 1.1848739531813552, 0.4604265457976998, 1.2058253807354697, 1.4045369908903471, 1.3510393738006667, 0.672339096196543, 1.1773058300339563, 1.1158724119874714, 0.392947693590111, 0.4115096419566856, 5.375924548459494, 1.3016653275614714, 0.18049749983133415, 1.0949843347584387, 0.862345428153511, 1.5490304470559781, 1.5016261334361667, 0.6473481017998314, 5.891650872667677, 0.32212983743289714, 0.5172280786552215, 2.7435770510138067, 2.559594487655359, 1.6550123332504219, 0.59643870778634, 6.438446548523858, 4.6000529466424895, 0.8271114577786062, 0.273621905256864, 0.4280904372944699, 2.2513579835479707, 0.7903496888998403, 0.33356038210431393, 1.13559939092728, 0.5750153325935398, 0.24299597999901898, 1.536738822985166, 0.2509125812344198, 0.49764759409132325, 0.40302574848950956, 1.6471059041238358, 1.3704011491451282, 0.29872088229419286, 0.017804977203927427, 0.11423242122672048, 0.5009838455959106, 10.183436073306163, 0.5615320153441551, 0.9086281035628405, 5.489398446251192, 3.4628024761625604, 0.8518077339426692, 0.51408854416351, 1.76246121377848]",
         "[0.8060116640429474, 1.1782859926723066, 0.032222918451226004, 7.9354486217661, 0.2355432943711032, 1.3104251996448424, 7.630108894195934, 3.047887345715412, 0.16146340546205393, 1.0783751319775543, 2.3007154510494403, 0.13309184367926857, 3.6262424692640414, 0.197820058692752, 8.079990011572361, 0.7039871597937996, 0.36661365935995843, 0.605049744471797, 1.4123425465173092, 2.3447301669216944, 1.7415285799199887, 1.1500549220400507, 1.9676417202827223, 2.1430197540984905, 0.9084580743330103, 0.40617937946362664, 0.4228156780811548, 0.6598835888922817, 0.2103366006407035, 0.8678272155504109, 0.4950313196536003, 0.42382130390898093, 2.1500589892303505, 1.4010863807763263, 1.0, 0.6395444322866216, 1.0785672012041418, 0.08747754546617736, 0.6794650463524381, 0.060960150823840265, 6.882543867473866, 2.027245248389077, 2.939815757245264, 1.1205096801812255, 0.8330810823852854, 0.8520970419380057, 0.7062190379701178, 1.3362019235337887, 1.291679355366741, 9.12267744926684, 5.414030962961569, 1.2034545834539025, 0.850801326937273, 0.013094980462697858, 1.2286512197598047, 0.06266685413630604, 1.662797195209178, 0.813149102727245, 0.6955576760156931, 0.3812138879551932, 0.5923572796288321, 0.6223280949563584, 1.0767639393322854, 0.2922427324777371, 0.9868885044800849, 1.0347326292026766, 0.6023645236870117, 0.07903999151770463, 1.9176331348925617, 0.7925939139624492, 0.6418942135487675, 0.881299387071457, 1.035187911303011, 0.5588747404372439, 3.7972121075597918, 0.597346278022583, 1.2372103906026293, 0.0403879075790254, 0.9181145943910916, 1.4202006259933613, 1.5557352189646547, 0.3994019778018115, 3.7001918558587747, 0.7995570537218954, 0.5555828159720372, 6.094309955522217, 0.2336583835154999, 2.6813329253542335, 1.0153911813730976, 1.1708708417633156, 0.9410641633302704, 1.1174162737706266, 0.5053202757408921, 0.8472500114159195, 1.3517281051020036, 0.5570528853469184, 1.0305012231709745, 12.249051374303862, 2.675503940002844, 1.7789972066992747, 0.8085941618560786, 0.7653085937357862, 1.2235900753350555, 1.1096900757346722, 0.13690327478756803, 1.3025570113320548, 5.193302194203, 0.8841985971574852, 1.126667475097163, 2.6688544038874062, 0.3736344880647534, 1.6331336421770222, 0.38926211832683755, 2.8832756053659923, 4.083725575540719, 2.8557683309644544, 0.9848601050148028, 0.3876214769070977, 1.594320711147398, 1.0115115934674286, 0.5423967585172375, 0.36951176889091175, 0.9564732021322524, 3.624173700951469, 1.0951960538155427, 5.285636237088996, 0.1654339645753518, 7.416549478712904, 1.2124580136778513, 0.7782221792669998, 2.2990710689982317, 1.5708120384126705, 1.0262392496791406, 1.6667549401920339, 2.959233166882543, 0.3708541666141277, 0.2040793643719698, 7.502372476584251, 1.2523069027224978, 1.1447048237200783, 5.495045512669042, 0.8321261270608237, 2.8944906578791025, 2.678754503669932, 0.45847576499672843, 0.7375328893393674, 1.2082367633231599, 0.413337787057941, 0.7046359589372265, 1.9730097964829356, 0.07797376756164076, 0.0, 0.768980615968055, 1.2598560322824062, 1.1970262648189671, 1.3234065708137055, 0.6209073261267453, 0.8550928048954938, 1.0612000902252114, 0.6986592324809805, 0.5567911476569325, 1.0920759036877123, 0.7093206370429642, 0.5391529628502625, 0.4826339212938806, 4.116524727349208, 0.8702729126893282, 0.31603310996560147, 1.066651751558575, 1.116994974092228, 1.0686858621325406, 1.2796940863330268, 0.6296003329446908, 5.498861240500644, 0.632909904259116, 0.5399982971153886, 3.044338513538378, 1.6575264043342, 1.1626651511215027, 0.7896175396806817, 7.304968348939904, 4.903178304618123, 1.0377755661474422, 0.6148484200762641, 0.5392470383275157, 4.351996082368458, 0.48195600250306636, 0.23906136052915253, 0.9377077790905117, 0.6506315198197726, 0.0990631362396607, 0.7869752792287465, 0.3014963464849684, 0.33525416048268136, 0.30824821677672376, 2.1658785761693187, 1.4830937749697177, 0.14834207994164567, 0.10792855388285925, 0.3728534391487037, 0.5361124955606235, 8.925544017963512, 0.31384737931425344, 1.036368155369414, 6.907102325445473, 3.1485847428530773, 1.0459291574155982, 0.6270901583645391, 2.6616366219094743]",
         "[1.0926968834822375, 1.0497101875283694, 0.3326052158164595, 9.991896604802884, 0.03240570443799123, 1.4291324402403973, 8.927614146466839, 4.063819073740777, 0.22404957479115836, 0.7821954318458518, 2.728158045052248, 0.22968793757019002, 4.2704133920002585, 0.23687847680245655, 10.010698799622237, 0.7162173315374208, 0.22947880800699777, 0.6799681901714215, 1.3242138917160027, 2.987032756425195, 2.1434089756520907, 1.2611369677552102, 2.7574410664055007, 2.3388564100844436, 0.9751676727394398, 0.43070309176180777, 0.5828856276614146, 1.277379109429208, 0.2830840532384319, 0.7820181967691539, 0.19903988022755245, 0.529332270684617, 2.6339870233512888, 1.4693071288461668, 0.7989982662721693, 0.828482262069728, 0.6225494032116136, 0.07584313870671669, 0.9046028725577503, 0.4806440096225171, 8.219283617507267, 2.4382867090382763, 3.3840276935084668, 0.9866464877414687, 1.1222980821720254, 0.5568844229014283, 0.6340201780504632, 1.9462200687564624, 1.9446639883214354, 11.346699739142702, 5.964356681669664, 1.0196053011126422, 0.7239254745576258, 0.29331801367086136, 1.2732328249045262, 0.0, 1.8514237737337225, 0.9564259513016382, 0.37243814705652306, 0.4802948231348213, 0.5040473660280388, 0.675287159285269, 0.9908887873664141, 0.245205400100063, 1.2871472276263651, 0.808603279482716, 0.4338235803495956, 0.19038364202889466, 2.303914033298391, 0.899247955040374, 0.7127553450739548, 1.08741213628472, 1.71456854273017, 0.46082595832017315, 4.560063897709683, 0.7252627707276711, 1.054831934810235, 0.33507076929239066, 0.9718398789981848, 1.8006846349951557, 2.1574021196812616, 0.09478237190863549, 4.611796900080436, 0.6141736014267186, 0.6452857669637686, 7.096571354748188, 0.40913170159584566, 3.3283777371510324, 1.031364178217407, 0.9057802780119985, 0.9322675188832521, 1.6368620370120788, 0.5306644291867627, 0.7770363652930639, 2.277673790415065, 0.5823711374339581, 1.200739833986101, 13.375670364041857, 2.992993807416017, 2.349784704592325, 1.0887697882155631, 0.5933908067056942, 1.309357570118728, 1.0036157669136856, 0.08018077769170504, 1.030561957339229, 6.147233293741878, 1.0, 0.958500636629317, 3.2338049788301237, 0.421613202009022, 1.835224368369062, 0.1839486029705083, 3.9797601315023168, 6.244679246512419, 3.5585358469481903, 1.6069984526042926, 0.48360707069622766, 1.7155462012819132, 1.1970784297165153, 0.6194860869631458, 0.19616942429675302, 1.0865512679569258, 3.8479846537288713, 1.094033690817361, 6.824399452081529, 0.3305421238874119, 8.628158763509758, 1.7765015691898376, 1.3276615803571319, 3.233829973966808, 1.7259920195022715, 1.0894383945116024, 2.2983430480717577, 3.6594521655529344, 0.4879916105920445, 0.28934688354621, 8.687376259336796, 0.9206392187866491, 1.4399281131069954, 7.176597804794292, 0.531645180757826, 3.4957098520349787, 2.7514690632298993, 0.4141411795378274, 0.5128212523543945, 1.0605950623154, 0.6699398702304603, 0.5431862063839714, 2.2601906503919937, 0.1434359845359967, 0.08086075150278109, 0.9302772610792879, 1.640387487509428, 1.1457398866167496, 1.3198942160537057, 0.4444031946695675, 1.070191079185827, 1.2494748729676184, 0.3914886863754089, 0.43460801997955556, 1.271268061696516, 0.42757974512391544, 0.41688501830361674, 0.7420106619151764, 4.482136767126716, 0.6062882613907798, 0.48917686975479374, 1.1123583341465362, 1.759022171669637, 1.0741145905542624, 0.9857589663519091, 0.561107323569547, 6.265064546295812, 0.7317690489197973, 0.9574900987175895, 4.114914685056386, 1.7821941716222953, 0.8795154367639418, 0.9475575722320078, 9.083848728511631, 6.121078126806913, 1.1298148800305117, 0.7783771757500677, 0.28910769030980865, 6.449158517116129, 0.506711821956837, 0.16704184031849004, 0.9736703425326237, 0.7471061305439268, 0.14906706426240915, 0.49085783915229386, 0.08563855914693881, 0.42338912575234183, 0.18786578496982023, 3.0639363320810737, 1.848342911907564, 0.22497479379789842, 0.17017214088725757, 0.36736345046848995, 0.6051184544607457, 10.013334420479302, 0.29233008666377924, 0.8582248027523367, 8.4542723480423, 4.383122446092288, 1.4375656294376435, 1.2249892557562074, 3.1836050547018298]",
         "[0.9853506737714229, 0.9855730793188441, 0.22128637462919248, 10.06361508393629, 0.10450036997192191, 1.2957732051257997, 8.521519753985064, 4.302437678553257, 0.15255215945218017, 0.6275380467694583, 2.486738634627616, 0.4409725367079169, 4.043676969631252, 0.42376532865456185, 10.088354646380717, 0.5001817528221443, 0.3867707752863978, 0.7845359312931451, 1.1878476950013908, 2.8428824178603667, 2.1855461499068864, 1.2818805038151297, 2.685198515551719, 2.141751125971565, 0.9671293899844607, 0.5602113318873962, 0.6768139326015721, 1.2726777089313153, 0.45285134255745174, 0.9113511795913748, 0.19040349022421793, 0.2925922764613663, 2.466823093377319, 1.1856684938341095, 0.7332292137992303, 0.950972072699559, 0.3453804994553345, 0.15832944242030586, 1.0340383302162914, 0.5680382908955713, 8.015531738578218, 2.4305382460356966, 3.2758940238092724, 0.8841051543662481, 0.9144944622063238, 0.489269656515632, 0.5245546663798052, 2.047341056992667, 2.030149243522024, 11.339456224245168, 5.50014766283039, 1.036715437230105, 0.6602548480527063, 0.26395362559348196, 1.2851428918826229, 0.0, 1.6082371759958887, 0.9373180071557559, 0.32642157893557444, 0.6008465553908497, 0.5538084547853552, 0.7104893326641948, 1.1022246071405488, 0.2715329209791955, 1.227521146206253, 0.8971899416571201, 0.4012209831622096, 0.04894316658691885, 2.209934538357154, 1.0659300540375805, 0.8665061247236874, 1.1553840105760191, 2.087447751888647, 0.5028404612050628, 4.392780355064079, 0.5466534918041258, 1.0407790104260926, 0.36389760844488667, 1.1342752564316638, 1.6198258783902104, 2.4555305671979943, 0.15641671072507105, 4.7011896067525365, 0.6291522062164604, 0.7772569294885003, 6.685754850309838, 0.6699583852031087, 3.146033440498187, 1.0448284580916687, 0.8399415996525781, 0.9528933679107829, 1.5527389097331614, 0.5799616711197488, 0.6295354367419017, 2.41102379119864, 0.3128477928799778, 1.2321603264758643, 12.844035769933289, 2.708118856401065, 2.253029724472928, 0.8899111287692226, 0.4828597823387663, 1.3270659344062254, 0.9905426408887751, 0.06608318154823505, 0.8272167573506045, 6.386146230518603, 1.0438300739012292, 0.8684967783512649, 3.177092222669207, 0.11927497110023497, 1.6337685240655966, 0.18310857432247243, 4.26881083901164, 6.5507320961551, 3.6823182469832942, 1.7515244964040595, 0.2841063834953326, 1.4485299770856273, 1.32858338208282, 0.5337647684489658, 0.3591764245595378, 1.204852139901239, 3.5208766987427804, 1.1550833704797991, 7.128395301409282, 0.2540037701459688, 8.430186628311384, 2.0325869659408924, 1.3024703187225404, 3.216911160424662, 1.4736269960122774, 1.1341971277390028, 2.3456204739748396, 3.5008023223435494, 0.2887663859118179, 0.09133607977041128, 8.795439400692715, 0.654894935541336, 1.357567645848996, 7.122595031404582, 0.529843020649029, 3.3913211859185783, 2.5297997656140163, 0.5052685301933224, 0.43801493229408545, 1.0910548463333813, 0.7671435916034313, 0.6326891514674857, 2.1764502349345967, 0.06831513864478127, 0.3066532971700784, 0.7173420631307018, 1.8041136546161907, 0.9809919831268318, 1.2842021698137567, 0.5049261037463321, 0.9435183363634116, 1.4554228572954018, 0.33579965938474493, 0.486298326362795, 1.3762493459470713, 0.39413359065208264, 0.33735708659725816, 0.6659707154395826, 4.259915163092681, 0.5946755935388631, 0.6528580552193171, 1.1609472042475146, 2.0859974698933357, 1.175455324784564, 1.0, 0.5752855588153041, 5.865763251384954, 0.8777100952100801, 1.0172945499484127, 4.176676671677781, 1.6787725275141716, 0.8083347704240587, 1.16955240713867, 9.115156495137045, 6.39958998765138, 1.2737659581943122, 0.8778739585141364, 0.3017257910670026, 6.6933255344872205, 0.712319927426062, 0.04086402588810275, 1.0785323515732608, 0.500144318465777, 0.32631002007932103, 0.43807569652706413, 0.06910984795353407, 0.1739025618324901, 0.2864964502618495, 3.037814941846276, 2.1849776504083294, 0.4043820352330254, 0.02475323581520669, 0.4594143887639248, 0.6893243422310265, 9.453138186807253, 0.41987538685178727, 0.813395748933838, 8.427975389073039, 4.544814424530082, 1.635369102135741, 1.3071942976212578, 3.086303667228391]",
         "[0.9446313240388144, 0.8901268202018072, 0.24903616722208172, 10.536209911232458, 0.11163256048946324, 1.2786757320089677, 8.831221212648318, 4.912899924587847, 0.234232146233734, 0.5104307907219936, 2.5667333353728354, 0.59352802562448, 4.1503989674043575, 0.4732053583966474, 10.687023951555325, 0.5033101368678959, 0.5215631738056566, 0.7099293487169854, 1.023575833737532, 3.035575142975179, 2.4666117690790847, 1.2027050934576038, 3.0165163557575765, 2.187856772303368, 1.0, 0.6596957998570397, 0.5890188651689852, 1.4608201544329777, 0.5635290395056965, 0.9873708508793021, 0.1366767411491932, 0.2942741971880644, 2.5720941644497337, 1.073945342536175, 0.6656748823436299, 0.9678565335145255, 0.1625645229073083, 0.33231745725189654, 1.0553278997157378, 0.6447006634125609, 8.550751936460678, 2.517491160930814, 3.4784584991377, 0.8383502304411632, 0.851695995836043, 0.4516077134386253, 0.40746740573405066, 2.3109008161883837, 2.353222676500472, 11.787034767577548, 5.481237219684057, 1.0388875934266943, 0.6201635466164553, 0.26923774403314765, 1.2306350930739964, 0.06474425150053342, 1.7482861372691532, 0.8957189338882116, 0.22668968961159533, 0.6600605285964355, 0.47389870031166204, 0.7237988881666821, 1.1588404204336127, 0.2191187981397795, 1.421681563423268, 0.9814240133972303, 0.40096049649967275, 0.06465903869184414, 2.3396477709762085, 1.1395418160433766, 0.9018485467152397, 1.155149555222922, 2.4881706289941907, 0.49503347658450997, 4.49693580804804, 0.6204911136120513, 1.0963762440948839, 0.464854020241378, 1.0946831959508634, 1.6825258837229042, 2.7622480830898493, 0.11582347752406545, 5.024804302949144, 0.6863555628897431, 0.6157778067806214, 6.6869242509827, 0.5851105390213346, 3.269504431379014, 1.013333962628652, 0.7587273169820716, 0.7727047921039812, 1.6618433582055256, 0.5997252724791599, 0.5028696576634137, 2.6503970989230496, 0.21024161293470342, 1.1115199279187653, 13.235013404860826, 2.771987338471615, 2.458694629796329, 0.8094227784429999, 0.40676863967381605, 1.3386717608921144, 0.9610837588340772, 0.18181096346657327, 0.702786761376237, 6.880869991893733, 0.9961723956749247, 0.7779172316652326, 3.3679743704506526, 0.047283350211125175, 1.608721257574897, 0.07136747288367655, 4.726701669699958, 7.0150930103669324, 4.122317007598861, 2.0484007267913182, 0.2777458347460406, 1.3861960301502076, 1.2356962968425766, 0.41669831941411956, 0.48126621285305426, 1.2219116852451328, 3.7261758203705937, 1.1524608435256127, 7.581662855055011, 0.25612918471880924, 8.767500423362032, 2.3747475257532997, 1.3618480496055692, 3.312733677700183, 1.497278869784958, 1.1140962925883195, 2.5979476741832137, 3.621155873778661, 0.35273938142504396, 0.02184874844747477, 9.249453514320509, 0.49058242379147776, 1.2625773558633506, 7.518063270535487, 0.5299667782265248, 3.552118855777556, 2.719966108926492, 0.569974272414296, 0.420778188011383, 1.1304242300989018, 0.7006338498080502, 0.551158109884035, 2.3611009502351883, 0.03180181927915322, 0.34977593813744917, 0.7326150852199962, 2.0021927161401587, 0.8540911153157932, 1.1604029185839186, 0.5427032718022182, 0.972391280963821, 1.7823788301249353, 0.2384697706559635, 0.44810757148763986, 1.4231112621703184, 0.4077615136141578, 0.2327387086808462, 0.7534037767683321, 4.472683172956834, 0.5845983630173742, 0.7533288100769552, 1.1543172518806206, 2.438742957911413, 1.2377129856776454, 1.0325354262092343, 0.5936410512202184, 5.878985079842629, 0.9395207281352503, 1.0743404507118304, 4.531715776839822, 1.8960836303536783, 0.7343235182955287, 1.3059103042785922, 9.616445614475644, 6.864495889772622, 1.3025163482146027, 0.954749100000074, 0.23788292311996057, 7.21831351192949, 0.7292618015770461, 0.14656826550747684, 1.1007623995891984, 0.3775448945650698, 0.4733579511846405, 0.3806173411566309, 0.0, 0.10136227669138709, 0.30854730590967905, 3.277979900689152, 2.5807761751110667, 0.413341513035389, 0.05554325341290319, 0.49075989549581595, 0.5140586566861478, 9.578952947490494, 0.5038767746375294, 0.8256498369964012, 8.899111411793175, 4.8759198429494965, 1.8470544710802057, 1.5103339934261357, 3.2224750939019278]"
        ],
        [
         "982",
         "982",
         "[1.3563352111095603, 1.5485090509099344, 0.15909149835114797, 1.074695000033344, 1.0418280834442613, 0.727519368659915, 0.22056041453348607, 1.0857351725733868, 1.946845424394064, 0.2689475261794484, 0.6532738659838231, 0.41323684708924463, 0.11330948990697401, 1.009079348241413, 0.17416618765444147, 1.1774794077168342, 0.5682615534337401, 1.5218910640821344, 0.7311660017401862, 0.41820189453122836, 2.550935717688003, 0.09925377936013086, 2.3173208042987077, 0.5748325828487705, 1.0837619391829454, 0.9700431899851191, 0.22402049926702067, 1.0315661444970452, 1.2830954783268045, 0.5266730381427698, 0.30064418859581077, 0.16092601909069132, 1.9153309502361555, 0.9348109277750225, 0.9639657726115203, 0.3601662858612746, 0.43217786090576726, 1.200686722602642, 0.22585893013712569, 0.08356565875101692, 0.0824410515218701, 0.6645031849375788, 0.5945505462008371, 0.8912264544251924, 0.5680382843855618, 0.48245447714483036, 1.7559552537087542, 0.8832811547628605, 0.06247359607509398, 0.774260527327177, 1.576229072077883, 0.7606969008502397, 1.1097249942457614, 4.392327526867167, 0.7447574946668017, 0.7775067543472253, 1.0744528032107057, 0.9897526230131574, 3.0657449789008226, 0.2932217019826558, 2.1691156414589168, 1.29505909847998, 0.2810420019725412, 1.3396379209948364, 0.43872415662309, 0.5733526721044906, 2.2890204457581493, 0.7562451671362728, 3.470837757224292, 0.22557280074092528, 0.7837936576303371, 0.4193358350273104, 1.7571157798754842, 0.6180796204709003, 4.991892812971271, 0.0, 0.4368794496751534, 0.6932667604865608, 1.6538575534016604, 0.23370487137054305, 0.7717336713212749, 0.7539589091635512, 0.4644426455640168, 0.36623760532078964, 0.16796762669460574, 0.4160954277833772, 1.3670488211724554, 0.7664446224036644, 1.1490459270286149, 0.7234253385646794, 0.8229171177959896, 0.6200715289911091, 3.0692991122809823, 0.433484613005012, 0.22128818494095445, 0.736680863669082, 0.2720481029186231, 2.0178951373637912, 1.9213295934277748, 0.10440348274582574, 0.06396143916691156, 0.8118879738272848, 0.37099537311445574, 0.8444601810941543, 1.601175002787529, 0.6636146710306793, 3.236128082585864, 0.27025220270575095, 1.9139002777565197, 1.932283792994249, 1.465991745115632, 0.18427262202503913, 0.23600917145028363, 1.6516478934517458, 0.552938466974218, 0.3690374812488662, 1.8768758402125694, 0.5016582388397077, 0.013029113775373684, 0.48469839799642017, 0.3040574717259296, 0.457668695888247, 0.7910582422213895, 0.7118096576147751, 1.4624591631033532, 0.19144356971061033, 0.8925000780862961, 0.3709627052164728, 0.5297636365535681, 0.9706983693386323, 0.26167406926169956, 1.7658038836062848, 3.327405886136393, 0.01302911377537432, 0.22526389410561856, 0.2749677140242763, 0.050392360612936726, 2.7567308570975677, 0.7306959523301645, 1.05317421005941, 2.2504234153081266, 0.43772193205594284, 9.507944849013185, 0.30280425273202993, 1.3664484273481294, 0.5442603118927474, 0.8106516107858172, 1.3402366194209763, 1.2893481597797811, 3.481808544404789, 0.6379840860299941, 1.3731468718429523, 1.0720884456172024, 1.9125291225928678, 1.8729908963654065, 1.7346111497886263, 0.5505151290017392, 0.25093321219470194, 0.37894041762954817, 0.5560995764641715, 0.017840627711794215, 0.6662800814384466, 1.5674476496382281, 0.7671518501105453, 0.07607160672290542, 2.045505499541408, 0.7937250804062518, 0.7733837703716384, 1.3502322071588706, 1.4037984759903628, 0.3367609262919505, 1.0719185380536056, 0.11328758531971193, 0.2728694112264614, 0.792172527924337, 0.3314214391445076, 0.3724513758283727, 0.8553179625592281, 0.6019561286439254, 1.9092716928335234, 1.6252911702323447, 1.3487212865310831, 1.4071085612281484, 0.22926389441259695, 0.42200243638187374, 0.3553215966493451, 0.9430705011435803, 1.3720303167230996, 1.0997121181782044, 1.1134900347528187, 0.009468536470701677, 1.2847707933526027, 0.5244338733786615, 1.8036590148514737, 0.7283689593919417, 0.39626206138296277, 0.4680491093236794, 2.3404467855546214, 0.4580879247731838, 1.0773714661424845, 0.7789071390772053, 0.26041674427787453, 0.22919909022902457, 1.4935150734209652, 0.4849416530317968, 2.8380947879962033, 0.6917208382858905, 0.2946929877900979, 2.3591316622845317]",
         "[0.0, 0.0, 0.0, 0.0, 0.0, 0.0, 0.0, 0.0, 0.0, 0.0, 0.0, 0.0, 0.0, 0.0, 0.0, 0.0, 0.0, 0.0, 0.0, 0.0, 0.0, 0.0, 0.0, 0.0, 0.0, 0.0, 0.0, 0.0, 0.0, 0.0, 0.0, 0.0, 0.0, 0.0, 0.0, 0.0, 0.0, 0.0, 0.0, 0.0, 0.0, 0.0, 0.0, 0.0, 0.0, 0.0, 0.0, 0.0, 0.0, 0.0, 0.0, 0.0, 0.0, 0.0, 0.0, 0.0, 0.0, 0.0, 0.0, 0.0, 0.0, 0.0, 0.0, 0.0, 0.0, 0.0, 0.0, 0.0, 0.0, 0.0, 0.0, 0.0, 0.0, 0.0, 0.0, 0.0, 0.0, 0.0, 0.0, 0.0, 0.0, 0.0, 0.0, 0.0, 0.0, 0.0, 0.0, 0.0, 0.0, 0.0, 0.0, 0.0, 0.0, 0.0, 0.0, 0.0, 0.0, 0.0, 0.0, 0.0, 0.0, 0.0, 0.0, 0.0, 0.0, 0.0, 0.0, 0.0, 0.0, 0.0, 0.0, 0.0, 0.0, 0.0, 0.0, 0.0, 0.0, 0.0, 0.0, 0.0, 0.0, 0.0, 0.0, 0.0, 0.0, 0.0, 0.0, 0.0, 0.0, 0.0, 0.0, 0.0, 0.0, 0.0, 0.0, 0.0, 0.0, 0.0, 0.0, 0.0, 0.0, 0.0, 0.0, 0.0, 0.0, 0.0, 0.0, 0.0, 0.0, 0.0, 0.0, 0.0, 0.0, 0.0, 0.0, 0.0, 0.0, 0.0, 0.0, 0.0, 0.0, 0.0, 0.0, 0.0, 0.0, 0.0, 0.0, 0.0, 0.0, 0.0, 0.0, 0.0, 0.0, 0.0, 0.0, 0.0, 0.0, 0.0, 0.0, 0.0, 0.0, 0.0, 0.0, 0.0, 0.0, 0.0, 0.0, 0.0, 0.0, 0.0, 0.0, 0.0, 0.0, 0.0, 0.0, 0.0, 0.0, 0.0, 0.0, 0.0, 0.0, 0.0, 0.0, 0.0, 0.0, 0.0, 0.0, 0.0, 0.0]",
         "[0.10266902180592158, 0.7443537017702813, 0.5056756405056887, 0.03314958251592761, 2.753732995842218, 0.4484646913250988, 1.5924307871142547, 1.7801624417745026, 1.5360045923833732, 0.03697707580755799, 4.424129813247579, 1.2345429069751184, 1.1404379806033313, 1.892505783630962, 1.620589946912688, 0.6775106375197061, 0.36158689780418596, 1.8985715295637067, 0.9122703198141463, 0.03887912418332581, 0.0006440511053064751, 0.47287419724170976, 1.184566228682322, 1.571630402667544, 1.3011596584662009, 0.14350477745084175, 0.23696749837066503, 4.890791332070693, 1.5249789528799778, 0.2841539908008089, 0.764832209282399, 0.9746138620539736, 2.408137842272406, 3.2028154117621086, 4.065370884956456, 1.1589740128770523, 5.130277187738287, 1.1364911230875534, 1.0348456508958006, 1.9127410583071485, 0.6976368694085412, 3.8667069555462144, 1.754391104993587, 1.4114414620490099, 0.561401378441212, 0.29151007753169983, 1.584367178012313, 1.3897794016470246, 0.41235447966241257, 0.26906284621210574, 0.2987469820588247, 2.807163528582685, 0.016391519355610177, 6.4410758865813245, 0.8921134325928122, 0.4475720479894344, 0.9998380439428483, 1.1818033364005123, 1.0942894112843096, 1.2596177573516427, 0.5159001274617904, 0.32631024752447413, 0.17083045469038133, 13.504898550136115, 1.1227547236203794, 0.8459043722403318, 10.438245479934364, 0.5552230831495067, 1.140437980603307, 0.13817708609866122, 1.51432429690924, 1.17668626789984, 0.22665898261725217, 0.15605602664261117, 1.4722894202273993, 0.24547243886502002, 11.465394987063007, 0.7331999472683913, 0.3803370254879475, 0.6862600555859673, 0.7291219940220799, 1.1358219068398745, 6.543259225980775, 0.7972191984257616, 1.4192195607766724, 0.18515541957628398, 1.6153697212768507, 0.9427348231843329, 0.5056726077594245, 3.7279641376021284, 0.9899771059001662, 0.6236701879005487, 0.06349556725706998, 0.7140596105086635, 1.0, 0.4141298696920286, 1.2399469983974591, 1.6288332300214654, 0.1774214768353288, 0.009001689153081648, 1.0496652746791784, 0.5729651383646837, 0.871022258554296, 13.86495888923792, 2.0453049511563908, 1.0997003094237667, 0.9608295701573042, 0.4925002228143791, 0.0648714797785895, 0.04716394619462631, 0.2601285193925971, 4.027025233572387, 0.8646937331347608, 0.4544719495929136, 6.581730335516339, 6.094192967445376, 12.084482467696889, 1.6312296056617392, 1.2155905112413423, 0.3981296825525042, 2.9804085210474334, 0.6971273065683218, 0.2821843318964982, 0.7139357959648925, 3.5848424255572944, 1.5463529293481313, 0.3210103253106366, 1.2847016633493302, 9.12619772933555, 0.8959501570107261, 1.0674530210364916, 2.058016677542744, 1.7722265156595192, 0.6110758173679816, 8.95362378728105, 0.9415479734488154, 0.4075243563699229, 1.595219780507515, 0.5806495016854253, 0.4144207176176051, 1.0920355273515172, 0.40595169492400074, 11.631249205637163, 1.2611234100984694, 0.6593300708387947, 0.049233963043706606, 6.679279361919147, 0.3495138978811617, 5.2422404108324665, 1.368877778202015, 1.1266305065618303, 1.034845650895606, 0.5552754528567372, 0.9706686088493433, 5.435087166272835, 1.736855258877034, 4.64304170349827, 5.77071511519443, 0.543367202473568, 0.4313367489711112, 1.8325756286985035, 0.9664837163220061, 0.19103251425865914, 1.2699388225363508, 0.7036037858258255, 1.3731324370998808, 2.723238626720471, 1.6027775048915982, 1.0626076891544458, 0.659357664805521, 1.6164063157475388, 0.7456459909891748, 0.38475210634860096, 0.15634334222216745, 16.607390208212134, 0.9460060795971275, 1.2697274225573494, 0.2841539908007006, 1.2611234100988484, 0.5120518917485887, 0.42725346382049395, 1.5462298353540735, 1.7137140144341783, 0.16404287229036102, 1.3214326558385074, 1.4467780006409088, 1.6080995236810396, 1.2491598564182305, 0.23142313506320794, 5.927415846449566, 12.315031861654292, 0.0, 0.04984303988471738, 0.8571247594773399, 0.46642149634015356, 0.15395431100834472, 2.3951360682185583, 0.17742147683533452, 0.9658531543999532, 1.0639747924889644, 4.055305428230732, 5.581635102834694, 0.5938518665953814, 0.1539389401691691, 0.05438755839078934, 0.8921134325926035, 1.1845662286821965, 0.7273567346673502, 7.188844358604212]",
         "[0.5584254745807818, 1.1067215099766246, 0.2609899380286994, 0.0798604180415699, 3.518861159123704, 0.777954604201725, 2.1708367660526253, 2.459985126732735, 1.3998184455758975, 0.0338147738097757, 7.208208580226906, 1.7631052577718482, 0.5564779409976692, 2.060372832966531, 2.2864609128255675, 0.22470646937017746, 0.6598068506181098, 1.8873888066041986, 0.9118221478000388, 0.07913142670123609, 1.14832016882343, 0.8508939446240983, 0.6445930168014671, 1.9974539520384254, 0.5186683750077874, 0.5714434490225834, 0.5859749688132523, 8.25353332297683, 1.4020539213591847, 0.3384487151546408, 0.8194238598817996, 0.2208306266849627, 2.5139049561489952, 5.156835792281831, 7.588048586066782, 2.1183000470784057, 9.165891205544197, 1.0708407751225455, 0.8875615808426287, 1.8988293596864627, 0.44884100783207903, 4.420007870787675, 1.7873955513900728, 1.5978121334170767, 0.9961275115946776, 0.2550449136847927, 1.553907261101271, 1.2757816488201659, 0.4049601315323616, 0.6893731372521392, 1.7204384190366677, 4.1982288838986275, 0.26457291128462446, 9.75165769667443, 0.8176457200952839, 0.13188584320508792, 1.3188561565977142, 1.680555790993833, 0.799408952986823, 0.7118468031440973, 0.14707371137303105, 0.6420394788557902, 0.42013304223741077, 19.053532068784943, 0.6899419948973099, 0.3403215935381772, 15.04764394829356, 0.3651762723193734, 0.29935378702312093, 0.34419456546702715, 1.2816280076443847, 1.0427836382097015, 0.09793181127941077, 0.6274393640922796, 1.2347420141982466, 0.6707747165102762, 13.23979012697095, 0.2534457760955288, 0.33690195089895253, 0.7888380456709349, 0.948889756600615, 0.80557729521444, 10.482431196037883, 0.41815842269456044, 1.267169379115305, 0.29673630692269914, 1.0, 0.7807870890459383, 0.283043624828438, 3.667640284852869, 0.6405172605087095, 0.3321602592820325, 1.0606916055034539, 1.0129627486544732, 1.8645914289146581, 0.34246729519887603, 2.196374445391408, 2.4003661334486606, 0.10522628763881191, 0.7621214379425744, 1.1383052106497875, 0.5949952408546598, 1.545872455389708, 16.182990498275377, 3.6436380978372975, 0.5897424492588074, 0.7725414727275407, 0.05750799784966001, 0.34851461118364974, 0.47720192178570475, 0.0, 8.044721831812296, 0.3109306844033277, 0.5915599458623633, 9.144807827755292, 9.335225446959294, 16.11685038424278, 1.8099474558274329, 0.6331675589210171, 0.08527318097936337, 4.867748157764208, 0.7742819163068557, 0.26644701665179366, 1.1908718116133274, 8.458169288534501, 1.2514091739365978, 0.23399105610866974, 1.0467369041131231, 12.117766695927703, 1.1673297266169025, 0.8000072261222836, 2.8903978907754095, 1.326115745438323, 1.4104926603770795, 13.979789251496827, 0.1734148426242298, 0.23668642551751043, 1.2636057276282728, 1.9041321861269178, 0.15462931374365135, 1.9936484895861852, 0.17435102693947999, 14.42040773229029, 0.8079336445393722, 0.6082782331438698, 0.16922680843120097, 10.828024161331058, 0.42319777130272995, 8.262774309029481, 1.0846457800908833, 1.881005903044694, 0.8713927739307515, 0.515952182358781, 1.216571992420187, 10.151538425203869, 2.0271546448662336, 6.1538761203542425, 8.280966673998421, 1.3121559566717673, 0.4937145767989784, 1.4513688516987036, 0.274515806289656, 0.5638097338770977, 2.2930506231389653, 0.1250798705738383, 1.4165187394548395, 4.029891951823506, 1.1402968624153407, 0.6627624783240885, 1.4098054956891872, 1.5999275441371676, 1.442251173152545, 0.9460961142085456, 0.9560322274714843, 25.655011488190475, 0.2975176598198422, 1.6326273867564969, 0.48461114752086226, 0.7418352892572241, 0.3105231525245453, 0.6741475593765941, 1.5668485154324974, 2.176832994773163, 0.7764189017637518, 3.125360907771099, 1.1447006182812496, 1.8212029716776854, 0.9075901250273398, 0.31636353331876704, 6.623583735294024, 18.949571008907576, 0.7263560971839145, 0.5707056919165164, 0.6420959396040212, 1.8581238611828583, 0.48149226104763926, 3.765486334638413, 1.5521981599567851, 0.7768082251194595, 0.5322835019817576, 5.239288946736681, 7.035587806128826, 0.2331902761483857, 0.6888235759687893, 1.3918168929155639, 0.6757402517926506, 0.931395701410862, 1.4922027921779732, 10.10802425187049]",
         "[0.7429905484901769, 0.8078729620112605, 0.3268156670221275, 0.46600858242242865, 3.7343203479455838, 0.6063417679189526, 1.7250355237707007, 2.2983799433810677, 1.4469923603859018, 0.4467573381067853, 6.570634464411041, 1.5391058302673968, 0.0, 1.2663358234241655, 2.327747583560935, 0.2178379773448833, 0.9705936721209745, 0.8781515259432789, 0.5060057345332837, 0.23337021250570494, 1.6942464779065376, 0.34013385169309074, 0.7664243284961683, 1.5019148505799944, 0.4559385835610425, 1.1240315753736847, 0.05839470458331919, 7.212322327375118, 0.7248697003315135, 0.012176887468358573, 1.4123710221325503, 0.4944926926121509, 1.606300726025917, 4.971162296556202, 6.599917729743901, 2.2348027087177145, 8.842836084008004, 0.356265402626759, 0.8861139501938974, 1.4928134754928355, 0.05583050966720989, 3.9941377698979315, 1.6836566537964812, 1.4561162936950625, 1.0031206469437355, 0.26586142383201106, 0.8580297280566225, 0.5423746880398101, 0.5656035718218714, 0.7958542056496819, 2.27735308120324, 3.899557642977153, 0.79366967688593, 8.280079871255872, 0.69117347644533, 0.6686427657026605, 0.9739112608998904, 1.1752333174656693, 0.45196739803913677, 0.07704047204308755, 0.3567847655697838, 0.8617605391856245, 0.7966052869921745, 16.868865129076994, 0.6871386675558591, 0.32916421712230187, 13.950679903977145, 1.1499422892859779, 0.48131377099949335, 0.18047929088826517, 1.4535195182266096, 1.3196819908838673, 0.16905174431212294, 1.0218856452114458, 0.44625996021932995, 0.9230736818422149, 10.81895046120678, 0.2405623326819927, 0.14404695445558788, 0.7155353845152878, 1.364005320780934, 0.8357004607357554, 9.358051007179244, 0.610673069785375, 1.3967973556049684, 0.9398258943405714, 0.8544329059516135, 0.5878222042255657, 0.4960409357804427, 2.532486751525297, 0.14637608104996724, 0.026230276815443196, 1.5233188942180989, 0.4196343584920991, 1.9339605477006885, 0.04081962527231754, 2.021196135427579, 2.3847566023804543, 0.6720469111701279, 1.0996058951341512, 1.4668907494516705, 0.45631909706071905, 1.5363010276984912, 13.441946308332644, 3.3658011924806486, 0.2663943256566527, 0.8271664531376542, 0.8000802608320219, 0.0670050345217806, 1.3785532367758473, 0.03398438537024579, 7.030299928169689, 0.1212115214977894, 0.9214008187435296, 7.752813596248387, 7.89195446103794, 13.66214397080016, 1.682933594625601, 0.6341004548222405, 0.2948394730713007, 4.193504710642387, 0.17561057950805076, 0.2027703583424666, 1.1413167247647427, 7.909066401408108, 1.3398589989792995, 0.9853799551768451, 0.7518019555972956, 10.821101144004263, 1.2820982705427462, 0.9725531082582802, 2.7404567961242736, 1.392089291495921, 1.531623045419469, 13.102788281049335, 0.06079477665492874, 0.7690603492189393, 1.3434940987647719, 2.099911441133321, 0.1996568476382076, 1.3686082111649385, 0.07553720768083684, 11.747663548283798, 1.726407469903891, 0.5612548225428089, 0.06017026591932388, 9.703793307414713, 0.760258526025409, 7.228291620077479, 1.2480854779594357, 2.2160524593872766, 0.4033715969810949, 0.695209140985518, 1.0360714217926503, 9.001321941207165, 1.5742937792496663, 5.870081989874766, 7.536081875315749, 2.0665525685709656, 1.1199338168425683, 0.755760474703649, 0.17476395119640534, 0.7431761512102742, 1.6182508965861186, 1.0, 1.3767036111028732, 3.1722491267638877, 0.6706947535225612, 0.6103661327585198, 1.2734601358250357, 1.5421950131772169, 1.7253106362303594, 1.1874988133170878, 0.95843668730982, 23.2799890612896, 0.12721928736085134, 1.1845145718972288, 0.027665561297192606, 0.6596752023469036, 0.9436980391704732, 0.2098171669831197, 0.8349823011087999, 2.0500364663989963, 1.9712868237501484, 3.584481008122997, 1.295371744841138, 1.3765576546746883, 0.849769553538214, 0.2498082704785832, 6.4060042745172385, 17.669972142871465, 0.8962332012320136, 0.8053937368274057, 0.26480501839954595, 2.1508697021435594, 0.7085335967306966, 3.1289956174796143, 1.447447175578716, 0.9136887716854412, 0.28742949204276874, 4.373548556484511, 5.928484665882092, 0.1892054387096416, 0.623280842500521, 1.134082455125951, 0.10903050867305852, 1.9248201960190334, 1.3444372739189048, 8.320695197914313]",
         "[0.6594482936616304, 0.6401924647086155, 0.26724816319112676, 0.746878475195796, 3.6945503993295126, 0.3186088066885627, 2.0997149971468243, 2.103651499438002, 1.2442219489162016, 0.3516559389616106, 5.982019482235755, 1.6494149898164276, 0.12356814258679401, 1.0399097926639194, 2.1058330198677657, 0.9147496136137077, 1.2508625399706337, 0.6238689079401627, 0.01802050355904728, 0.040779500709203775, 1.7456323570191747, 0.13750364397554946, 1.4328342711033963, 1.18641318080744, 0.7394540804632093, 0.9963481189992458, 0.46864569431101094, 6.334824150741981, 0.42453707776341837, 0.052044046813537505, 1.611107698872416, 0.8699744554895283, 1.375217158160375, 4.696354401261329, 5.834154304885822, 2.9833793709993492, 8.536893173507147, 0.0712439542361439, 0.3515833638752423, 1.2814066213596171, 0.16092680394005002, 3.6720809867722526, 1.363914748483429, 1.8019986827053396, 0.9509649656230014, 0.32131020375342545, 0.050006862861553945, 0.2604576115836835, 0.6667851013974349, 0.8171828165081835, 2.6081186984113724, 3.6791751750778556, 0.8748949785886222, 7.566756358466755, 0.34006031855318475, 0.38907705302977125, 0.5058941068141362, 0.9192527107761497, 0.2610553456371566, 0.2023613920523905, 0.3392698214596464, 0.8607479911069964, 0.8719438873129709, 15.353206692364722, 0.6244368219903937, 0.4750681313335965, 13.114836249119293, 1.2394731587537944, 0.5630480734296117, 0.44571222412927297, 1.4336209590880216, 1.1522714082163348, 0.3460056200489222, 0.9496070931154161, 0.15084141563605882, 0.8870174343699192, 9.497633920998924, 0.15698643221435454, 0.09407196381984473, 0.6242467116326386, 1.43277905875436, 0.8112713014775516, 8.459643403195482, 0.5159857809272899, 1.396645144220722, 1.1269083991911377, 0.6002028157103898, 0.49544931583970264, 0.2718688948927475, 2.4133699675566005, 0.03506802176736594, 0.3351989121450361, 1.3948711341568387, 0.2840521124903257, 1.8924832609364546, 0.03976000591906856, 1.6942409757679555, 2.206806558749161, 0.9800984928996209, 0.9131921166182329, 1.4820372195069917, 0.3001709103185696, 1.4792384346797116, 11.9947216905791, 3.139494701901886, 0.5323991939164872, 0.6860390572170253, 1.0, 0.31764101230202096, 1.9344694634641553, 0.6232760636578545, 6.242194424770206, 0.005859424018794671, 0.8372023526349953, 6.914099724062196, 7.151594037423162, 12.54565555596461, 1.3830329137864357, 0.40833936128274206, 0.21785246161538085, 3.8736111854367605, 0.6635300191084895, 0.0015680702514338856, 0.8424150744595201, 7.332454155952743, 1.1760971416018595, 1.5886720560562608, 0.5729750843022392, 9.952629868547348, 1.0375848109850625, 0.8486370165429732, 2.9661063852206735, 1.2637298788219384, 1.4200991183234553, 12.643010087950021, 0.27977866690492975, 0.6724627785541698, 1.3039058857916372, 1.7783939404377158, 0.5004087914944547, 1.0248868106249047, 0.4227766349758786, 10.15811041211874, 1.9023378140537104, 0.43393492915875653, 0.0, 8.97621710640671, 0.7640542505494172, 6.644381802395842, 1.2083240166213784, 2.4440864795143957, 0.11719136817002095, 1.1560701136606708, 0.8729239297418382, 8.41159118429568, 1.2009124444702297, 5.603812608182144, 7.339719531187206, 2.6215532656789176, 1.0097748167988874, 0.6923529566854494, 0.0709800199283672, 0.4247649133249852, 1.4053699138890996, 1.630113792006511, 1.2623423419519983, 2.790694624799798, 0.506609812704585, 0.37770381980678114, 1.1598591550492403, 1.2448306424848214, 2.425795502407977, 1.3222628898895692, 0.8955328610321729, 20.940226314256652, 0.04924945208971794, 1.0252058046993477, 0.07530474450120411, 1.2607033850067795, 1.152454805225247, 0.44517188167775684, 0.037828092017414904, 1.9155984545702298, 2.352158089238421, 3.6193382451066265, 1.1818684318488712, 1.2432980368790663, 0.6053530747843835, 0.20160254738705338, 6.3772386950043485, 16.775991047506203, 0.7489355365218427, 0.5588498013723073, 0.10968051340549388, 1.8685695758991028, 0.668832756232938, 2.895281987661731, 1.3197802482386585, 0.9209944732477212, 0.6759910816257061, 3.8530274701024467, 5.750377101580757, 0.1625078407817441, 0.3442151764928327, 0.7889726023979402, 0.45374398017347595, 2.138597387720914, 1.1365616787475683, 7.455753320113014]",
         "[0.8390912066623084, 0.40954310044625064, 0.2578679468074234, 0.6547419069011648, 3.347694580859196, 0.28317286100131017, 2.095782514495658, 1.8849324783646375, 1.240185203285373, 0.3849558510892775, 5.366563277289547, 1.5011235615714187, 0.15758819338722152, 0.84513219520807, 1.8820637365301047, 1.0374294196230474, 1.4350701544254676, 0.41915765665369376, 0.08108549459676376, 0.0, 1.699515251291892, 0.17895247003833284, 1.5817031097664904, 1.1927871146368636, 0.8397866945516878, 0.9868798226318516, 0.5121249300647208, 5.494333266652617, 0.4575160913435159, 0.07064409073858359, 1.5029083444328784, 0.7839655399914542, 1.085160075724963, 4.092303816381702, 4.95355857108986, 3.0586825022870765, 7.719153191847944, 0.0783258951905437, 0.29329407519321543, 1.2266889438263857, 0.1971681602126971, 3.1479255275034603, 1.2686556372360476, 1.9974798190838992, 1.0779344984857764, 0.20082227540853864, 0.42092141337170186, 0.6997473231715071, 0.8910918127079954, 0.7836220976575522, 2.5554370905919748, 3.3215556092093443, 1.0, 6.769631728442474, 0.20749856232881217, 0.3188025506246982, 0.2874919422435467, 0.5775799924630353, 0.2901882148849206, 0.5562730519730975, 0.4118764625425276, 1.0031059551601949, 0.9261807291910994, 13.979635919113981, 0.7367358632653932, 0.5346711812759642, 11.89337258795533, 1.332757560799533, 0.6729847804411238, 0.60328179724818, 1.409428281424456, 0.968928351958289, 0.5734708355673027, 0.8860258993738299, 0.1824348802937952, 0.9932278688148758, 8.25688195249892, 0.12038167578813287, 0.25304387034613557, 0.7730673419026295, 1.4661658816903045, 0.8942393167048849, 7.584485397821438, 0.215210253255895, 1.3910326643963098, 1.1620887735666916, 0.5117011305801553, 0.5927658516583942, 0.32658812870707365, 2.1099699285364437, 0.24355126071691607, 0.2896631614571211, 1.2260142224929362, 0.07736828652796322, 1.6925468796616083, 0.01931498110475791, 1.6866519703285916, 1.866708480274409, 1.037546259262933, 0.6807542700627506, 1.4865779767464213, 0.33731776377460004, 1.4702337217689976, 10.655717852078409, 2.6161578523444717, 0.7018839995128047, 0.5145907606542318, 1.1206122730683932, 0.4850964054441305, 1.927166732881094, 1.1192242036103226, 5.372601140627801, 0.023901265274063485, 0.9193589398864593, 6.107445271328189, 6.343211365097667, 11.260077329184057, 1.2805076229417802, 0.22729553371044248, 0.1828723896368101, 3.4125446604727907, 0.7743756905161379, 0.07842625286256251, 0.8024422683556396, 6.472931992360561, 1.1910198450240777, 1.6420856989776267, 0.5214835497070514, 8.800826395608333, 0.9383305879985258, 0.7378583843512387, 3.046851310845463, 1.2744694243756292, 1.3794086108786794, 11.586497500323341, 0.3828199181114684, 0.7102188510373881, 1.3268100940556393, 1.5516796195657863, 0.717007023443909, 0.7813480747880633, 0.47748040860523194, 8.62103168750056, 1.8022522979297249, 0.5340212611512619, 0.22365480007994737, 8.06735593028651, 0.9211310163601975, 6.03902856711172, 1.1696309759102324, 2.2975923782128866, 0.17123591518538467, 1.3295865213453968, 0.7455322857382599, 7.455479987050205, 1.1553526210716147, 5.008943774529023, 6.781056187278211, 2.4902141135215383, 1.0670550473686815, 0.6715604587608494, 0.14196367770682147, 0.0575876372504245, 1.0264760853382122, 1.8892488371468985, 1.1631076440591162, 2.8018550045905544, 0.3327487772043534, 0.4127484018662977, 1.1506038479503253, 1.1462623262994882, 2.5343752129169173, 1.476459935161856, 0.7662573718537888, 18.497943945944716, 0.05950911431542496, 0.6879628983042226, 0.19218399782424406, 1.4088896731326797, 1.1325921134714756, 0.5883020085765128, 0.4197021309207718, 1.7725681108740818, 2.2670881578585713, 3.4063501863135026, 1.1221433312170348, 0.9779804179842421, 0.6021370494882528, 0.05949353751177112, 5.984055941599321, 15.285097817406614, 0.7037740994037854, 0.5072887550923958, 0.08759868951842602, 1.6924443500861281, 0.7686802429827033, 2.8946301249247206, 1.162320891534011, 0.8318056968772848, 0.7272703861100791, 3.182171466266117, 5.38264885924135, 0.27925251677258633, 0.32647657311433775, 0.6540846330638904, 0.562399578314288, 2.0212627312402023, 1.1283145607123917, 6.545153676756493]"
        ],
        [
         "67",
         "67",
         "[2.121104978748802, 0.4614243508394433, 3.011784424958635, 0.1689772591529209, 0.19263285759257734, 0.9797090073670891, 0.2705116202388345, 1.326743727680951, 0.4835784690728492, 0.41915909970210635, 0.6064711019895563, 1.9395781933589795, 0.4981854777377618, 0.0007600128290732183, 0.6363257084882576, 0.6929823067681185, 0.7950098548395079, 0.5398154933569976, 2.0297254298916707, 1.2919966083918306, 1.0228953537856655, 1.1044908045601174, 0.9382042778843687, 0.7823214612558542, 3.8159895947342113, 1.5638127489746274, 0.1775797660351604, 1.23005523690515, 0.2618184227061505, 1.1087892194322253, 0.2839380625801092, 1.5197283148617544, 0.5812560248428903, 3.228405546022178, 1.1941261080059717, 0.038550914338163086, 3.1743043270380196, 0.9123521308306005, 0.7185756384980702, 0.1276797747474887, 0.9785226078646958, 0.08837207683215756, 0.49688252062339916, 0.7177792160157572, 0.11175204750182079, 0.04523445336202805, 0.14555226904646848, 4.459008482284819, 0.3712857439303974, 0.11105088666949872, 0.5421370682070229, 1.06877253166434, 0.350441132422912, 0.5815975243508527, 0.05226310845489988, 1.4176426315501496, 1.502970136401277, 4.804281298309746, 0.6630869542149412, 0.5239006538951788, 1.0486813024977721, 0.0007600128290738802, 1.8770649787246767, 0.07589164205308072, 0.021269681692059915, 2.219822024622014, 0.37592167672708077, 0.36736820470702736, 1.2597633428936932, 0.17727355223091884, 1.4584552691226156, 0.7148777343008955, 0.6823441196371028, 2.5802039298361805, 0.9119788001677691, 0.23713737227803422, 1.2208261161703555, 1.01045400263311, 1.1777855854032078, 1.2822444979613863, 0.7035663000761144, 0.08835078674468258, 1.3474956310174633, 1.050178697545204, 0.8686411672135097, 0.5250112595389022, 1.6749900279414398, 0.3193936064991163, 1.0848994690818916, 1.5332618439982675, 0.07307655631585343, 0.27766704326072805, 0.41032469374192937, 1.31586669292131, 1.9808545677189031, 0.04902198800639887, 0.8891281052391029, 0.28283816340731743, 3.29852551381274, 1.1558644349961817, 0.3726902361481873, 1.477248642807485, 0.4255641628749448, 0.44563829083957274, 1.7351471238945024, 1.3612705008420825, 1.5470319390284428, 0.3704970034916748, 0.49825547687200356, 2.1579619635624514, 0.5118603644053461, 1.471131827754888, 1.5877660727180256, 0.2182020949714342, 1.333627960322515, 0.029801433243434094, 0.8401448641579918, 0.008966981545976908, 1.4893000037389517, 0.11933392898165349, 0.7943936962901568, 1.256660203993002, 0.7281764792681595, 0.8422200592922375, 0.2838378042346649, 1.0023672905308858, 0.8503590957811976, 4.574490545971946, 2.8497332115252965, 0.7582510119279953, 0.33021369699536895, 0.42502592147634716, 0.19065154219718716, 0.5829975737258589, 0.7267162266889455, 0.5431516581559925, 0.411640109999984, 0.8020970156023601, 1.8077091053217769, 0.37924417320324283, 0.7169005056399589, 0.23447564646945585, 1.7120504157699936, 0.5344446449602607, 0.005237751930918539, 0.2073664993905156, 0.47888570333273833, 1.0364501684901295, 0.6145845125843834, 1.5357838162376942, 0.6654210290581275, 1.9846737016776599, 0.25080487579456917, 1.1632806736166792, 0.20434669204601355, 3.7844177648358555, 1.9830641708244752, 0.5183922508808984, 1.2385686045831477, 1.4147998630934295, 1.6893144412662902, 1.2684153114549117, 0.6365902551614256, 0.00047735026852998414, 0.6746759112783751, 0.601145819008038, 0.12183981519156058, 0.7648597034609336, 0.4709622970267378, 0.0, 0.08454033117387422, 3.47658324464222, 1.9134857158808454, 2.295243485520259, 1.3628110237777753, 1.0275265109167797, 0.961671404555722, 0.32981498863836567, 0.08858054576664756, 1.9723275535082279, 0.19921586990501938, 0.9192629578453487, 0.6535993554152738, 1.0232753997232282, 1.9539144867176477, 0.46933983257247, 0.5693789310734195, 0.967775313157631, 0.7143488892773427, 0.93620353410199, 0.2630919134285293, 0.2156893899508596, 4.397960882670456, 0.7541034941466516, 1.110449627034076, 0.8909823669598472, 0.051501577782718105, 0.0004074532809612235, 2.063667698470141, 1.3337713457688576, 0.7963373957636464, 0.7284181785889714, 2.617795736107577, 0.8295677091950099, 2.0440701739006015, 1.0497196717412163, 0.6009931628697466, 2.104888003586879, 1.6611139046530097]",
         "[0.0, 0.0, 0.0, 0.0, 0.0, 0.0, 0.0, 0.0, 0.0, 0.0, 0.0, 0.0, 0.0, 0.0, 0.0, 0.0, 0.0, 0.0, 0.0, 0.0, 0.0, 0.0, 0.0, 0.0, 0.0, 0.0, 0.0, 0.0, 0.0, 0.0, 0.0, 0.0, 0.0, 0.0, 0.0, 0.0, 0.0, 0.0, 0.0, 0.0, 0.0, 0.0, 0.0, 0.0, 0.0, 0.0, 0.0, 0.0, 0.0, 0.0, 0.0, 0.0, 0.0, 0.0, 0.0, 0.0, 0.0, 0.0, 0.0, 0.0, 0.0, 0.0, 0.0, 0.0, 0.0, 0.0, 0.0, 0.0, 0.0, 0.0, 0.0, 0.0, 0.0, 0.0, 0.0, 0.0, 0.0, 0.0, 0.0, 0.0, 0.0, 0.0, 0.0, 0.0, 0.0, 0.0, 0.0, 0.0, 0.0, 0.0, 0.0, 0.0, 0.0, 0.0, 0.0, 0.0, 0.0, 0.0, 0.0, 0.0, 0.0, 0.0, 0.0, 0.0, 0.0, 0.0, 0.0, 0.0, 0.0, 0.0, 0.0, 0.0, 0.0, 0.0, 0.0, 0.0, 0.0, 0.0, 0.0, 0.0, 0.0, 0.0, 0.0, 0.0, 0.0, 0.0, 0.0, 0.0, 0.0, 0.0, 0.0, 0.0, 0.0, 0.0, 0.0, 0.0, 0.0, 0.0, 0.0, 0.0, 0.0, 0.0, 0.0, 0.0, 0.0, 0.0, 0.0, 0.0, 0.0, 0.0, 0.0, 0.0, 0.0, 0.0, 0.0, 0.0, 0.0, 0.0, 0.0, 0.0, 0.0, 0.0, 0.0, 0.0, 0.0, 0.0, 0.0, 0.0, 0.0, 0.0, 0.0, 0.0, 0.0, 0.0, 0.0, 0.0, 0.0, 0.0, 0.0, 0.0, 0.0, 0.0, 0.0, 0.0, 0.0, 0.0, 0.0, 0.0, 0.0, 0.0, 0.0, 0.0, 0.0, 0.0, 0.0, 0.0, 0.0, 0.0, 0.0, 0.0, 0.0, 0.0, 0.0, 0.0, 0.0, 0.0, 0.0, 0.0, 0.0]",
         "[6.0869080097575905, 1.0045559627096092, 0.05843286677054752, 0.8496987270337931, 1.736556626160976, 1.074528276824381, 5.109446320295351, 0.15095280759222582, 0.45154483948458307, 1.5556233248439102, 0.29496942147295147, 0.1668886591063462, 0.45343053433312513, 0.1657470122309333, 0.4653981740115202, 0.6426425463259817, 0.3961504798396421, 0.8864081913796592, 0.6137857197535788, 0.31093175333325473, 0.7739565345847192, 0.2543139069783726, 1.390606656405094, 1.293662035764966, 2.398484532103649, 0.9431190913236707, 0.8388181031958519, 0.0076801035890760655, 1.136588079744965, 1.532648312733343, 0.7464413523759591, 0.12733040996667905, 1.6648141550490134, 0.07123074180298368, 1.2315987731071552, 2.0847636525950435, 0.40392238080073317, 0.8088161538036961, 1.349368158978441, 0.0047474527828423405, 1.1613684552303458, 0.19738885182442373, 3.0033380277661235, 1.3485100116696283, 0.3594016665002588, 0.19703858347029046, 6.2000032217713565, 1.3960097189360425, 0.5599926781124708, 0.7532313335523074, 1.3906066564051973, 1.3791523092815234, 1.539339957039406, 7.306455829586255, 2.067167103836739, 0.9538317334051666, 0.5309393610160723, 0.24330723616391775, 0.8921088171666482, 1.5798461613480648, 2.2284645846850286, 0.9837366566927802, 0.31119378500671246, 1.1508057929659812, 0.22397657909017443, 0.09814857725070263, 0.16527017439997432, 8.579372695211804, 3.5344465031938155, 0.7934679904796441, 0.21861467519891278, 1.218875319855593, 0.8821449144027421, 0.08540146569117686, 0.254472050757432, 0.39615047983961793, 1.3584769424603609, 6.452863252098759, 1.757779991064139, 0.11568889673354549, 4.605343520566515, 0.06285612601296067, 0.3409213576237768, 1.450754197108495, 1.2369289176796023, 0.5936294576920189, 6.7930260885032885, 0.14325312833108095, 0.9122544365600611, 1.6915903545871078, 0.49069896498080057, 3.8382302867156475, 1.1552078007495747, 0.5354541995073769, 0.8625236242698997, 1.2647624140639124, 0.23861530960967572, 1.268863175025568, 1.0242889367314547, 1.5230192469942954, 0.4278560501956773, 3.4764365667536783, 0.2949304385272284, 3.9114156704774237, 5.219885277539505, 5.872692171102952, 3.8239342222964945, 1.1815593644710254, 0.4484477837985642, 2.1571469871316555, 1.3493681589785873, 0.6476777769973177, 0.7135724578882264, 0.17352325086378176, 1.5073474768003523, 2.2284645846849545, 0.3594016665002588, 0.15481499021397996, 1.1839523205225986, 0.9610128080060034, 3.647399333490587, 0.6929299878954598, 1.175397448491904, 0.49156923932843105, 2.796104761404075, 3.39896371108408, 2.685158122282732, 0.08309080126418286, 0.2519399007672547, 0.20007159802818592, 3.8012380946180286, 1.5570468656392897, 1.564708432771332, 0.050807093769672865, 1.828161665502877, 0.9431190913236052, 2.0847636525949933, 1.1823710829505185, 0.9071621334097026, 2.331503900251916, 1.6950305189712147, 0.6795634171721497, 1.6823756239472574, 1.912022879299505, 0.40260903673602483, 0.8745583779857943, 1.8270660822141604, 0.14518461720319512, 1.4362216250437692, 8.698725632735044, 1.1028856347430196, 1.5349164278605503, 0.5253975431695422, 1.7378229538038772, 4.28611466172759, 0.6795634171721686, 0.6948404018789062, 4.796853961459696, 0.6772281922425079, 0.9787668016312326, 6.450836040614557, 0.034599670722704125, 1.4133071988982544, 0.9607001402109163, 1.637667343520304, 1.8762820910996207, 0.0, 1.0, 7.588463047386265, 6.715931190888059, 0.034599670722534406, 1.6826536640989822, 2.4243891019650565, 0.48463640363414395, 0.8388008585642316, 0.15481499021401268, 0.7752939882430883, 3.2726399266933677, 0.09994525892504834, 1.2478437538917382, 4.234404971141854, 0.06193846660316631, 4.822605679740314, 0.07794893807245751, 0.9508377891963948, 4.627589472733083, 0.49627941576002876, 0.6581825618943749, 0.3492499534950966, 0.27734323551014506, 1.8270660822141467, 5.321394800693183, 0.0346385746526591, 2.27693012023815, 0.6641892876707225, 1.8391194193917837, 1.4093774292196704, 0.7934679904794335, 0.8429637036416571, 0.6709166816499145, 1.1053595364870767, 1.0503198971671681, 5.885091440317379, 2.7961047614041132, 0.6581825618941716, 0.35979159957206863, 1.161368455230379, 1.9362826774008572, 1.1905859577395224]",
         "[8.401500034493825, 1.0, 0.05056129715364117, 1.0350007907661931, 2.938609261489155, 0.6023127999329145, 4.826157117847753, 0.22990888227898731, 0.5866112721911628, 1.3880112086604652, 0.42741771629574715, 0.6964374141551015, 0.8715702860370911, 0.08180510013395971, 0.7017256913676871, 0.8710192815780542, 0.2723866458007326, 1.0592354233154684, 0.6381312744328606, 0.4709557995212441, 0.5354474568551307, 0.2867514490002319, 1.224022160842652, 1.1224000210381038, 2.80833581074058, 2.1644332309790775, 1.1344339471860112, 0.4187796636287704, 0.6086585547604302, 1.5043636792584316, 0.8735248496722673, 0.6632245145594078, 1.2316473251860913, 1.0256032611747237, 1.1647879088434245, 1.189061189395809, 0.16099854664904809, 0.6305073499767668, 0.6723978980706282, 0.47977427698149594, 1.190671302354882, 0.15924426951638107, 2.449080361172681, 1.0620300428646778, 0.23659617517500414, 0.051792866479189764, 5.136022989715719, 1.3371203705088865, 0.6437585930850023, 1.2154202957557108, 1.4842477448355444, 0.5525707443453777, 0.8005767376502892, 6.916417052405632, 0.9517141279515664, 0.13913168244792537, 0.7409551335247104, 0.12430270379971464, 0.7522442706304173, 1.4515337920909888, 2.6213066349888776, 0.3262366583532382, 0.22350151558867973, 1.2855098757502046, 0.4763937513450008, 0.14921956849119372, 0.0, 8.355082420544766, 3.3119755438908722, 0.7359974345934083, 0.28752712424838006, 0.9908144948849242, 0.9008765588131348, 0.3923944378914481, 0.004895225185505489, 0.06836328473728998, 0.6334807623985521, 6.808472679765655, 1.4877041276483896, 0.3785283351884899, 4.735035433126362, 0.2167654591594967, 0.4131499564720962, 1.5442726422416349, 0.8854436757690405, 1.540243521841522, 6.637307617119742, 0.08980109776234678, 1.2292745480856127, 0.8762933263474575, 0.8949592399312627, 3.530504280895266, 1.664214468038076, 0.764746411865098, 0.9635216200638929, 1.3872264648435007, 0.7534984712521672, 1.0614722064511677, 1.2965536108561706, 1.076730306158447, 0.07812197723754664, 3.0200836195202005, 0.4588999549404715, 2.8008385140666383, 5.047829003637782, 6.598020896015381, 3.003796108652257, 1.3416646156493894, 0.589005061791484, 1.4766382827067108, 1.0447540614197968, 0.09487321385537828, 0.5943566946770611, 0.1329501662176624, 0.8331643117960191, 2.4330573284932204, 0.5315637420352435, 0.3081331715307451, 1.3613032205139222, 0.4357782107407131, 3.321927398012685, 0.8623863471069626, 1.523031024249208, 0.8921207385026558, 3.0824625494925892, 3.2717693938158536, 3.7303838240579608, 0.36756814538595495, 0.015574600607073257, 0.5438375506433177, 3.723172799217531, 1.1441775282787705, 1.0983754275151156, 0.31184297786996956, 1.8177195890941868, 1.7273381721032457, 1.7852096942835864, 1.027922900728533, 0.9256002786925104, 2.2141657810212836, 1.4635218439879103, 0.9618135663335202, 1.4036961302944662, 3.6978227609225995, 0.01168768821991993, 1.2024962272374498, 1.6932148231481754, 0.2925145189981888, 1.2665137020967374, 8.341432563578113, 1.338992995743138, 1.70601410829706, 0.2560010808180454, 1.343883129270553, 3.424258020520646, 1.1730801095506327, 0.5236083658579043, 4.381810644821373, 0.8780901191151527, 0.8204121009348766, 8.010427110394618, 0.06682496862190926, 1.3487227330907157, 1.065679377467206, 1.7358187349445875, 1.8461746205320475, 0.41208729907622166, 1.120396554421161, 6.81913710798259, 4.845597856173905, 0.3982705182436489, 1.4688633662366382, 2.0104018204728096, 0.3995628000880029, 1.1416671117066894, 0.5594139789067608, 0.38468528400809077, 4.087009501382058, 0.2348495607153764, 1.0388326772229368, 4.0928897813430085, 0.15113482484860624, 4.305446303696662, 0.27786163538171316, 0.1513539313673342, 4.1631522411418675, 0.7753974471826993, 0.6393904439348079, 0.24199261320712726, 0.16912707288108786, 1.9148920977884638, 5.462270848848863, 0.6989250401843047, 4.001337729474766, 1.2543320567780454, 1.309679194811579, 1.4089231710231958, 0.8794157873682981, 0.1525693701174939, 0.3691174964371671, 0.9795509610715406, 0.8384475571251168, 6.447167129683693, 3.6167116094609093, 0.5572092458613161, 0.9604929536560493, 0.6824327637570383, 1.7981667343174177, 1.2461341717602041]",
         "[8.740737373302332, 1.0038627475237536, 0.0, 1.032969222868881, 2.819762829836758, 0.8309931455784778, 4.511800996123286, 0.4321444813206661, 0.7472218313395043, 1.299351705578549, 0.6493733212122238, 0.7675488651296991, 0.9160949921773726, 0.09746294894638, 0.5870155605818504, 1.0171912575463313, 0.5234457121556156, 0.8833123625788465, 1.2586105231480242, 0.4798296351255073, 0.45189868482545137, 0.30983148274083394, 1.020425094938638, 1.0179009351031587, 2.9904890446516372, 2.436168667858777, 0.959998846325121, 0.627217379280028, 0.4422366504820653, 1.4961525024967794, 1.0437838211042205, 0.7067207969739159, 1.1488342528449935, 1.5974933371691975, 1.0876078330938006, 1.1572681194841454, 0.1514442035132855, 0.6200335219531429, 0.5405891940177928, 0.542203098722738, 0.9507789785610048, 0.2409473342176007, 2.0710040824304685, 0.7776157848708222, 0.17137245230392836, 0.03463813770306531, 5.189630205045966, 1.2479580058730246, 0.6209184200919758, 1.2730314852679714, 1.3365321433348412, 0.48837772004969665, 0.4260797157587479, 6.558188618272145, 0.7403176129268129, 0.3517224607638556, 0.6559004114356567, 0.10497040035298558, 0.770352464365249, 1.3908640137628487, 2.807737779521754, 0.09121164417787371, 0.47201455039198803, 1.2775286742153487, 0.42542499954815016, 0.34448387585927137, 0.29043489672863726, 8.263164977745406, 3.46644970652744, 0.49039684532448674, 0.3467304326558739, 0.9976655561906675, 0.8560987751211587, 0.49883260512157096, 0.1097664780615564, 0.10262317990631385, 0.5630742355622712, 6.434220683588348, 1.4535971128509073, 0.3942903506961502, 4.959577060858829, 0.015158250020498948, 0.774538163315162, 1.4632625323483028, 0.929126976305807, 1.8241111770945189, 6.111384896481722, 0.2686291146899134, 1.2649267951349707, 0.6761235810183184, 0.8929416296555663, 3.4477939813340956, 1.7199633404142465, 1.423339359495892, 1.0494918376587166, 1.421958769754159, 0.8754120734707345, 1.1560678709058136, 1.236216564498036, 0.9347036038222692, 0.2903147094695779, 2.9016974036064895, 0.4745550200769996, 2.57172081025786, 4.852041760749131, 6.4850018255430415, 2.634228883715907, 1.31686256500694, 0.6793702154822019, 1.560888892474631, 0.930555788536864, 0.14615005396265024, 0.5459255570641145, 0.21615826431206323, 0.6558678128088884, 3.2113238021489607, 0.4784873029535248, 0.3489615038992245, 1.404426626670014, 0.3050097128442069, 3.236520329564933, 1.0, 1.4570083387351904, 1.0452915255059887, 3.2380973109714106, 2.967988501328074, 4.257282743239915, 0.7919560938466178, 0.011764077984259911, 0.556970594013847, 3.587924061128019, 0.9799534948411202, 0.9936172551686807, 0.5759858102300524, 1.5337644521929064, 1.9506535157302494, 1.5068183636047596, 1.1236518211478248, 1.0920121311431101, 2.1217377412465837, 1.545516654805672, 0.9413213800431434, 1.1911116471017857, 4.262968345641873, 0.12293353545626008, 1.27365918756121, 1.8966703358356771, 0.2398119040909038, 1.225657525868339, 8.56712931969102, 1.2901018126479964, 1.415812565664984, 0.15822313385580922, 1.208516823979675, 2.9949241421090833, 1.2883592051453292, 0.41973855737718857, 4.797474278109525, 0.9534198465000099, 0.8666529438392224, 8.350706042671122, 0.11319235583251164, 1.2470380162359112, 1.1270616577533072, 1.4699611252833567, 1.5252732392900834, 0.4937913999864149, 1.085244337844729, 6.376034997499696, 4.105454080211898, 0.19203256738431432, 1.4321996060343005, 1.7913290487761813, 0.5425529008352046, 1.0871499457286835, 0.7584517951929654, 0.34527896464826463, 4.233542684703475, 0.3129117290684232, 0.9476879289935136, 4.178593864819071, 0.19413300468975625, 4.25027413439598, 0.5777665731079522, 0.35814550905144255, 3.9022766428054796, 0.7175555028465589, 0.533419484776465, 0.5288155801443615, 0.03540920601913081, 2.0183293111878635, 5.787760086202131, 0.9700588403166831, 4.696640723376994, 1.4305557992852886, 1.3476292551348226, 1.2152327445325395, 0.7172155574405358, 0.22642584136538882, 0.23468865593325572, 0.8382152783476793, 0.8333634133653167, 6.225338047799777, 3.8639377205437504, 0.5888245464850314, 1.0013091597601143, 0.6175193264870777, 1.8746658192034487, 1.2566077692686433]",
         "[8.997599716152656, 0.9033709011799542, 0.06757330336679256, 0.8655478037797691, 2.7279602174025017, 0.9161365996668863, 4.319184332251188, 0.6030077117776047, 0.7789531670334039, 1.2946590751464664, 0.7171156715566454, 1.0, 1.1079826367734182, 0.041532843992614234, 0.47511080651347865, 1.1250931490625502, 0.5914622158375062, 0.7994310103483986, 1.5424544073262678, 0.49526469966801956, 0.26693638646918766, 0.32248606393203844, 0.9424893702977479, 1.090514114203963, 3.14616171242485, 2.572958789221364, 0.9173666462081316, 0.7557382511951045, 0.4007685347527807, 1.3969165904199812, 1.2142195714518174, 0.6431167754138509, 1.2011483395844174, 1.8014093243323361, 1.1461384873723919, 1.1789461231667604, 0.06338712611719394, 0.6864303837821805, 0.5559581053935099, 0.5837056600450811, 0.9051544544948124, 0.33002773363989224, 1.9353721543696196, 0.6944367043541465, 0.27801248207986984, 0.31012168052233874, 5.316114740464015, 1.1739941613402478, 0.5363818933072728, 1.119117245751, 1.2083735862415863, 0.29255283379530245, 0.23530760284562227, 6.381185177259187, 0.8524596227369692, 0.37352730616012586, 0.5783477763397105, 0.1823276506774906, 0.6863643455083726, 1.3362655224916316, 3.1572340980560396, 0.0, 0.6613767391048047, 1.3244857543933637, 0.4129553356234093, 0.5525824605359604, 0.3363692984628958, 8.596215789178526, 3.5178135801373664, 0.3964735849321708, 0.44175315770911705, 1.0408936597995446, 0.7202918007827359, 0.5391760825976893, 0.1145249715562788, 0.120916239807176, 0.30961021653453846, 6.419524995957615, 1.4001842619887397, 0.5325620909139708, 5.448161926240268, 0.26214890881358827, 0.9693743626683933, 1.4217421896468276, 0.9261626855794762, 1.9951306954712973, 6.071486365220748, 0.22584338767751203, 1.2187373717840844, 0.8062230258764748, 0.8322595211133637, 3.4503283743578783, 1.665681095869385, 1.7295618012959098, 1.1307612558856726, 1.2888781779862677, 0.8816808567265078, 1.2207093540441123, 1.179194681480424, 0.9105291058782514, 0.4264414666632504, 2.9243810848585428, 0.4879944711247191, 2.5935844755645396, 4.986830128565577, 6.5394447577541515, 2.6058127017618147, 1.3816444113291781, 0.8023769309097888, 1.6635761124731907, 0.8762102646123259, 0.12353575983868631, 0.5902131064127728, 0.03774713375540724, 0.647966653388645, 3.5272963275976443, 0.5379599448875065, 0.26052254766925437, 1.2778569806743991, 0.4012721569080106, 3.2652039780942768, 1.0831215810684427, 1.3136030820581115, 1.0584625447312035, 3.381475645481225, 2.959723160163973, 4.786734131919296, 0.9534624688263001, 0.023223062449194067, 0.48137655341854724, 3.967174129185449, 0.9733123507291147, 0.9638119730862423, 0.7302080214616918, 1.4463665576824192, 2.035672006997702, 1.4196188230151068, 1.2630820576498223, 1.133013104436745, 2.1024359898359357, 1.651659605082803, 0.9419986839905515, 1.182140535842791, 4.628428378254584, 0.12950339514319215, 1.3526745018743818, 2.060560917339116, 0.1715039614182312, 1.2269535854457734, 8.845210353286703, 1.2909774992679448, 1.3087248056716458, 0.14291478946174255, 1.3978852721119839, 2.8275843387731947, 1.3800089083334757, 0.3311661380535862, 5.1033305960510305, 0.9555478997290188, 0.9455100840263607, 8.627428598430878, 0.0861315457481443, 1.1640417967455063, 1.162726159133006, 1.347758354731676, 1.4403315983445897, 0.39732923949891485, 0.9515556049250495, 6.38763700031924, 3.8780390366467214, 0.09872354663386577, 1.4134052495254925, 1.7699723192007115, 0.6749930236395362, 1.013341277301599, 0.7979327205556349, 0.35079991702416774, 4.420333353311138, 0.3828204757513689, 1.0303281832710371, 4.402544748766793, 0.04228573057855479, 4.4101498193780335, 0.7809517469689843, 0.3810220385727834, 4.11655814577748, 0.681481855622436, 0.2793032090360277, 0.7057669149521748, 0.17948058137734507, 2.2130816573919456, 5.862498648957853, 1.1420847121643798, 5.0496842609025085, 1.4716962948038799, 1.5540078224090654, 1.053625735584462, 0.6935975319687443, 0.4375150671699191, 0.15181134653295106, 0.7794712373988033, 0.8822398739936075, 6.266362787018337, 4.044993071023636, 0.4970714321745812, 0.9952753311656898, 0.5711522420525574, 1.9387513386845663, 1.3140596464050212]",
         "[8.834053688953396, 0.891216874676246, 0.19325484757480813, 0.8187048120496503, 2.5817321409907965, 0.9421904468493519, 4.284132742758887, 0.6928983202923705, 0.7830090030946846, 1.2288564872258037, 0.8179950414300415, 1.0004906549039383, 1.1580368127901393, 0.08690403426985396, 0.3022001923108213, 1.2401780655614136, 0.6806672003769128, 0.7045290716189234, 1.5866399532496007, 0.4925205040217845, 0.20337296647230865, 0.3875399457652587, 0.9081803943197461, 1.1948140684777744, 3.1234809061000646, 2.6513058299876926, 0.9257949920224998, 0.867851580218631, 0.34136004142486887, 1.2990460705134441, 1.3219058034440923, 0.5957806069911641, 1.2978145329573556, 1.8815584063854613, 1.2654510927184683, 1.0668709008540396, 0.0659473053819512, 0.75929792642506, 0.5758925243364001, 0.6042486537699764, 0.8437697821998692, 0.363878514104989, 1.775464540226237, 0.6567742997779354, 0.32131407515742777, 0.48152421060518236, 5.199043730496598, 1.1355428526901827, 0.4259585775257484, 0.987342785300565, 1.1163432227882362, 0.30010749098750866, 0.07648729741083662, 6.04161263032957, 0.7986815428511719, 0.3859296078073884, 0.6144526041834258, 0.20144765901166625, 0.6925062589885318, 1.2637256043025757, 3.1723113262285367, 0.03202853651543517, 0.8431905588257603, 1.3716183277945178, 0.31477549254076775, 0.5894439408137562, 0.2711779627694547, 8.441658623203846, 3.4122675599752523, 0.3788989569790163, 0.5687513321294687, 0.9242784310687557, 0.6795753012676641, 0.5714603599165514, 0.16731960906231227, 0.11464068640642756, 0.2698823400942334, 6.235511544006811, 1.2987925230126987, 0.6881273256500341, 5.486691566132955, 0.3442862890844206, 1.0610422594503819, 1.3232890969740432, 0.9330432470169943, 1.9312912540265987, 5.855615416641531, 0.09651878170060606, 1.0920204230302446, 1.0309032421783013, 0.7796878066347965, 3.322954761558881, 1.5172168414695424, 1.767630687510584, 1.2226518480274813, 1.116087714807618, 0.7970099802819277, 1.3148301491045193, 1.0743853510586234, 0.9292470525502744, 0.5673062662510461, 2.8846553603428515, 0.4878130203782824, 2.5213267702670983, 4.926080198997727, 6.3624309373148815, 2.4391861430638477, 1.3481565190870104, 0.9170800527069722, 1.5293348780173566, 0.8422760512487459, 0.19715771244681374, 0.5921578732246553, 0.24713592651750724, 0.5936007203553851, 3.4968000702388444, 0.536414889432188, 0.2737159384205107, 1.1244968379475695, 0.4030039252358271, 3.166837289137631, 1.1689768641691753, 1.2185715426764108, 0.954104620730515, 3.3365361632116115, 2.860815973718925, 4.852174983757569, 1.0614035086627882, 0.09985447663127638, 0.4184551031003073, 4.005989087988768, 0.9945901189872417, 0.9905636242428609, 0.8233929344430514, 1.3789725096798848, 1.986877151290983, 1.2047373385400508, 1.3231126324112252, 1.131710376491418, 1.9499126198359795, 1.6165368316812598, 0.8885907047338563, 1.1290035834544843, 4.664615835120547, 0.06713071087304498, 1.3815694957002094, 1.9851010627279435, 0.19439069087356092, 1.2133107667351557, 8.734497356556322, 1.2180646803967976, 1.247664770962444, 0.21636709062911424, 1.4620294298197665, 2.7871566156572154, 1.34957279564041, 0.38399604544321964, 5.001990948144764, 1.0292369430895287, 0.9676134078734294, 8.483650169805221, 0.0, 1.138023262862316, 1.2660342615223878, 1.252711916299152, 1.3465344480216765, 0.41629029287201685, 0.909605748543054, 6.25948081838991, 3.7727949924379818, 0.03560039923387294, 1.3113211781722782, 1.7283222130515319, 0.7415661650657264, 0.9730370747903114, 0.7179157484061527, 0.24121366318524987, 4.391894437729034, 0.37130291788961084, 0.9011973125872587, 4.354379592305741, 0.16978048270072862, 4.270588762067468, 0.8251291722978579, 0.39109549568596064, 4.05136486719773, 0.7304988699738034, 0.23005553002936324, 0.8047942646957187, 0.3054088448286413, 2.2112656935875754, 5.725430921979984, 1.2611244359106897, 4.990825195799451, 1.4713773012154998, 1.6450616885699214, 1.0396451872789287, 0.6939174350045515, 0.37507179323087775, 0.05206747488523793, 0.7235536044606401, 0.793898557161347, 6.202796436875734, 3.971981674637032, 0.4557108956851405, 1.0, 0.598272919934313, 1.8449129580258172, 1.4173249498742728]"
        ],
        [
         "78",
         "78",
         "[6.848823792515511e-05, 7.53805302494917e-05, 0.0002761737387742211, 0.00045454907136057565, 0.000279880896936703, 0.00040404903287482723, 0.00019814170141100674, 0.0010364591411255591, 0.00011765682866008338, 0.0006640311476341382, 4.987089998485519e-05, 0.0005641147364553077, 0.0001212278617566394, 17.322417114903747, 0.00023422796459788222, 0.00037504322181783524, 1.2492773433839577e-05, 2.0159740261733417e-05, 8.101943639013589e-05, 1.577099109753877e-05, 0.0003235963088172837, 9.698231025913682e-05, 1.1042618268017375e-05, 17.322417114903747, 0.00010022688751148526, 2.3002371173540916e-05, 26.23799444512509, 0.00013008881023178655, 0.00014399735947782602, 0.0002534651337878198, 2.551967379953325e-05, 0.00025621829632791675, 1.3413708087949725e-05, 0.0004730333126703024, 0.0027119449502382756, 0.0007002518513198268, 3.4210723344419377e-07, 4.916987208204881e-05, 0.00011406011994079977, 0.00011802950741807302, 0.00029347062723502514, 0.000214929238184031, 0.0003568408903505605, 0.0008396426908101088, 0.00015978886953891375, 0.03955349044713823, 0.00018660396986328086, 0.00011714438595181019, 17.322417114903747, 0.0002093126136437248, 0.00027516290721028586, 0.00029820929636198553, 0.0007073318512010493, 0.00037085733715761746, 0.00027570452670061903, 6.794882796782782e-05, 6.6639829265417e-05, 0.0001978944776209044, 0.0002237031129416678, 0.0005480654599592639, 2.589832780067226e-05, 0.00014834329135236685, 6.118453692065529e-05, 0.00017597710273860288, 0.0006396080160376526, 17.322417114903747, 0.0010199325968687767, 0.00021189756245451586, 0.00012061370922787331, 0.0013216004302233917, 0.00011125113697104354, 0.00016901247058371266, 8.842415712144295e-06, 0.00025239726360919607, 26.23799444512509, 0.00023249809037721652, 0.000158626855005603, 0.0006860353722107999, 9.928073544712641e-05, 0.00015660972860284097, 0.00022471999899284094, 0.0005405589383017353, 0.0005720313657697344, 0.0004620844103367999, 0.00031448239320154797, 0.00017489717404025218, 9.366378732371154e-05, 0.0005868958387341294, 5.333248418142081e-05, 0.00014493279408119917, 0.0005084476699822994, 1.1501954668631642e-05, 0.0001643936658899745, 3.2923830809476455e-05, 0.0003747239176113532, 4.892694973406975e-05, 2.9376863876325558e-05, 0.00020949390763428925, 6.254212872724117e-05, 0.0032338668447776915, 2.527052277595565e-05, 8.23157219999871e-05, 0.005877498835670761, 0.0002966116295861481, 0.00010824523602258809, 0.00020280816786081356, 0.00024278966647634932, 0.0007730238314129205, 26.23799444512509, 0.00040680859721116706, 7.110151111594862e-05, 0.00014136516822541115, 0.00039115635949005196, 0.0035631919698396325, 0.0003297474848166389, 9.206995325297252e-05, 0.0004152720931365354, 0.00012242496702582407, 0.00017759641303722644, 0.0005238711378826108, 0.00025799961222341066, 0.0001317913723404761, 0.00035449670149729313, 3.653637970874719e-05, 0.0002525250572437393, 0.00022441161014970766, 0.0005414390089978607, 0.00037999678301716143, 0.00015064194813119977, 0.0004048857846426028, 0.00018937395507385424, 8.101943639013589e-05, 0.00012055745291187972, 0.0, 3.4210723344419377e-07, 1.446527688790768e-05, 0.0015604660021148794, 1.2747602630166812e-05, 0.0001388674781670635, 0.0006449429364193588, 0.000276675804650035, 0.0006396561365870233, 17.322417114903747, 0.00043956947657970447, 0.00030377665828282003, 6.239276695050593e-05, 8.72091878516772e-06, 0.00018526198583207425, 0.0007240301400619921, 0.00037093938722240386, 0.00019104244778333961, 0.0003217459156427395, 0.0005724766419248658, 0.0010586975859834295, 0.0001625175366817688, 0.0001049553363512636, 0.00017518760735814892, 0.00020042538281978155, 0.0011202736458557911, 0.00016155239267693315, 2.9028388673746888e-05, 0.0003141459011597788, 7.921457107160387e-06, 0.00014634944724544006, 0.00013539819433544992, 0.00011795774592284917, 0.001970624864657217, 0.00030771432922884455, 0.00016638116485679491, 0.00022437306731274364, 26.23799444512509, 0.00033563809613913916, 0.0005037856144860653, 0.000172226713696627, 0.00018783766302163065, 0.0004340325027602852, 7.653322425362258e-05, 0.0019835762929582457, 0.0006056109801872468, 6.110004989184999e-05, 0.00027535987119535016, 0.0005799079924083954, 0.00022019008928925927, 0.0007804361445935235, 0.0007075444876229281, 0.0002817072305632597, 0.0018151714665814416, 0.00019947164144878027, 2.9985436589118334e-05, 0.000689787546725733, 0.0006716440976082715, 0.00048356209014125843, 0.0006740003734635869, 6.622725092548987e-05, 0.00013627972946770047, 2.305610416087864e-05, 0.00018187932120930766, 0.0003427500823500124, 4.9207104078149336e-05, 0.0001777720577908508, 0.000579748866548744, 6.554696907051658e-05, 0.00012195484675578205, 0.0002963422471086, 17.322417114903747, 7.861703899906314e-05, 6.537181414549236e-05, 0.0001720028427812906, 0.0005539250237249233]",
         "[0.0, 0.0, 0.0, 0.0, 0.0, 0.0, 0.0, 0.0, 0.0, 0.0, 0.0, 0.0, 0.0, 0.0, 0.0, 0.0, 0.0, 0.0, 0.0, 0.0, 0.0, 0.0, 0.0, 0.0, 0.0, 0.0, 0.0, 0.0, 0.0, 0.0, 0.0, 0.0, 0.0, 0.0, 0.0, 0.0, 0.0, 0.0, 0.0, 0.0, 0.0, 0.0, 0.0, 0.0, 0.0, 0.0, 0.0, 0.0, 0.0, 0.0, 0.0, 0.0, 0.0, 0.0, 0.0, 0.0, 0.0, 0.0, 0.0, 0.0, 0.0, 0.0, 0.0, 0.0, 0.0, 0.0, 0.0, 0.0, 0.0, 0.0, 0.0, 0.0, 0.0, 0.0, 0.0, 0.0, 0.0, 0.0, 0.0, 0.0, 0.0, 0.0, 0.0, 0.0, 0.0, 0.0, 0.0, 0.0, 0.0, 0.0, 0.0, 0.0, 0.0, 0.0, 0.0, 0.0, 0.0, 0.0, 0.0, 0.0, 0.0, 0.0, 0.0, 0.0, 0.0, 0.0, 0.0, 0.0, 0.0, 0.0, 0.0, 0.0, 0.0, 0.0, 0.0, 0.0, 0.0, 0.0, 0.0, 0.0, 0.0, 0.0, 0.0, 0.0, 0.0, 0.0, 0.0, 0.0, 0.0, 0.0, 0.0, 0.0, 0.0, 0.0, 0.0, 0.0, 0.0, 0.0, 0.0, 0.0, 0.0, 0.0, 0.0, 0.0, 0.0, 0.0, 0.0, 0.0, 0.0, 0.0, 0.0, 0.0, 0.0, 0.0, 0.0, 0.0, 0.0, 0.0, 0.0, 0.0, 0.0, 0.0, 0.0, 0.0, 0.0, 0.0, 0.0, 0.0, 0.0, 0.0, 0.0, 0.0, 0.0, 0.0, 0.0, 0.0, 0.0, 0.0, 0.0, 0.0, 0.0, 0.0, 0.0, 0.0, 0.0, 0.0, 0.0, 0.0, 0.0, 0.0, 0.0, 0.0, 0.0, 0.0, 0.0, 0.0, 0.0, 0.0, 0.0, 0.0, 0.0, 0.0, 0.0, 0.0, 0.0, 0.0, 0.0, 0.0, 0.0]",
         "[1.753175390959638, 11.382327333049794, 1.083723552069097, 0.5261974796853037, 0.43073744160789207, 0.3683531700271655, 0.6584157957408397, 1.1267536513815966, 0.8328307985923082, 0.7749607397297458, 3.0844335011066306, 0.0, 1.8304808310598546, 0.6112044794416058, 0.25792358500259305, 1.7461353332898288, 0.904684800840153, 1.5680100951091116, 0.03528016575589189, 1.104559910051605, 1.4463695156187057, 2.861022893552062, 0.8006094542458441, 1.9727206614556538, 0.3554320427724364, 2.1706132124909945, 0.634365400142801, 3.913292519953017, 2.419408746929738, 2.0941879196264943, 0.4631528700171766, 1.6558098506767014, 1.3110127407020524, 2.0300332723782395, 10.109778755919733, 0.1742546137688998, 0.7613386766030863, 3.525925549346189, 1.8556384211697508, 0.6264124032914608, 1.1010706680493259, 0.7755754474221431, 0.7812437593812444, 0.15347991321529986, 0.5900694800933638, 5.811893969906414, 2.671679548646692, 0.6178158665981115, 0.7366053780016163, 1.8872371927123894, 1.0751852927036185, 0.08911929478142584, 0.15859680144245805, 2.2218796125333546, 1.5090453625509548, 3.157914956453861, 3.1743239527594818, 0.4350460306369303, 15.631528133309583, 2.0616829851907563, 1.8450215373367918, 0.2275691187913144, 4.112793584860684, 0.15624308495501094, 0.695728168368416, 0.429182298984873, 0.5840979646229214, 0.9309217372547014, 0.40565377300721356, 0.002695102434560065, 1.0527815519349641, 0.7162687134322467, 1.401453558112161, 2.615235688906612, 1.7162201463841815, 0.3681517836106115, 1.5505114183180322, 2.732180040993996, 3.59804914238555, 2.0634437571571507, 0.5284212685475875, 1.0946190405846772, 0.0033863349474412777, 0.667698557425617, 1.090027049712911, 0.5091606240219692, 0.4252574170767712, 0.7402268961763354, 0.2627736152433278, 0.13445681361264172, 0.31185236611458944, 1.236431841824697, 0.949982506643801, 6.509273093126057, 0.7933280503879506, 2.1022243233405034, 1.3489207626855084, 0.913411992863833, 1.0, 0.33589458933428323, 2.485550235354582, 0.9070656934633046, 0.9705872313891232, 1.0619003147752835, 0.6115037368199588, 1.2737954451843927, 1.2692814069917717, 0.14520025629679115, 0.47826389010422454, 6.16963295646801, 1.269281406991998, 0.9469165401196484, 7.323075339998156, 1.860246257238184, 0.16640582100522966, 1.6627639948080724, 0.31083577651121075, 0.040415798327586835, 1.2328142908226443, 0.006667065946059204, 0.40649192136266277, 2.069477369502149, 0.13942298583469748, 0.48309065423855835, 2.023658583514216, 3.729058752093759, 0.5442735437749292, 0.34397887930794285, 0.8624948523217921, 0.6813581641505845, 0.6295449940422345, 0.6396468044069316, 1.727585312336911, 5.946016174828991, 0.46150583970838377, 0.862061618027863, 4.254719544220212, 1.2470327271281374, 0.04208938024439923, 0.8791331076361083, 1.7333501374554077, 1.8234606262655308, 0.5065873014821964, 1.7672820354292822, 1.1846593784356876, 0.6250110424485344, 1.0329402538332062, 0.6428923477497259, 1.8810591645485495, 1.1933022323717775, 2.086110534534205, 0.05802614244626031, 0.6052847744273734, 0.33724057696893733, 1.764078758145753, 0.7799656420025923, 0.9861805943335968, 5.482123642384066, 0.6428923477496514, 2.3038116865621276, 2.718595226187785, 4.001190885144366, 2.3707580924815113, 1.1846593784356876, 1.8488331519137795, 0.7845581587721645, 2.0959769923074427, 0.8551214410925312, 1.4209445738943285, 0.357724985248119, 0.8329301848417754, 0.7882276122598592, 0.7189259663599595, 0.35215597713193547, 0.8635269578116103, 1.9451650614224953, 1.7864399147592425, 0.8608335676739949, 3.7089493924428, 4.579622008234011, 4.237118930011866, 0.6128311074404833, 1.4516871178672859, 0.08230372974517067, 3.7740375033195734, 7.544432452855962, 1.8898723639463662, 3.781102525958167, 1.9206440536231757, 2.824502855272475, 0.6951797251097819, 0.14026936102645793, 0.611179985774733, 0.24097798996068426, 1.4516871178672022, 0.4631528700172601, 0.21792091986957215, 0.18125197243063448, 1.0478415515554473, 1.9748652065669097, 0.011874383492919345, 0.23718251701857487, 1.908444087328379, 2.65080842447879, 1.9345405776498308, 0.020615214278501062, 0.6096889890635903, 4.666408732146048, 15.63152813330954]",
         "[1.1019131951211276, 11.442753439143019, 0.6005027861462712, 1.4831382832539548, 0.10389452905962829, 0.02918120454311919, 0.6315561812051584, 0.6028580347720375, 0.5796860439213459, 0.7086769982151323, 2.6786798116780006, 0.01302214145652361, 1.4683451281761926, 0.6829588986449212, 0.7822050693970629, 2.711120303545885, 2.226141482120362, 1.289489389299142, 0.2660518458348532, 2.086438717815123, 1.1998336638173221, 3.4808788179081027, 1.066179545752923, 2.1657330427064183, 0.11703805856461082, 2.4118809087032376, 0.6617859857327386, 4.631897619036147, 2.1750180440239624, 1.871005745503503, 0.2137922247275871, 1.4511732378970494, 1.5166532588026564, 2.214124229596105, 9.431520699412447, 0.17381242636117059, 0.45284343667955307, 3.939700242415745, 2.1560605803346506, 1.0951118788853709, 0.27257868219475573, 0.8650649876273445, 0.9661320393419606, 0.5041753068320138, 0.8033185688395212, 7.19490882671409, 2.7572744199020667, 0.6630511476922009, 0.9912627555522382, 2.5291921448546297, 0.40668550119937563, 0.2101914275278101, 0.60472789846897, 2.2694595969477005, 1.4903751631423265, 2.9628400839272886, 3.890750734805439, 0.17208851692998425, 15.485419676625602, 2.073297393727541, 2.1788136743492483, 0.19351557293042668, 4.026861384987047, 0.23832945763548902, 0.15497601784054568, 0.2419343351215294, 0.056591823971566396, 0.987770501804086, 0.23967165993545386, 0.05250274751664148, 0.18434533960174587, 0.12284827206513475, 1.951674274605066, 2.6046566302986687, 1.4118165652159416, 0.0860655393758158, 2.071001524353894, 2.853964102718942, 3.9837975853016756, 2.2690362882491097, 0.3532738837362859, 0.9101690966316175, 0.3708578866555513, 0.09626484641915746, 0.13280009562535683, 1.167771274862656, 0.64059863623273, 1.367431435138991, 0.8259603358845432, 0.8624784435974306, 0.03186072176176804, 1.0653474891403012, 0.870832020292692, 6.697656455045491, 0.21438233891385314, 0.9669533292617756, 1.1739524369791434, 0.9960340588079757, 1.2835165963565374, 0.32969116076760757, 3.0068733174174107, 1.0114579663033672, 1.4217540679913783, 0.9774970474732517, 0.8855719862994751, 1.2922753922360395, 1.481708243368387, 0.16501685476129474, 0.7721977636535027, 4.980684804555235, 1.0640243133157548, 0.20417324738329118, 9.194741063803388, 2.2094663572492164, 0.7319712838868385, 1.2895374088814167, 0.35519354622633653, 0.4923263395899651, 1.07932383036701, 0.06875471427623145, 0.5580711312330972, 1.9635206262854488, 0.8925535156600918, 0.78415460177461, 2.1446501033017658, 4.671232808663895, 0.443142724766808, 0.16707399999787065, 0.8223515181129952, 0.12856326047983063, 0.6506001341895565, 0.5543091018165128, 2.005666277731459, 5.3374067845422735, 0.6599459322937035, 1.2804251431106566, 4.625246296525122, 1.0106318406534798, 0.210679133303151, 0.7641375044289365, 1.493730394507366, 1.6087273211516342, 0.6048408061889861, 1.554456861580367, 0.3889447563167994, 0.9790969013573766, 0.47256521164329823, 0.6633369049854996, 2.241001929781973, 0.6804534022717197, 1.1770092725312375, 0.0, 0.781334950149527, 0.43985981963279847, 1.2449797353877077, 0.5495885976170763, 0.7393926874821841, 4.737757347196781, 1.0802985794283828, 2.182167400264285, 1.888339597106949, 4.77500730639319, 3.732304656234012, 0.7291644033345095, 2.252207982596336, 0.7373318192663146, 1.6438056994486359, 1.0, 2.535017327519283, 0.25730431884140265, 0.8092818630017821, 0.9701066850154321, 0.521017166488693, 0.011705822753532923, 1.0820910997867026, 2.1705848050501833, 2.285394322249363, 0.23162590215323783, 4.8613691258504454, 5.3403654255652775, 5.560776623022306, 0.8903742913009358, 1.0383729154323318, 0.06964996251739101, 3.5479415888857857, 9.671024002570396, 2.341689458408172, 3.9375511286281233, 2.057043217953492, 3.9200725663917457, 1.3370385415008894, 0.38320977844123716, 1.2541115897862927, 0.08225864680776612, 0.39377737725252354, 0.7816666986527188, 0.11488215684329087, 0.047799188906159376, 2.463338637085345, 2.0559377566273076, 0.32254940386486075, 0.2455691195264207, 2.022389476651653, 2.376463133073845, 2.594254372096052, 0.33362981000283115, 0.7422443192600503, 4.12719630080789, 15.523791309042387]",
         "[1.0589883676867422, 10.236904205162757, 1.4751195436809619, 1.490139015140759, 0.018874704101154847, 0.3697559012278951, 0.8024614519553867, 0.3089949213666375, 0.46756417418183954, 1.5834455770276565, 2.7978121219505394, 0.2712022065335631, 1.3196682173863186, 0.6544980776188214, 1.1805369170894497, 3.098219059907175, 2.774214223936742, 1.110635917800951, 0.6181963665687915, 2.110472868720655, 1.1179262433113044, 3.4198142807929504, 0.6171626427325181, 1.9184763096877453, 0.13751032503916366, 2.3402543119860035, 0.7275130576703721, 4.127721216182812, 2.539851414124404, 2.060805322993334, 0.0994442781760445, 1.5399308452226548, 1.549487226517074, 1.9180685882462227, 8.527753739450116, 0.43173705499176374, 0.16242072324487433, 3.4712570092334425, 2.186131781747896, 0.6409948638549464, 0.23957754445028803, 0.9474890437575932, 0.9114793541795904, 0.6715533540952795, 0.9327753252334535, 7.110840581608987, 2.4344783131464154, 0.577844450672014, 1.0219689035655388, 2.3581619780741794, 0.44491636545620783, 0.3477402323328404, 0.7312862192507198, 1.9420611196620436, 1.728733374639421, 2.5438167946139014, 4.007125929749691, 0.01593268985612468, 13.834354677055025, 1.9293044885900898, 2.290467944207239, 0.3258081118561286, 3.9446475616431016, 0.32962870668863387, 0.30531640372602714, 0.5370223218934972, 0.11746700247722912, 0.525306716842873, 0.18294699760470623, 0.13478460882507307, 0.20435656565088312, 0.34386777768551435, 1.6457979345916083, 2.8189533279947967, 1.1626165233579948, 0.17519413635573022, 2.1147822895911994, 2.269661600024864, 4.3010307873998945, 2.773130589495285, 0.3862607473641124, 0.5745379787232044, 0.43644095877968825, 0.12594224226944697, 0.4116795186622602, 1.3761350862154373, 0.7384960041489037, 1.623248247952709, 0.9295503292008939, 1.0639902800079861, 0.07707843675254342, 1.040386089967866, 0.6930734235576309, 6.125705881288838, 0.060537423438038133, 0.42430641940423125, 0.9801451295403987, 0.6637480697260882, 1.094169250244044, 0.4076791371064532, 3.286092814797553, 0.7165263530359068, 1.2982035843365858, 0.8031852970776556, 1.0590770656777488, 1.1168615959693164, 1.519813291828998, 0.33918658744832225, 0.6026663512274085, 4.299486968521722, 1.0, 0.26931524768324133, 8.71371745295775, 2.0772002698636576, 1.0780864275425501, 1.0302822866565753, 0.48320702276796457, 0.8949587871799579, 0.7599312503190608, 0.0, 0.7003628420175894, 1.9913230287948436, 1.0819356412300856, 0.8710492221105076, 1.9656836669019155, 4.81289144926593, 0.446840692216412, 0.35459940131943085, 0.8235329506660557, 0.05955146925363667, 0.4940875353025073, 0.5363142828625665, 1.9069253041060932, 5.054238527739738, 0.7468742951657473, 1.5384200908880408, 4.455510801371468, 0.973259059576968, 0.7589652754285648, 1.5217776106898475, 1.5716148418402354, 1.510029926848846, 0.684395663092472, 1.4496642293261934, 0.12410958692047831, 1.1831231613570043, 0.3631089513120181, 0.8654473603910465, 1.9368395422228784, 0.15119865499781787, 0.7016450924764195, 0.04462904151974408, 0.9962777714952684, 0.24163170471772144, 1.0160957692762387, 0.3092776708842632, 0.18913796585878279, 4.075000301282151, 1.2203929934304747, 2.6037708859635478, 1.3114883562965942, 4.382936315893212, 3.7981313434178303, 0.56581525141254, 2.1643955587107198, 0.46877738137723046, 1.234229032851295, 0.9277109879976734, 2.7077634461173448, 0.5905765525245436, 0.4927001862065067, 0.945918657352343, 0.5950371341618031, 0.058340403902130605, 0.6447230519421026, 1.929195360218572, 2.1216428897386685, 0.05299024218899302, 5.054271986343524, 5.51237226248506, 5.963456323923239, 0.9968787551730737, 0.6844885571982965, 0.041551015686688404, 2.8026996348700717, 9.482398268071565, 2.0417980059734515, 3.3805408420710314, 1.9108254385503975, 3.6903657919444948, 1.7086231520217336, 0.43817960360668395, 1.6002359901107668, 0.33667827665980643, 0.17263988675622358, 0.7998990731268943, 0.07636757906632279, 0.05426963400671717, 2.8355107316299115, 1.8303000720192066, 0.5162444958949972, 0.11814601813487562, 2.041690067437699, 2.776843603240758, 2.3062591094312057, 0.2318779827332809, 0.9742767000692256, 3.4398297362125088, 14.411385485764354]",
         "[1.142677988197993, 10.160598686780824, 1.8501695103546867, 1.9262792065848258, 0.41657876918690256, 0.5847523985244224, 0.7931375634146116, 0.2451986347330103, 0.40687040683180714, 1.880176368540403, 3.0076488779982324, 0.46319712362295334, 1.5015788706351736, 0.5149929128934412, 1.707528613661029, 3.563009977444061, 2.938735748252818, 1.1234822988106177, 0.8431664439668858, 2.123794799180641, 1.300567133077576, 3.5896588708544654, 0.07690426912633247, 1.8623030200207724, 0.12419196828266084, 3.0435862549085817, 0.6228988389627309, 3.9855507276918773, 3.0105516778178787, 2.2833645469008053, 0.12596004040137646, 1.5393152775641084, 1.62556479390289, 1.7669497289092195, 8.52426588863207, 0.5036262330467504, 0.010889345888726358, 3.3802313988203454, 2.611870332629941, 0.3220125626673803, 0.5121943416662728, 1.0196714155247744, 0.7641589441757977, 0.5340669295489139, 0.8214565354108491, 7.468060955332167, 2.301091042226356, 0.5279214748507656, 1.0800283581271009, 1.9508751183222635, 0.5605014271132123, 0.3820161809867209, 0.6556545238661359, 1.894968318444042, 2.1183239362405977, 2.3861616603220606, 4.493879529044364, 0.0, 13.546675908183923, 1.9144436333383064, 2.466636511018196, 0.45838264608119295, 4.5881760464544685, 0.19850159882301127, 0.34299772694098607, 0.6883715685945088, 0.2275125123890689, 0.363659046004315, 0.05267638424041156, 0.06173111304780728, 0.44129885482373116, 0.4737464682192982, 1.7887375149214022, 2.965313028948239, 1.07756497890914, 0.22201917534538032, 2.3023154113087223, 1.901834792754012, 4.6763179270235815, 3.405704995182022, 0.466091232063643, 0.47505119328710105, 0.4605809039046275, 0.2663386020781862, 0.7591566328927738, 1.3368657236144201, 0.7702498689731283, 1.6039110185840093, 0.8135217902591569, 1.079352525321504, 0.14401699923842995, 0.8417147160696806, 0.5316506286201408, 6.049161421101565, 0.21824190305024285, 0.14500215273788777, 0.9727643761062245, 0.74374820678382, 0.9413063346059364, 0.3901501128351552, 3.8292212629099307, 0.4197702077568064, 1.106310217554613, 0.713041174596125, 1.2668689456837585, 0.854048690570537, 1.6079958459939665, 0.39703896412776857, 0.5580954427794195, 4.490609695114858, 0.9794774361936709, 0.5461209120698367, 9.267442869531006, 1.8945232177314486, 1.387484960483594, 0.9640349445567886, 0.506369711906559, 0.892761192124931, 0.579018134032852, 0.002102961688486558, 0.7887775004957693, 2.1607802095669912, 1.1485272508343183, 1.16495628977763, 1.8700508462558332, 5.14921832009212, 0.47321246931147504, 0.45525064319452063, 0.5413036081388679, 0.08010406337022538, 0.4786537570672064, 0.6112389839948588, 1.5015341175270833, 5.52512620625568, 0.7894242685753435, 1.6674881914962485, 4.549175168962311, 1.0197176661063454, 1.0, 1.9924069626320668, 1.5545470812564923, 1.452061065353741, 0.5780088891441323, 1.3740380518741442, 0.0401623939879896, 1.3393623719419219, 0.1712444582684506, 0.9696422264021775, 1.4251211442032563, 0.13891522923508692, 0.4920445857376304, 0.03614120115333092, 1.0382487260895412, 0.08008455707153278, 0.9659176609304777, 0.2108721274465256, 0.08034087977706027, 3.8637828494489677, 1.3208644224457464, 2.934855440790248, 1.1530321084208894, 4.355097753988163, 4.03927080204019, 0.345685037491394, 1.9973524181584366, 0.373361594109454, 1.3210254380343043, 0.7568774672731183, 2.7965837876788124, 0.5271075022768764, 0.3640790604943016, 0.9691058683122339, 0.7055173441104754, 0.1396802676803966, 0.1932902495707995, 1.9421953161258856, 1.6126411347023333, 0.2852740971736472, 5.306859861711764, 5.938360576685262, 6.214574316897899, 0.8461488187672691, 0.5022828322065344, 0.11689491557702797, 2.5377090226526824, 9.846036747507835, 1.5210835870084212, 3.375071841974551, 1.9831676395534164, 4.00700168153492, 1.91448389570622, 0.5104610250563402, 1.7201577493908942, 0.37506504177518546, 0.1253615331477806, 0.5158572257287022, 0.017742248867821116, 0.03907292832800011, 3.062739817937433, 1.8682412891425186, 0.6373554486466415, 0.0849422448994129, 1.9334489040129814, 2.8895516373124406, 1.9349914768521637, 0.25613572363566994, 1.0824737235735973, 3.315673424794621, 14.185792898821097]",
         "[1.1189169410008113, 10.001657482911597, 2.1102543991283573, 2.362460669847646, 0.5064542632466243, 0.7503680750383569, 0.8806973694295895, 0.1619602310162589, 0.4403566272776829, 2.152987479808126, 2.901521567020361, 0.6398430982390344, 1.5049833062866989, 0.31244830919879046, 2.1021349894606414, 3.6533538290611554, 2.8285873686868523, 1.1366488132147792, 0.9489267846281844, 2.0602404030266093, 1.3755886247910325, 3.536248115709802, 0.2014917062477507, 1.8518468676482236, 0.1999055308523815, 3.384687073566214, 0.490601774196113, 3.7575899992137853, 3.1376851029901838, 2.403597347271966, 0.08555804973060623, 1.4458429616383026, 1.6171299487585906, 1.5616965402712895, 8.069573156099004, 0.5788040663182282, 0.018858436274760085, 3.2058358044218274, 2.888165280953547, 0.18270705397389128, 0.7088821769241845, 1.034888067490901, 0.6030531456990581, 0.4277664657029572, 0.7259372714447868, 7.792623183001346, 2.2938778127696633, 0.31176107880632287, 1.0644727030009855, 1.4310244095007776, 0.6018774839713145, 0.4556966153439703, 0.5345792037484857, 1.8686839558629833, 2.2635190335172237, 2.1014563441852845, 4.854398485628535, 0.04411041149426688, 12.74829882055401, 1.77205921917065, 2.3613213810050566, 0.49484066297679674, 4.731047768213567, 0.08071820596085535, 0.4404285564820385, 0.7476611831569432, 0.36300749152175305, 0.26966684780384187, 0.06395294528520122, 0.040199207308502106, 0.6304008069365836, 0.5706838255432168, 1.995907956520853, 2.87992217446878, 0.8978811711210007, 0.3387499743827293, 2.255787701037877, 1.5525084434091398, 4.62704310480724, 3.599627777083094, 0.5451655777193911, 0.5582675545410439, 0.49602780581848127, 0.34658487407690514, 0.8678820807965969, 1.1686993193742632, 0.8391195803941655, 1.39974923261789, 0.7638101556050995, 1.0473683923468682, 0.11009644585420153, 0.7156616188219539, 0.5602260316959468, 5.856065541604942, 0.4225965447780599, 0.07379073443650438, 1.007549877654792, 0.7275242739268011, 0.9321339843922596, 0.46574327877780913, 3.9778784349375633, 0.25617455513567333, 0.9178899914310158, 0.6072186290569014, 1.3716033785871085, 0.7839213020894122, 1.5987346418864863, 0.45958048482137076, 0.5636783859332083, 4.373644905258223, 1.007735051236737, 0.7083022092048628, 9.194844097419498, 1.4778424308716325, 1.8226709542635844, 0.849268379398792, 0.5307142193555795, 0.7391644808259336, 0.5010961356272633, 0.08982586263362272, 0.8875583982165354, 2.2229948723842754, 1.0287302238779374, 1.2500909287125919, 1.7256041474732302, 4.984993094503056, 0.5042111618962011, 0.5360482269810316, 0.385148682245265, 0.14045299905569045, 0.5210387791624106, 0.7086377039612811, 1.1520996023911636, 5.4835528649066605, 0.8405292970549817, 1.6777172868643437, 4.406270289944309, 1.042847016844093, 1.0923118938622378, 2.263178189705743, 1.4298649573910462, 1.3813012868038308, 0.4452674711281937, 1.3190591975630828, 0.07221317645886352, 1.2600155992187914, 0.10295618707245548, 1.0230612352371198, 1.1396920074189834, 0.22769579208572183, 0.24175173770713915, 0.018977058593185974, 0.9800020679250996, 0.03608244468043278, 0.8623925560518394, 0.13993564740345898, 0.2872931950839716, 3.5774122440028413, 1.3956205348425306, 2.9195901196929124, 1.0, 4.191666676424503, 4.02120920253623, 0.279395346386992, 1.5579882926745243, 0.3127979157739978, 1.427365176765409, 0.6529527442063807, 2.7678996566354663, 0.4903432993190253, 0.26731816687499754, 0.8908298145891577, 0.8334685649712786, 0.18963367382473467, 0.0333590263064033, 1.8857616650904925, 1.158851539774191, 0.5042143216099508, 5.296570742162878, 6.234980618793637, 6.073121378367942, 0.6875011098677146, 0.4326469326899223, 0.1704299385052544, 2.1821496960634006, 9.688348471421623, 1.156923307410071, 3.1347571595381143, 1.997985220203253, 4.192557120082857, 1.8879232624437936, 0.4275288858731559, 1.7312887130541537, 0.3837807947554842, 0.17965210129515888, 0.47311163970846415, 0.04931330227897315, 0.11747988484029925, 2.995368706378367, 1.8455005803518056, 0.7047734727998983, 0.0, 1.706979095204184, 2.805122216552886, 1.4341984386486044, 0.31929399533639696, 1.0751860043248205, 3.147087604494666, 13.249584351176848]"
        ]
       ],
       "shape": {
        "columns": 8,
        "rows": 5
       }
      },
      "text/html": [
       "<div>\n",
       "<style scoped>\n",
       "    .dataframe tbody tr th:only-of-type {\n",
       "        vertical-align: middle;\n",
       "    }\n",
       "\n",
       "    .dataframe tbody tr th {\n",
       "        vertical-align: top;\n",
       "    }\n",
       "\n",
       "    .dataframe thead th {\n",
       "        text-align: right;\n",
       "    }\n",
       "</style>\n",
       "<table border=\"1\" class=\"dataframe\">\n",
       "  <thead>\n",
       "    <tr style=\"text-align: right;\">\n",
       "      <th></th>\n",
       "      <th>seed</th>\n",
       "      <th>outlier_scores_pfgap</th>\n",
       "      <th>outlier_scores_knn_k1</th>\n",
       "      <th>outlier_scores_knn_k4</th>\n",
       "      <th>outlier_scores_knn_k8</th>\n",
       "      <th>outlier_scores_knn_k12</th>\n",
       "      <th>outlier_scores_knn_k16</th>\n",
       "      <th>outlier_scores_knn_k20</th>\n",
       "    </tr>\n",
       "  </thead>\n",
       "  <tbody>\n",
       "    <tr>\n",
       "      <th>737</th>\n",
       "      <td>737</td>\n",
       "      <td>[0.7520358691205588, 1.5666516750588368, 0.001...</td>\n",
       "      <td>[0.0, 0.0, 0.0, 0.0, 0.0, 0.0, 0.0, 0.0, 0.0, ...</td>\n",
       "      <td>[1.2340020308102542, 4.582605017664969, 0.3547...</td>\n",
       "      <td>[1.035009988970251, 4.328956124369376, 0.32685...</td>\n",
       "      <td>[1.0280698865735738, 4.514265983069524, 0.2126...</td>\n",
       "      <td>[1.1566283655681295, 4.295164939834691, 0.6738...</td>\n",
       "      <td>[1.3328280737479012, 4.714592280886095, 1.1953...</td>\n",
       "    </tr>\n",
       "    <tr>\n",
       "      <th>821</th>\n",
       "      <td>821</td>\n",
       "      <td>[2.121104978748802, 0.4614243508394433, 3.0117...</td>\n",
       "      <td>[0.0, 0.0, 0.0, 0.0, 0.0, 0.0, 0.0, 0.0, 0.0, ...</td>\n",
       "      <td>[1.1298585693918937, 1.2764405160727559, 0.504...</td>\n",
       "      <td>[0.8060116640429474, 1.1782859926723066, 0.032...</td>\n",
       "      <td>[1.0926968834822375, 1.0497101875283694, 0.332...</td>\n",
       "      <td>[0.9853506737714229, 0.9855730793188441, 0.221...</td>\n",
       "      <td>[0.9446313240388144, 0.8901268202018072, 0.249...</td>\n",
       "    </tr>\n",
       "    <tr>\n",
       "      <th>982</th>\n",
       "      <td>982</td>\n",
       "      <td>[1.3563352111095603, 1.5485090509099344, 0.159...</td>\n",
       "      <td>[0.0, 0.0, 0.0, 0.0, 0.0, 0.0, 0.0, 0.0, 0.0, ...</td>\n",
       "      <td>[0.10266902180592158, 0.7443537017702813, 0.50...</td>\n",
       "      <td>[0.5584254745807818, 1.1067215099766246, 0.260...</td>\n",
       "      <td>[0.7429905484901769, 0.8078729620112605, 0.326...</td>\n",
       "      <td>[0.6594482936616304, 0.6401924647086155, 0.267...</td>\n",
       "      <td>[0.8390912066623084, 0.40954310044625064, 0.25...</td>\n",
       "    </tr>\n",
       "    <tr>\n",
       "      <th>67</th>\n",
       "      <td>67</td>\n",
       "      <td>[2.121104978748802, 0.4614243508394433, 3.0117...</td>\n",
       "      <td>[0.0, 0.0, 0.0, 0.0, 0.0, 0.0, 0.0, 0.0, 0.0, ...</td>\n",
       "      <td>[6.0869080097575905, 1.0045559627096092, 0.058...</td>\n",
       "      <td>[8.401500034493825, 1.0, 0.05056129715364117, ...</td>\n",
       "      <td>[8.740737373302332, 1.0038627475237536, 0.0, 1...</td>\n",
       "      <td>[8.997599716152656, 0.9033709011799542, 0.0675...</td>\n",
       "      <td>[8.834053688953396, 0.891216874676246, 0.19325...</td>\n",
       "    </tr>\n",
       "    <tr>\n",
       "      <th>78</th>\n",
       "      <td>78</td>\n",
       "      <td>[6.848823792515511e-05, 7.53805302494917e-05, ...</td>\n",
       "      <td>[0.0, 0.0, 0.0, 0.0, 0.0, 0.0, 0.0, 0.0, 0.0, ...</td>\n",
       "      <td>[1.753175390959638, 11.382327333049794, 1.0837...</td>\n",
       "      <td>[1.1019131951211276, 11.442753439143019, 0.600...</td>\n",
       "      <td>[1.0589883676867422, 10.236904205162757, 1.475...</td>\n",
       "      <td>[1.142677988197993, 10.160598686780824, 1.8501...</td>\n",
       "      <td>[1.1189169410008113, 10.001657482911597, 2.110...</td>\n",
       "    </tr>\n",
       "  </tbody>\n",
       "</table>\n",
       "</div>"
      ],
      "text/plain": [
       "     seed                               outlier_scores_pfgap  \\\n",
       "737   737  [0.7520358691205588, 1.5666516750588368, 0.001...   \n",
       "821   821  [2.121104978748802, 0.4614243508394433, 3.0117...   \n",
       "982   982  [1.3563352111095603, 1.5485090509099344, 0.159...   \n",
       "67     67  [2.121104978748802, 0.4614243508394433, 3.0117...   \n",
       "78     78  [6.848823792515511e-05, 7.53805302494917e-05, ...   \n",
       "\n",
       "                                 outlier_scores_knn_k1  \\\n",
       "737  [0.0, 0.0, 0.0, 0.0, 0.0, 0.0, 0.0, 0.0, 0.0, ...   \n",
       "821  [0.0, 0.0, 0.0, 0.0, 0.0, 0.0, 0.0, 0.0, 0.0, ...   \n",
       "982  [0.0, 0.0, 0.0, 0.0, 0.0, 0.0, 0.0, 0.0, 0.0, ...   \n",
       "67   [0.0, 0.0, 0.0, 0.0, 0.0, 0.0, 0.0, 0.0, 0.0, ...   \n",
       "78   [0.0, 0.0, 0.0, 0.0, 0.0, 0.0, 0.0, 0.0, 0.0, ...   \n",
       "\n",
       "                                 outlier_scores_knn_k4  \\\n",
       "737  [1.2340020308102542, 4.582605017664969, 0.3547...   \n",
       "821  [1.1298585693918937, 1.2764405160727559, 0.504...   \n",
       "982  [0.10266902180592158, 0.7443537017702813, 0.50...   \n",
       "67   [6.0869080097575905, 1.0045559627096092, 0.058...   \n",
       "78   [1.753175390959638, 11.382327333049794, 1.0837...   \n",
       "\n",
       "                                 outlier_scores_knn_k8  \\\n",
       "737  [1.035009988970251, 4.328956124369376, 0.32685...   \n",
       "821  [0.8060116640429474, 1.1782859926723066, 0.032...   \n",
       "982  [0.5584254745807818, 1.1067215099766246, 0.260...   \n",
       "67   [8.401500034493825, 1.0, 0.05056129715364117, ...   \n",
       "78   [1.1019131951211276, 11.442753439143019, 0.600...   \n",
       "\n",
       "                                outlier_scores_knn_k12  \\\n",
       "737  [1.0280698865735738, 4.514265983069524, 0.2126...   \n",
       "821  [1.0926968834822375, 1.0497101875283694, 0.332...   \n",
       "982  [0.7429905484901769, 0.8078729620112605, 0.326...   \n",
       "67   [8.740737373302332, 1.0038627475237536, 0.0, 1...   \n",
       "78   [1.0589883676867422, 10.236904205162757, 1.475...   \n",
       "\n",
       "                                outlier_scores_knn_k16  \\\n",
       "737  [1.1566283655681295, 4.295164939834691, 0.6738...   \n",
       "821  [0.9853506737714229, 0.9855730793188441, 0.221...   \n",
       "982  [0.6594482936616304, 0.6401924647086155, 0.267...   \n",
       "67   [8.997599716152656, 0.9033709011799542, 0.0675...   \n",
       "78   [1.142677988197993, 10.160598686780824, 1.8501...   \n",
       "\n",
       "                                outlier_scores_knn_k20  \n",
       "737  [1.3328280737479012, 4.714592280886095, 1.1953...  \n",
       "821  [0.9446313240388144, 0.8901268202018072, 0.249...  \n",
       "982  [0.8390912066623084, 0.40954310044625064, 0.25...  \n",
       "67   [8.834053688953396, 0.891216874676246, 0.19325...  \n",
       "78   [1.1189169410008113, 10.001657482911597, 2.110...  "
      ]
     },
     "execution_count": 9,
     "metadata": {},
     "output_type": "execute_result"
    }
   ],
   "source": [
    "# Convert dict to DataFrame, drop unwanted columns, and expand dictionaries\n",
    "outlier_df = pd.DataFrame.from_dict(seed_results, orient='index')[[\"seed\", \"outlier_scores\"]]\n",
    "\n",
    "for col in outlier_df.columns:\n",
    "    if outlier_df[col].apply(lambda x: isinstance(x, dict)).any():\n",
    "        expanded = outlier_df[col].apply(pd.Series)\n",
    "        expanded = expanded.add_prefix(f\"{col}_\")\n",
    "        outlier_df = pd.concat([outlier_df.drop(columns=[col]), expanded], axis=1)\n",
    "\n",
    "for col in outlier_df.columns:\n",
    "    if outlier_df[col].apply(lambda x: isinstance(x, dict)).any():\n",
    "        expanded = outlier_df[col].apply(pd.Series)\n",
    "        expanded = expanded.add_prefix(f\"{col}_\")\n",
    "        outlier_df = pd.concat([outlier_df.drop(columns=[col]), expanded], axis=1)\n",
    "\n",
    "\n",
    "outlier_df = outlier_df.drop(columns=[\"outlier_scores_knn_0\"]).dropna()\n",
    "\n",
    "outlier_df"
   ]
  },
  {
   "cell_type": "code",
   "execution_count": null,
   "id": "17d20d17",
   "metadata": {},
   "outputs": [
    {
     "data": {
      "application/vnd.plotly.v1+json": {
       "config": {
        "plotlyServerURL": "https://plot.ly"
       },
       "data": [
        {
         "hoverinfo": "text",
         "marker": {
          "color": {
           "bdata": "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",
           "dtype": "f8"
          },
          "colorscale": [
           [
            0,
            "rgb(103,0,31)"
           ],
           [
            0.1,
            "rgb(178,24,43)"
           ],
           [
            0.2,
            "rgb(214,96,77)"
           ],
           [
            0.3,
            "rgb(244,165,130)"
           ],
           [
            0.4,
            "rgb(253,219,199)"
           ],
           [
            0.5,
            "rgb(247,247,247)"
           ],
           [
            0.6,
            "rgb(209,229,240)"
           ],
           [
            0.7,
            "rgb(146,197,222)"
           ],
           [
            0.8,
            "rgb(67,147,195)"
           ],
           [
            0.9,
            "rgb(33,102,172)"
           ],
           [
            1,
            "rgb(5,48,97)"
           ]
          ],
          "line": {
           "color": "DarkSlateGrey",
           "width": 0.5
          },
          "opacity": 0.8,
          "size": {
           "bdata": "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",
           "dtype": "f8"
          }
         },
         "mode": "markers",
         "name": "PFGAP",
         "scene": "scene",
         "text": [
          "PFGAP Score: 0.7520",
          "PFGAP Score: 1.5667",
          "PFGAP Score: 0.0010",
          "PFGAP Score: 0.6254",
          "PFGAP Score: 0.0014",
          "PFGAP Score: 0.0651",
          "PFGAP Score: 0.4748",
          "PFGAP Score: 0.6939",
          "PFGAP Score: 0.2806",
          "PFGAP Score: 0.0070",
          "PFGAP Score: 0.0003",
          "PFGAP Score: 0.9262",
          "PFGAP Score: 0.0007",
          "PFGAP Score: 0.7609",
          "PFGAP Score: 0.0014",
          "PFGAP Score: 0.1378",
          "PFGAP Score: 0.0008",
          "PFGAP Score: 0.0009",
          "PFGAP Score: 0.0016",
          "PFGAP Score: 0.0021",
          "PFGAP Score: 0.6874",
          "PFGAP Score: 0.0007",
          "PFGAP Score: 0.4233",
          "PFGAP Score: 0.0003",
          "PFGAP Score: 0.0011",
          "PFGAP Score: 0.0012",
          "PFGAP Score: 0.3158",
          "PFGAP Score: 0.4006",
          "PFGAP Score: 0.7995",
          "PFGAP Score: 0.0020",
          "PFGAP Score: 0.0009",
          "PFGAP Score: 0.0000",
          "PFGAP Score: 0.0014",
          "PFGAP Score: 0.8449",
          "PFGAP Score: 0.0015",
          "PFGAP Score: 0.2490",
          "PFGAP Score: 0.0019",
          "PFGAP Score: 0.2239",
          "PFGAP Score: 0.0001",
          "PFGAP Score: 2.8613",
          "PFGAP Score: 0.0017",
          "PFGAP Score: 0.0008",
          "PFGAP Score: 0.1450",
          "PFGAP Score: 0.0543",
          "PFGAP Score: 0.0013",
          "PFGAP Score: 0.5612",
          "PFGAP Score: 1.0249",
          "PFGAP Score: 0.0739",
          "PFGAP Score: 0.4506",
          "PFGAP Score: 0.0018",
          "PFGAP Score: 1.7253",
          "PFGAP Score: 0.2032",
          "PFGAP Score: 0.2338",
          "PFGAP Score: 2.1847",
          "PFGAP Score: 0.6563",
          "PFGAP Score: 0.6728",
          "PFGAP Score: 0.5231",
          "PFGAP Score: 0.0020",
          "PFGAP Score: 0.9230",
          "PFGAP Score: 0.0028",
          "PFGAP Score: 0.0011",
          "PFGAP Score: 0.0019",
          "PFGAP Score: 0.0007",
          "PFGAP Score: 0.0002",
          "PFGAP Score: 1.4225",
          "PFGAP Score: 0.7683",
          "PFGAP Score: 0.8013",
          "PFGAP Score: 0.0007",
          "PFGAP Score: 0.2055",
          "PFGAP Score: 0.8537",
          "PFGAP Score: 0.8657",
          "PFGAP Score: 0.6789",
          "PFGAP Score: 0.6703",
          "PFGAP Score: 0.0057",
          "PFGAP Score: 0.5208",
          "PFGAP Score: 0.0005",
          "PFGAP Score: 0.6891",
          "PFGAP Score: 0.5350",
          "PFGAP Score: 2.3793",
          "PFGAP Score: 0.0019",
          "PFGAP Score: 0.0027",
          "PFGAP Score: 0.3481",
          "PFGAP Score: 0.0014",
          "PFGAP Score: 0.7013",
          "PFGAP Score: 0.0001",
          "PFGAP Score: 0.1252",
          "PFGAP Score: 1.1959",
          "PFGAP Score: 0.8742",
          "PFGAP Score: 0.5192",
          "PFGAP Score: 0.0017",
          "PFGAP Score: 0.2870",
          "PFGAP Score: 0.7045",
          "PFGAP Score: 0.1099",
          "PFGAP Score: 0.0016",
          "PFGAP Score: 0.0004",
          "PFGAP Score: 0.1710",
          "PFGAP Score: 3.8877",
          "PFGAP Score: 0.0003",
          "PFGAP Score: 0.3805",
          "PFGAP Score: 1.4436",
          "PFGAP Score: 1.0159",
          "PFGAP Score: 0.5539",
          "PFGAP Score: 0.9045",
          "PFGAP Score: 0.0010",
          "PFGAP Score: 15.3924",
          "PFGAP Score: 0.0007",
          "PFGAP Score: 0.8039",
          "PFGAP Score: 0.0045",
          "PFGAP Score: 0.0870",
          "PFGAP Score: 0.1560",
          "PFGAP Score: 0.0011",
          "PFGAP Score: 0.0012",
          "PFGAP Score: 0.0942",
          "PFGAP Score: 0.0011",
          "PFGAP Score: 4.8824",
          "PFGAP Score: 0.0000",
          "PFGAP Score: 0.3064",
          "PFGAP Score: 0.0022",
          "PFGAP Score: 51.8874",
          "PFGAP Score: 0.2285",
          "PFGAP Score: 0.0005",
          "PFGAP Score: 0.0064",
          "PFGAP Score: 0.6655",
          "PFGAP Score: 0.0000",
          "PFGAP Score: 1.0203",
          "PFGAP Score: 0.0003",
          "PFGAP Score: 0.0597",
          "PFGAP Score: 0.0011",
          "PFGAP Score: 1.0274",
          "PFGAP Score: 0.0003",
          "PFGAP Score: 0.0010",
          "PFGAP Score: 0.0193",
          "PFGAP Score: 0.0006",
          "PFGAP Score: 0.8068",
          "PFGAP Score: 1.7012",
          "PFGAP Score: 0.0018",
          "PFGAP Score: 0.3755",
          "PFGAP Score: 51.8874",
          "PFGAP Score: 0.0003",
          "PFGAP Score: 0.0007",
          "PFGAP Score: 0.3286",
          "PFGAP Score: 0.0020",
          "PFGAP Score: 0.0012",
          "PFGAP Score: 0.9698",
          "PFGAP Score: 0.0005",
          "PFGAP Score: 0.0001",
          "PFGAP Score: 0.0647",
          "PFGAP Score: 16.2712",
          "PFGAP Score: 0.0020",
          "PFGAP Score: 0.0002",
          "PFGAP Score: 0.0010",
          "PFGAP Score: 0.0013",
          "PFGAP Score: 0.0004",
          "PFGAP Score: 0.8816",
          "PFGAP Score: 0.0003",
          "PFGAP Score: 0.0022",
          "PFGAP Score: 0.0004",
          "PFGAP Score: 0.0005",
          "PFGAP Score: 0.0020",
          "PFGAP Score: 0.4300",
          "PFGAP Score: 0.0012",
          "PFGAP Score: 0.0008",
          "PFGAP Score: 0.0003",
          "PFGAP Score: 1.7599",
          "PFGAP Score: 0.0016",
          "PFGAP Score: 0.1271",
          "PFGAP Score: 0.4212",
          "PFGAP Score: 0.5472",
          "PFGAP Score: 0.8700",
          "PFGAP Score: 0.7619",
          "PFGAP Score: 0.8875",
          "PFGAP Score: 0.3591",
          "PFGAP Score: 0.6829",
          "PFGAP Score: 0.0020",
          "PFGAP Score: 0.0010",
          "PFGAP Score: 0.2988",
          "PFGAP Score: 0.0008",
          "PFGAP Score: 0.0017",
          "PFGAP Score: 0.0003",
          "PFGAP Score: 0.0042",
          "PFGAP Score: 0.0131",
          "PFGAP Score: 0.0026",
          "PFGAP Score: 0.0006",
          "PFGAP Score: 0.0002",
          "PFGAP Score: 0.0019",
          "PFGAP Score: 0.0012",
          "PFGAP Score: 0.5186",
          "PFGAP Score: 0.7811",
          "PFGAP Score: 0.2840",
          "PFGAP Score: 0.0051",
          "PFGAP Score: 0.0012",
          "PFGAP Score: 0.3331",
          "PFGAP Score: 0.0000",
          "PFGAP Score: 0.4192",
          "PFGAP Score: 0.7855",
          "PFGAP Score: 0.2209",
          "PFGAP Score: 0.0053",
          "PFGAP Score: 0.0007",
          "PFGAP Score: 0.6125",
          "PFGAP Score: 0.4305",
          "PFGAP Score: 0.0053",
          "PFGAP Score: 1.1197",
          "PFGAP Score: 0.0005",
          "PFGAP Score: 0.1421",
          "PFGAP Score: 0.0011",
          "PFGAP Score: 0.0008",
          "PFGAP Score: 0.0011",
          "PFGAP Score: 0.0012",
          "PFGAP Score: 0.0019"
         ],
         "type": "scatter3d",
         "x": {
          "bdata": "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",
          "dtype": "f8"
         },
         "y": {
          "bdata": "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",
          "dtype": "f8"
         },
         "z": {
          "bdata": "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",
          "dtype": "f8"
         }
        },
        {
         "hoverinfo": "text",
         "marker": {
          "color": {
           "bdata": "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",
           "dtype": "f8"
          },
          "colorscale": [
           [
            0,
            "rgb(103,0,31)"
           ],
           [
            0.1,
            "rgb(178,24,43)"
           ],
           [
            0.2,
            "rgb(214,96,77)"
           ],
           [
            0.3,
            "rgb(244,165,130)"
           ],
           [
            0.4,
            "rgb(253,219,199)"
           ],
           [
            0.5,
            "rgb(247,247,247)"
           ],
           [
            0.6,
            "rgb(209,229,240)"
           ],
           [
            0.7,
            "rgb(146,197,222)"
           ],
           [
            0.8,
            "rgb(67,147,195)"
           ],
           [
            0.9,
            "rgb(33,102,172)"
           ],
           [
            1,
            "rgb(5,48,97)"
           ]
          ],
          "line": {
           "color": "DarkSlateGrey",
           "width": 0.5
          },
          "opacity": 0.8,
          "size": {
           "bdata": "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",
           "dtype": "f8"
          }
         },
         "mode": "markers",
         "name": "KNN",
         "scene": "scene2",
         "text": [
          "KNN Score: 1.0350",
          "KNN Score: 4.3290",
          "KNN Score: 0.3269",
          "KNN Score: 1.8558",
          "KNN Score: 0.5841",
          "KNN Score: 1.1202",
          "KNN Score: 0.1648",
          "KNN Score: 0.2421",
          "KNN Score: 1.8412",
          "KNN Score: 21.5931",
          "KNN Score: 1.2718",
          "KNN Score: 1.0199",
          "KNN Score: 0.9723",
          "KNN Score: 0.7060",
          "KNN Score: 0.2766",
          "KNN Score: 0.2109",
          "KNN Score: 0.2447",
          "KNN Score: 0.4629",
          "KNN Score: 1.8825",
          "KNN Score: 0.8610",
          "KNN Score: 5.0971",
          "KNN Score: 0.4531",
          "KNN Score: 0.3240",
          "KNN Score: 0.1948",
          "KNN Score: 0.2489",
          "KNN Score: 1.5863",
          "KNN Score: 0.4920",
          "KNN Score: 0.6623",
          "KNN Score: 0.8647",
          "KNN Score: 7.6021",
          "KNN Score: 9.5531",
          "KNN Score: 0.9777",
          "KNN Score: 0.3422",
          "KNN Score: 2.0494",
          "KNN Score: 7.1232",
          "KNN Score: 2.1585",
          "KNN Score: 1.0595",
          "KNN Score: 3.3108",
          "KNN Score: 1.0749",
          "KNN Score: 1.5639",
          "KNN Score: 4.3606",
          "KNN Score: 1.8794",
          "KNN Score: 0.0000",
          "KNN Score: 1.2690",
          "KNN Score: 1.0279",
          "KNN Score: 0.4421",
          "KNN Score: 2.0041",
          "KNN Score: 7.4196",
          "KNN Score: 0.3288",
          "KNN Score: 1.7224",
          "KNN Score: 2.0295",
          "KNN Score: 6.6077",
          "KNN Score: 1.1982",
          "KNN Score: 1.8548",
          "KNN Score: 2.4137",
          "KNN Score: 9.1565",
          "KNN Score: 0.2879",
          "KNN Score: 0.9872",
          "KNN Score: 0.4879",
          "KNN Score: 0.7933",
          "KNN Score: 4.9457",
          "KNN Score: 1.8434",
          "KNN Score: 0.1230",
          "KNN Score: 1.1164",
          "KNN Score: 0.6482",
          "KNN Score: 1.1426",
          "KNN Score: 0.4811",
          "KNN Score: 0.9518",
          "KNN Score: 2.0234",
          "KNN Score: 0.1719",
          "KNN Score: 0.2865",
          "KNN Score: 2.3292",
          "KNN Score: 0.4377",
          "KNN Score: 1.6381",
          "KNN Score: 0.0291",
          "KNN Score: 0.9617",
          "KNN Score: 0.9117",
          "KNN Score: 0.1269",
          "KNN Score: 0.3910",
          "KNN Score: 0.2420",
          "KNN Score: 0.0544",
          "KNN Score: 1.0634",
          "KNN Score: 0.5658",
          "KNN Score: 0.1556",
          "KNN Score: 0.0595",
          "KNN Score: 0.4747",
          "KNN Score: 2.2796",
          "KNN Score: 1.9077",
          "KNN Score: 1.6219",
          "KNN Score: 1.3768",
          "KNN Score: 0.2770",
          "KNN Score: 0.6126",
          "KNN Score: 0.2494",
          "KNN Score: 2.5066",
          "KNN Score: 0.1570",
          "KNN Score: 9.3123",
          "KNN Score: 0.6375",
          "KNN Score: 0.3657",
          "KNN Score: 0.0330",
          "KNN Score: 1.6212",
          "KNN Score: 1.3479",
          "KNN Score: 3.7838",
          "KNN Score: 0.9850",
          "KNN Score: 1.0731",
          "KNN Score: 1.6740",
          "KNN Score: 0.8586",
          "KNN Score: 1.1562",
          "KNN Score: 1.4190",
          "KNN Score: 2.6561",
          "KNN Score: 0.3563",
          "KNN Score: 0.8264",
          "KNN Score: 1.7790",
          "KNN Score: 0.5446",
          "KNN Score: 0.1506",
          "KNN Score: 0.9118",
          "KNN Score: 1.3223",
          "KNN Score: 1.9201",
          "KNN Score: 3.3276",
          "KNN Score: 1.0000",
          "KNN Score: 0.0414",
          "KNN Score: 0.8934",
          "KNN Score: 0.8517",
          "KNN Score: 1.1980",
          "KNN Score: 1.8423",
          "KNN Score: 1.1845",
          "KNN Score: 0.2095",
          "KNN Score: 0.0954",
          "KNN Score: 1.1901",
          "KNN Score: 1.2226",
          "KNN Score: 0.0442",
          "KNN Score: 1.2780",
          "KNN Score: 1.6601",
          "KNN Score: 0.5753",
          "KNN Score: 1.1429",
          "KNN Score: 4.8180",
          "KNN Score: 0.1829",
          "KNN Score: 0.6593",
          "KNN Score: 1.8005",
          "KNN Score: 13.6332",
          "KNN Score: 0.6903",
          "KNN Score: 0.4102",
          "KNN Score: 0.8351",
          "KNN Score: 1.9725",
          "KNN Score: 1.4544",
          "KNN Score: 0.9970",
          "KNN Score: 0.7052",
          "KNN Score: 2.0659",
          "KNN Score: 0.6871",
          "KNN Score: 0.3916",
          "KNN Score: 0.1843",
          "KNN Score: 0.1153",
          "KNN Score: 0.4447",
          "KNN Score: 1.8618",
          "KNN Score: 0.3339",
          "KNN Score: 0.8243",
          "KNN Score: 11.0711",
          "KNN Score: 0.4920",
          "KNN Score: 5.4341",
          "KNN Score: 1.0283",
          "KNN Score: 1.0794",
          "KNN Score: 9.3153",
          "KNN Score: 1.1567",
          "KNN Score: 2.4395",
          "KNN Score: 1.0173",
          "KNN Score: 0.0219",
          "KNN Score: 1.6095",
          "KNN Score: 7.5443",
          "KNN Score: 0.8406",
          "KNN Score: 1.3316",
          "KNN Score: 1.4474",
          "KNN Score: 1.9319",
          "KNN Score: 1.3498",
          "KNN Score: 1.1477",
          "KNN Score: 3.5745",
          "KNN Score: 0.0684",
          "KNN Score: 0.0870",
          "KNN Score: 0.0297",
          "KNN Score: 0.0327",
          "KNN Score: 3.3961",
          "KNN Score: 15.3268",
          "KNN Score: 1.8547",
          "KNN Score: 0.5662",
          "KNN Score: 0.0709",
          "KNN Score: 0.1246",
          "KNN Score: 0.2363",
          "KNN Score: 0.3516",
          "KNN Score: 1.3042",
          "KNN Score: 1.2734",
          "KNN Score: 0.2440",
          "KNN Score: 0.2985",
          "KNN Score: 0.5734",
          "KNN Score: 1.5381",
          "KNN Score: 0.2623",
          "KNN Score: 0.4479",
          "KNN Score: 1.6471",
          "KNN Score: 2.5760",
          "KNN Score: 0.7459",
          "KNN Score: 0.1720",
          "KNN Score: 5.8395",
          "KNN Score: 2.0451",
          "KNN Score: 0.9764",
          "KNN Score: 0.3501",
          "KNN Score: 0.0385",
          "KNN Score: 1.6937",
          "KNN Score: 0.5590",
          "KNN Score: 1.1357",
          "KNN Score: 1.1643",
          "KNN Score: 1.1085",
          "KNN Score: 0.9166"
         ],
         "type": "scatter3d",
         "x": {
          "bdata": "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",
          "dtype": "f8"
         },
         "y": {
          "bdata": "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",
          "dtype": "f8"
         },
         "z": {
          "bdata": "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",
          "dtype": "f8"
         }
        }
       ],
       "layout": {
        "annotations": [
         {
          "font": {
           "size": 16
          },
          "showarrow": false,
          "text": "PFGAP Outlier Scores",
          "x": 0.2375,
          "xanchor": "center",
          "xref": "paper",
          "y": 1,
          "yanchor": "bottom",
          "yref": "paper"
         },
         {
          "font": {
           "size": 16
          },
          "showarrow": false,
          "text": "KNN (k=8) Outlier Scores",
          "x": 0.7625,
          "xanchor": "center",
          "xref": "paper",
          "y": 1,
          "yanchor": "bottom",
          "yref": "paper"
         }
        ],
        "height": 600,
        "scene": {
         "camera": {
          "eye": {
           "x": 1.5,
           "y": 1.5,
           "z": 1.5
          }
         },
         "domain": {
          "x": [
           0,
           0.475
          ],
          "y": [
           0,
           1
          ]
         },
         "uirevision": "same_view",
         "xaxis": {
          "title": {
           "text": "X"
          }
         },
         "yaxis": {
          "title": {
           "text": "Y"
          }
         },
         "zaxis": {
          "title": {
           "text": "Z"
          }
         }
        },
        "scene2": {
         "camera": {
          "eye": {
           "x": 1.5,
           "y": 1.5,
           "z": 1.5
          }
         },
         "domain": {
          "x": [
           0.525,
           1
          ],
          "y": [
           0,
           1
          ]
         },
         "uirevision": "same_view",
         "xaxis": {
          "title": {
           "text": "X"
          }
         },
         "yaxis": {
          "title": {
           "text": "Y"
          }
         },
         "zaxis": {
          "title": {
           "text": "Z"
          }
         }
        },
        "template": {
         "data": {
          "bar": [
           {
            "error_x": {
             "color": "#2a3f5f"
            },
            "error_y": {
             "color": "#2a3f5f"
            },
            "marker": {
             "line": {
              "color": "#E5ECF6",
              "width": 0.5
             },
             "pattern": {
              "fillmode": "overlay",
              "size": 10,
              "solidity": 0.2
             }
            },
            "type": "bar"
           }
          ],
          "barpolar": [
           {
            "marker": {
             "line": {
              "color": "#E5ECF6",
              "width": 0.5
             },
             "pattern": {
              "fillmode": "overlay",
              "size": 10,
              "solidity": 0.2
             }
            },
            "type": "barpolar"
           }
          ],
          "carpet": [
           {
            "aaxis": {
             "endlinecolor": "#2a3f5f",
             "gridcolor": "white",
             "linecolor": "white",
             "minorgridcolor": "white",
             "startlinecolor": "#2a3f5f"
            },
            "baxis": {
             "endlinecolor": "#2a3f5f",
             "gridcolor": "white",
             "linecolor": "white",
             "minorgridcolor": "white",
             "startlinecolor": "#2a3f5f"
            },
            "type": "carpet"
           }
          ],
          "choropleth": [
           {
            "colorbar": {
             "outlinewidth": 0,
             "ticks": ""
            },
            "type": "choropleth"
           }
          ],
          "contour": [
           {
            "colorbar": {
             "outlinewidth": 0,
             "ticks": ""
            },
            "colorscale": [
             [
              0,
              "#0d0887"
             ],
             [
              0.1111111111111111,
              "#46039f"
             ],
             [
              0.2222222222222222,
              "#7201a8"
             ],
             [
              0.3333333333333333,
              "#9c179e"
             ],
             [
              0.4444444444444444,
              "#bd3786"
             ],
             [
              0.5555555555555556,
              "#d8576b"
             ],
             [
              0.6666666666666666,
              "#ed7953"
             ],
             [
              0.7777777777777778,
              "#fb9f3a"
             ],
             [
              0.8888888888888888,
              "#fdca26"
             ],
             [
              1,
              "#f0f921"
             ]
            ],
            "type": "contour"
           }
          ],
          "contourcarpet": [
           {
            "colorbar": {
             "outlinewidth": 0,
             "ticks": ""
            },
            "type": "contourcarpet"
           }
          ],
          "heatmap": [
           {
            "colorbar": {
             "outlinewidth": 0,
             "ticks": ""
            },
            "colorscale": [
             [
              0,
              "#0d0887"
             ],
             [
              0.1111111111111111,
              "#46039f"
             ],
             [
              0.2222222222222222,
              "#7201a8"
             ],
             [
              0.3333333333333333,
              "#9c179e"
             ],
             [
              0.4444444444444444,
              "#bd3786"
             ],
             [
              0.5555555555555556,
              "#d8576b"
             ],
             [
              0.6666666666666666,
              "#ed7953"
             ],
             [
              0.7777777777777778,
              "#fb9f3a"
             ],
             [
              0.8888888888888888,
              "#fdca26"
             ],
             [
              1,
              "#f0f921"
             ]
            ],
            "type": "heatmap"
           }
          ],
          "histogram": [
           {
            "marker": {
             "pattern": {
              "fillmode": "overlay",
              "size": 10,
              "solidity": 0.2
             }
            },
            "type": "histogram"
           }
          ],
          "histogram2d": [
           {
            "colorbar": {
             "outlinewidth": 0,
             "ticks": ""
            },
            "colorscale": [
             [
              0,
              "#0d0887"
             ],
             [
              0.1111111111111111,
              "#46039f"
             ],
             [
              0.2222222222222222,
              "#7201a8"
             ],
             [
              0.3333333333333333,
              "#9c179e"
             ],
             [
              0.4444444444444444,
              "#bd3786"
             ],
             [
              0.5555555555555556,
              "#d8576b"
             ],
             [
              0.6666666666666666,
              "#ed7953"
             ],
             [
              0.7777777777777778,
              "#fb9f3a"
             ],
             [
              0.8888888888888888,
              "#fdca26"
             ],
             [
              1,
              "#f0f921"
             ]
            ],
            "type": "histogram2d"
           }
          ],
          "histogram2dcontour": [
           {
            "colorbar": {
             "outlinewidth": 0,
             "ticks": ""
            },
            "colorscale": [
             [
              0,
              "#0d0887"
             ],
             [
              0.1111111111111111,
              "#46039f"
             ],
             [
              0.2222222222222222,
              "#7201a8"
             ],
             [
              0.3333333333333333,
              "#9c179e"
             ],
             [
              0.4444444444444444,
              "#bd3786"
             ],
             [
              0.5555555555555556,
              "#d8576b"
             ],
             [
              0.6666666666666666,
              "#ed7953"
             ],
             [
              0.7777777777777778,
              "#fb9f3a"
             ],
             [
              0.8888888888888888,
              "#fdca26"
             ],
             [
              1,
              "#f0f921"
             ]
            ],
            "type": "histogram2dcontour"
           }
          ],
          "mesh3d": [
           {
            "colorbar": {
             "outlinewidth": 0,
             "ticks": ""
            },
            "type": "mesh3d"
           }
          ],
          "parcoords": [
           {
            "line": {
             "colorbar": {
              "outlinewidth": 0,
              "ticks": ""
             }
            },
            "type": "parcoords"
           }
          ],
          "pie": [
           {
            "automargin": true,
            "type": "pie"
           }
          ],
          "scatter": [
           {
            "fillpattern": {
             "fillmode": "overlay",
             "size": 10,
             "solidity": 0.2
            },
            "type": "scatter"
           }
          ],
          "scatter3d": [
           {
            "line": {
             "colorbar": {
              "outlinewidth": 0,
              "ticks": ""
             }
            },
            "marker": {
             "colorbar": {
              "outlinewidth": 0,
              "ticks": ""
             }
            },
            "type": "scatter3d"
           }
          ],
          "scattercarpet": [
           {
            "marker": {
             "colorbar": {
              "outlinewidth": 0,
              "ticks": ""
             }
            },
            "type": "scattercarpet"
           }
          ],
          "scattergeo": [
           {
            "marker": {
             "colorbar": {
              "outlinewidth": 0,
              "ticks": ""
             }
            },
            "type": "scattergeo"
           }
          ],
          "scattergl": [
           {
            "marker": {
             "colorbar": {
              "outlinewidth": 0,
              "ticks": ""
             }
            },
            "type": "scattergl"
           }
          ],
          "scattermap": [
           {
            "marker": {
             "colorbar": {
              "outlinewidth": 0,
              "ticks": ""
             }
            },
            "type": "scattermap"
           }
          ],
          "scattermapbox": [
           {
            "marker": {
             "colorbar": {
              "outlinewidth": 0,
              "ticks": ""
             }
            },
            "type": "scattermapbox"
           }
          ],
          "scatterpolar": [
           {
            "marker": {
             "colorbar": {
              "outlinewidth": 0,
              "ticks": ""
             }
            },
            "type": "scatterpolar"
           }
          ],
          "scatterpolargl": [
           {
            "marker": {
             "colorbar": {
              "outlinewidth": 0,
              "ticks": ""
             }
            },
            "type": "scatterpolargl"
           }
          ],
          "scatterternary": [
           {
            "marker": {
             "colorbar": {
              "outlinewidth": 0,
              "ticks": ""
             }
            },
            "type": "scatterternary"
           }
          ],
          "surface": [
           {
            "colorbar": {
             "outlinewidth": 0,
             "ticks": ""
            },
            "colorscale": [
             [
              0,
              "#0d0887"
             ],
             [
              0.1111111111111111,
              "#46039f"
             ],
             [
              0.2222222222222222,
              "#7201a8"
             ],
             [
              0.3333333333333333,
              "#9c179e"
             ],
             [
              0.4444444444444444,
              "#bd3786"
             ],
             [
              0.5555555555555556,
              "#d8576b"
             ],
             [
              0.6666666666666666,
              "#ed7953"
             ],
             [
              0.7777777777777778,
              "#fb9f3a"
             ],
             [
              0.8888888888888888,
              "#fdca26"
             ],
             [
              1,
              "#f0f921"
             ]
            ],
            "type": "surface"
           }
          ],
          "table": [
           {
            "cells": {
             "fill": {
              "color": "#EBF0F8"
             },
             "line": {
              "color": "white"
             }
            },
            "header": {
             "fill": {
              "color": "#C8D4E3"
             },
             "line": {
              "color": "white"
             }
            },
            "type": "table"
           }
          ]
         },
         "layout": {
          "annotationdefaults": {
           "arrowcolor": "#2a3f5f",
           "arrowhead": 0,
           "arrowwidth": 1
          },
          "autotypenumbers": "strict",
          "coloraxis": {
           "colorbar": {
            "outlinewidth": 0,
            "ticks": ""
           }
          },
          "colorscale": {
           "diverging": [
            [
             0,
             "#8e0152"
            ],
            [
             0.1,
             "#c51b7d"
            ],
            [
             0.2,
             "#de77ae"
            ],
            [
             0.3,
             "#f1b6da"
            ],
            [
             0.4,
             "#fde0ef"
            ],
            [
             0.5,
             "#f7f7f7"
            ],
            [
             0.6,
             "#e6f5d0"
            ],
            [
             0.7,
             "#b8e186"
            ],
            [
             0.8,
             "#7fbc41"
            ],
            [
             0.9,
             "#4d9221"
            ],
            [
             1,
             "#276419"
            ]
           ],
           "sequential": [
            [
             0,
             "#0d0887"
            ],
            [
             0.1111111111111111,
             "#46039f"
            ],
            [
             0.2222222222222222,
             "#7201a8"
            ],
            [
             0.3333333333333333,
             "#9c179e"
            ],
            [
             0.4444444444444444,
             "#bd3786"
            ],
            [
             0.5555555555555556,
             "#d8576b"
            ],
            [
             0.6666666666666666,
             "#ed7953"
            ],
            [
             0.7777777777777778,
             "#fb9f3a"
            ],
            [
             0.8888888888888888,
             "#fdca26"
            ],
            [
             1,
             "#f0f921"
            ]
           ],
           "sequentialminus": [
            [
             0,
             "#0d0887"
            ],
            [
             0.1111111111111111,
             "#46039f"
            ],
            [
             0.2222222222222222,
             "#7201a8"
            ],
            [
             0.3333333333333333,
             "#9c179e"
            ],
            [
             0.4444444444444444,
             "#bd3786"
            ],
            [
             0.5555555555555556,
             "#d8576b"
            ],
            [
             0.6666666666666666,
             "#ed7953"
            ],
            [
             0.7777777777777778,
             "#fb9f3a"
            ],
            [
             0.8888888888888888,
             "#fdca26"
            ],
            [
             1,
             "#f0f921"
            ]
           ]
          },
          "colorway": [
           "#636efa",
           "#EF553B",
           "#00cc96",
           "#ab63fa",
           "#FFA15A",
           "#19d3f3",
           "#FF6692",
           "#B6E880",
           "#FF97FF",
           "#FECB52"
          ],
          "font": {
           "color": "#2a3f5f"
          },
          "geo": {
           "bgcolor": "white",
           "lakecolor": "white",
           "landcolor": "#E5ECF6",
           "showlakes": true,
           "showland": true,
           "subunitcolor": "white"
          },
          "hoverlabel": {
           "align": "left"
          },
          "hovermode": "closest",
          "mapbox": {
           "style": "light"
          },
          "paper_bgcolor": "white",
          "plot_bgcolor": "#E5ECF6",
          "polar": {
           "angularaxis": {
            "gridcolor": "white",
            "linecolor": "white",
            "ticks": ""
           },
           "bgcolor": "#E5ECF6",
           "radialaxis": {
            "gridcolor": "white",
            "linecolor": "white",
            "ticks": ""
           }
          },
          "scene": {
           "xaxis": {
            "backgroundcolor": "#E5ECF6",
            "gridcolor": "white",
            "gridwidth": 2,
            "linecolor": "white",
            "showbackground": true,
            "ticks": "",
            "zerolinecolor": "white"
           },
           "yaxis": {
            "backgroundcolor": "#E5ECF6",
            "gridcolor": "white",
            "gridwidth": 2,
            "linecolor": "white",
            "showbackground": true,
            "ticks": "",
            "zerolinecolor": "white"
           },
           "zaxis": {
            "backgroundcolor": "#E5ECF6",
            "gridcolor": "white",
            "gridwidth": 2,
            "linecolor": "white",
            "showbackground": true,
            "ticks": "",
            "zerolinecolor": "white"
           }
          },
          "shapedefaults": {
           "line": {
            "color": "#2a3f5f"
           }
          },
          "ternary": {
           "aaxis": {
            "gridcolor": "white",
            "linecolor": "white",
            "ticks": ""
           },
           "baxis": {
            "gridcolor": "white",
            "linecolor": "white",
            "ticks": ""
           },
           "bgcolor": "#E5ECF6",
           "caxis": {
            "gridcolor": "white",
            "linecolor": "white",
            "ticks": ""
           }
          },
          "title": {
           "x": 0.05
          },
          "xaxis": {
           "automargin": true,
           "gridcolor": "white",
           "linecolor": "white",
           "ticks": "",
           "title": {
            "standoff": 15
           },
           "zerolinecolor": "white",
           "zerolinewidth": 2
          },
          "yaxis": {
           "automargin": true,
           "gridcolor": "white",
           "linecolor": "white",
           "ticks": "",
           "title": {
            "standoff": 15
           },
           "zerolinecolor": "white",
           "zerolinewidth": 2
          }
         }
        },
        "title": {
         "text": "Outlier Score Comparison (Seed: 737)"
        },
        "width": 1200
       }
      }
     },
     "metadata": {},
     "output_type": "display_data"
    }
   ],
   "source": [
    "from Experiment4functions import create_3d_sphere_data\n",
    "from sklearn.model_selection import train_test_split\n",
    "import plotly.graph_objects as go\n",
    "from plotly.subplots import make_subplots\n",
    "import numpy as np\n",
    "\n",
    "TRAIN_TEST_SPLIT = 0.7\n",
    "\n",
    "def plot_outlier_scores(seed):\n",
    "    data, labels, sphere = create_3d_sphere_data(seed)\n",
    "\n",
    "    # Split data\n",
    "    X_train, X_test, y_train, y_test = train_test_split(\n",
    "        data, labels, test_size=1-TRAIN_TEST_SPLIT, \n",
    "        random_state=seed, stratify=labels\n",
    "    )\n",
    "\n",
    "    # Get outlier scores for the given seed\n",
    "    row = outlier_df[outlier_df['seed'] == seed]\n",
    "    pfgap_scores = np.array(row['outlier_scores_pfgap'].values[0])\n",
    "    knn_scores = np.array(row['outlier_scores_knn_k8'].values[0])\n",
    "\n",
    "    # Normalize scores for marker size\n",
    "    pfgap_range = np.ptp(pfgap_scores)\n",
    "    knn_range = np.ptp(knn_scores)\n",
    "    pfgap_norm = (pfgap_scores - pfgap_scores.min()) / (pfgap_range if pfgap_range > 0 else 1)\n",
    "    knn_norm = (knn_scores - knn_scores.min()) / (knn_range if knn_range > 0 else 1)\n",
    "    \n",
    "    # Create a figure with subplots\n",
    "    fig = make_subplots(\n",
    "        rows=1, cols=2,\n",
    "        specs=[[{'type': 'scene'}, {'type': 'scene'}]],\n",
    "        subplot_titles=('PFGAP Outlier Scores', 'KNN (k=8) Outlier Scores'),\n",
    "        horizontal_spacing=0.05\n",
    "    )\n",
    "    \n",
    "    # Add traces for PFGAP\n",
    "    fig.add_trace(\n",
    "        go.Scatter3d(\n",
    "            x=X_train[:, 0],\n",
    "            y=X_train[:, 1],\n",
    "            z=X_train[:, 2],\n",
    "            mode='markers',\n",
    "            marker=dict(\n",
    "                size=5 + 15 * pfgap_norm,\n",
    "                color=y_train,\n",
    "                colorscale='RdBu',\n",
    "                opacity=0.8,\n",
    "                line=dict(width=0.5, color='DarkSlateGrey')\n",
    "            ),\n",
    "            text=[f\"PFGAP Score: {score:.4f}\" for score in pfgap_scores],\n",
    "            hoverinfo='text',\n",
    "            name='PFGAP'\n",
    "        ),\n",
    "        row=1, col=1\n",
    "    )\n",
    "    \n",
    "    # Add traces for KNN\n",
    "    fig.add_trace(\n",
    "        go.Scatter3d(\n",
    "            x=X_train[:, 0],\n",
    "            y=X_train[:, 1],\n",
    "            z=X_train[:, 2],\n",
    "            mode='markers',\n",
    "            marker=dict(\n",
    "                size=5 + 15 * knn_norm,\n",
    "                color=y_train,\n",
    "                colorscale='RdBu',\n",
    "                opacity=0.8,\n",
    "                line=dict(width=0.5, color='DarkSlateGrey')\n",
    "            ),\n",
    "            text=[f\"KNN Score: {score:.4f}\" for score in knn_scores],\n",
    "            hoverinfo='text',\n",
    "            name='KNN'\n",
    "        ),\n",
    "        row=1, col=2\n",
    "    )\n",
    "    \n",
    "    # Set identical initial camera position\n",
    "    camera = dict(eye=dict(x=1.5, y=1.5, z=1.5))\n",
    "    \n",
    "    fig.update_layout(\n",
    "        height=600,\n",
    "        width=1200,\n",
    "        title_text=f\"Outlier Score Comparison (Seed: {seed})\",\n",
    "        scene=dict(\n",
    "            xaxis_title=\"X\",\n",
    "            yaxis_title=\"Y\",\n",
    "            zaxis_title=\"Z\",\n",
    "            camera=camera,\n",
    "            uirevision=\"same_view\"  # Add this to sync camera views\n",
    "        ),\n",
    "        scene2=dict(\n",
    "            xaxis_title=\"X\",\n",
    "            yaxis_title=\"Y\",\n",
    "            zaxis_title=\"Z\",\n",
    "            camera=camera,\n",
    "            uirevision=\"same_view\"  # Add this to sync camera views\n",
    "        )\n",
    "    )\n",
    "    \n",
    "    return fig\n",
    "\n",
    "# Display interactive plot\n",
    "plot_outlier_scores(737)"
   ]
  },
  {
   "cell_type": "markdown",
   "id": "516feaa9",
   "metadata": {},
   "source": []
  },
  {
   "cell_type": "markdown",
   "id": "08beff46",
   "metadata": {},
   "source": []
  }
 ],
 "metadata": {
  "kernelspec": {
   "display_name": "tsimpute",
   "language": "python",
   "name": "python3"
  },
  "language_info": {
   "codemirror_mode": {
    "name": "ipython",
    "version": 3
   },
   "file_extension": ".py",
   "mimetype": "text/x-python",
   "name": "python",
   "nbconvert_exporter": "python",
   "pygments_lexer": "ipython3",
   "version": "3.11.13"
  }
 },
 "nbformat": 4,
 "nbformat_minor": 5
}
