{
 "cells": [
  {
   "cell_type": "markdown",
   "id": "0f8514db",
   "metadata": {},
   "source": [
    "# The goal of this file is to test PFGAP on Graphs"
   ]
  },
  {
   "cell_type": "code",
   "execution_count": 1,
   "id": "8bd0c5bb",
   "metadata": {},
   "outputs": [
    {
     "name": "stdout",
     "output_type": "stream",
     "text": [
      "Loading PROTEINS dataset...\n",
      "Dataset loaded successfully.\n",
      "------------------------------\n"
     ]
    }
   ],
   "source": [
    "import numpy as np\n",
    "import networkx as nx\n",
    "from tqdm.notebook import tqdm  # For a nice progress bar\n",
    "\n",
    "# Scikit-learn imports\n",
    "from sklearn.model_selection import train_test_split\n",
    "from sklearn.neighbors import KNeighborsClassifier\n",
    "from sklearn.metrics import accuracy_score\n",
    "\n",
    "# PyTorch Geometric imports\n",
    "from torch_geometric.datasets import TUDataset\n",
    "from torch_geometric.utils import to_networkx\n",
    "\n",
    "# --- Load Dataset ---\n",
    "print(\"Loading PROTEINS dataset...\")\n",
    "dataset = TUDataset(root='data/TUDataset', name='PROTEINS')\n",
    "print(\"Dataset loaded successfully.\")\n",
    "print(\"-\" * 30)\n",
    "\n",
    "# --- Your Distance Function ---\n",
    "def graph_distance(graph1, graph2):\n",
    "    \"\"\"Calculates distance based on Laplacian spectra.\"\"\"\n",
    "    # Convert PyG graphs to NetworkX graphs\n",
    "    # node_attrs=None and edge_attrs=None can speed this up\n",
    "    g1_nx = to_networkx(graph1, node_attrs=None, edge_attrs=None)\n",
    "    g2_nx = to_networkx(graph2, node_attrs=None, edge_attrs=None)\n",
    "    \n",
    "    spec1 = nx.laplacian_spectrum(g1_nx)\n",
    "    spec2 = nx.laplacian_spectrum(g2_nx)\n",
    "    \n",
    "    # Use the smaller of the two spectrum lengths for comparison\n",
    "    k = min(len(spec1), len(spec2))\n",
    "    \n",
    "    # Calculate the L2 norm (Euclidean distance) of the spectra\n",
    "    return np.linalg.norm(spec1[:k] - spec2[:k])"
   ]
  },
  {
   "cell_type": "code",
   "execution_count": 2,
   "id": "8e5ec391",
   "metadata": {},
   "outputs": [
    {
     "name": "stdout",
     "output_type": "stream",
     "text": [
      "Total number of graphs in dataset: 1113\n",
      "Sampled 500 graphs from the dataset\n",
      "\n",
      "First graph in sample:\n",
      "- Number of nodes: 5\n",
      "- Number of edges: 14\n",
      "- Label: 1\n"
     ]
    }
   ],
   "source": [
    "# Get the total number of graphs in the dataset\n",
    "print(f\"Total number of graphs in dataset: {len(dataset)}\")\n",
    "\n",
    "# Sample 100 random indices without replacement\n",
    "np.random.seed(42)  # For reproducibility\n",
    "sample_indices = np.random.choice(len(dataset), size=500, replace=False)\n",
    "\n",
    "# Create a sample dataset (list of sampled graphs)\n",
    "dataset = [dataset[i] for i in sample_indices]\n",
    "\n",
    "print(f\"Sampled {len(dataset)} graphs from the dataset\")\n",
    "\n",
    "# Show information about the first graph in the sample\n",
    "first_graph = dataset[0]\n",
    "print(f\"\\nFirst graph in sample:\")\n",
    "print(f\"- Number of nodes: {first_graph.num_nodes}\")\n",
    "print(f\"- Number of edges: {first_graph.num_edges}\")\n",
    "print(f\"- Label: {first_graph.y.item()}\")"
   ]
  },
  {
   "cell_type": "code",
   "execution_count": 3,
   "id": "bc1b068b",
   "metadata": {},
   "outputs": [
    {
     "name": "stdout",
     "output_type": "stream",
     "text": [
      "Calculating 500x500 distance matrix...\n"
     ]
    },
    {
     "data": {
      "application/vnd.jupyter.widget-view+json": {
       "model_id": "a978d5f5bd2446b797709543f45792e4",
       "version_major": 2,
       "version_minor": 0
      },
      "text/plain": [
       "  0%|          | 0/500 [00:00<?, ?it/s]"
      ]
     },
     "metadata": {},
     "output_type": "display_data"
    },
    {
     "name": "stdout",
     "output_type": "stream",
     "text": [
      "\n",
      "Distance matrix calculation complete!\n",
      "Shape of distance matrix: (500, 500)\n"
     ]
    }
   ],
   "source": [
    "num_graphs = len(dataset)\n",
    "# Initialize an empty square matrix to hold the distances\n",
    "distance_matrix = np.zeros((num_graphs, num_graphs))\n",
    "\n",
    "print(f\"Calculating {num_graphs}x{num_graphs} distance matrix...\")\n",
    "\n",
    "# Use tqdm for a progress bar\n",
    "for i in tqdm(range(num_graphs)):\n",
    "    for j in range(i, num_graphs): # We only need to compute the upper triangle\n",
    "        if i == j:\n",
    "            continue # Distance to self is 0\n",
    "        \n",
    "        # Calculate and store the distance\n",
    "        dist = graph_distance(dataset[i], dataset[j])\n",
    "        distance_matrix[i, j] = dist\n",
    "        distance_matrix[j, i] = dist # The matrix is symmetric\n",
    "\n",
    "print(\"\\nDistance matrix calculation complete!\")\n",
    "print(f\"Shape of distance matrix: {distance_matrix.shape}\")"
   ]
  },
  {
   "cell_type": "code",
   "execution_count": 6,
   "id": "c321caf1",
   "metadata": {},
   "outputs": [
    {
     "name": "stdout",
     "output_type": "stream",
     "text": [
      "Shape of training distance matrix: (350, 350)\n",
      "Shape of training labels: (350,)\n",
      "Shape of testing distance matrix: (150, 350)\n",
      "Shape of testing labels: (150,)\n"
     ]
    }
   ],
   "source": [
    "# Get the labels for each graph\n",
    "labels = np.array([graph.y.item() for graph in dataset])\n",
    "\n",
    "# Create an array of indices [0, 1, 2, ..., n-1]\n",
    "indices = np.arange(num_graphs)\n",
    "\n",
    "# Split indices and labels into training and testing sets\n",
    "# We stratify by labels to ensure both sets have a similar class distribution\n",
    "train_indices, test_indices, y_train, y_test = train_test_split(\n",
    "    indices, labels, test_size=0.3, random_state=42, stratify=labels\n",
    ")\n",
    "\n",
    "# Now, create the training and testing distance matrices\n",
    "# X_train should contain distances between all training samples\n",
    "X_train_precomputed = distance_matrix[train_indices, :][:, train_indices]\n",
    "\n",
    "# X_test should contain distances between test samples (rows) and training samples (columns)\n",
    "X_test_precomputed = distance_matrix[test_indices, :][:, train_indices]\n",
    "\n",
    "\n",
    "print(f\"Shape of training distance matrix: {X_train_precomputed.shape}\")\n",
    "print(f\"Shape of training labels: {y_train.shape}\")\n",
    "print(f\"Shape of testing distance matrix: {X_test_precomputed.shape}\")\n",
    "print(f\"Shape of testing labels: {y_test.shape}\")"
   ]
  },
  {
   "cell_type": "code",
   "execution_count": 7,
   "id": "1fabc733",
   "metadata": {},
   "outputs": [
    {
     "name": "stdout",
     "output_type": "stream",
     "text": [
      "Training KNN classifier...\n",
      "Making predictions...\n",
      "------------------------------\n",
      "✅ Model Accuracy: 66.67%\n"
     ]
    }
   ],
   "source": [
    "# Initialize the classifier with k=5 neighbors\n",
    "# IMPORTANT: We set metric='precomputed'\n",
    "knn = KNeighborsClassifier(n_neighbors=5, metric='precomputed')\n",
    "\n",
    "# Train the model\n",
    "print(\"Training KNN classifier...\")\n",
    "knn.fit(X_train_precomputed, y_train)\n",
    "\n",
    "# Make predictions on the test set\n",
    "print(\"Making predictions...\")\n",
    "y_pred = knn.predict(X_test_precomputed)\n",
    "\n",
    "# Calculate and print the accuracy\n",
    "accuracy = accuracy_score(y_test, y_pred)\n",
    "print(\"-\" * 30)\n",
    "print(f\"✅ Model Accuracy: {accuracy * 100:.2f}%\")"
   ]
  },
  {
   "cell_type": "markdown",
   "id": "4c186885",
   "metadata": {},
   "source": [
    "# Visualizations"
   ]
  },
  {
   "cell_type": "code",
   "execution_count": null,
   "id": "0dd5cb00",
   "metadata": {},
   "outputs": [],
   "source": []
  }
 ],
 "metadata": {
  "kernelspec": {
   "display_name": "tsimpute",
   "language": "python",
   "name": "python3"
  },
  "language_info": {
   "codemirror_mode": {
    "name": "ipython",
    "version": 3
   },
   "file_extension": ".py",
   "mimetype": "text/x-python",
   "name": "python",
   "nbconvert_exporter": "python",
   "pygments_lexer": "ipython3",
   "version": "3.11.13"
  }
 },
 "nbformat": 4,
 "nbformat_minor": 5
}
