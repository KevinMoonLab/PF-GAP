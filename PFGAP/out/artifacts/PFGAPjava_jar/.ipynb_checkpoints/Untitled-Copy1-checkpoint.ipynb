{
 "cells": [
  {
   "cell_type": "code",
   "execution_count": 1,
   "id": "150240fc",
   "metadata": {},
   "outputs": [],
   "source": [
    "import proxUtil\n",
    "import matplotlib.pyplot as plt\n",
    "import numpy as np\n",
    "from sklearn.manifold import MDS"
   ]
  },
  {
   "cell_type": "code",
   "execution_count": 2,
   "id": "7a2d9d3e",
   "metadata": {},
   "outputs": [
    {
     "name": "stdout",
     "output_type": "stream",
     "text": [
      "reading file [GunPoint_TRAIN.tsv]:finished in 0:0:0.014\n",
      "reading file [GunPoint_TRAIN.tsv]:finished in 0:0:0.007\n",
      "Running on configurations...\n",
      "Dataset: GunPoint_TRAIN.tsv, Training Data : 50x150 , Testing Data: 50x150, Train #Classes: 2, Test #Classes: 2\n",
      "Repeats: 1 , Trees: 10 , Candidates per Split(r): 5\n",
      "Output Dir: output, Export: 1, Verbosity: 1\n",
      "Select DM per node: true , Shuffle Data: false, JVM WarmUp: false\n",
      "----------------------------------------------------------------------------------------------------\n",
      "\n",
      "-----------------Repetition No: 1 (GunPoint_TRAIN.tsv)   -----------------\n",
      "Using: 3 MB, Free: 21 MB, Allocated Pool: 24 MB, Max Available: 1024 MB\n",
      "core.ProximityForestResult@e9e54c2\n",
      "0.1.2.3.4.5.6.7.8.9.\n",
      "Using: 19 MB, Free: 116 MB, Allocated Pool: 135 MB, Max Available: 1024 MB\n",
      "*\n",
      "Computing Forest Proximities...\n",
      "Done Computing Forest Proximities. Computation time: 6.0ms\n",
      "Training Time: 759.881964ms (0:0:0.759)\n",
      "Prediction Time: 147.668961ms (0:0:0.147)\n",
      "Correct(TP+TN): 50 vs Incorrect(FP+FN): 0\n",
      "Accuracy: 1.0\n",
      "Error Rate: 0.0\n",
      "REPEAT:1 ,GunPoint_TRAIN.tsv, 1.0, 759.881964, 147.668961, 4.0\n"
     ]
    }
   ],
   "source": [
    "proxUtil.getProx(\"Data/GunPoint_TRAIN.tsv\", \"Data/GunPoint_TRAIN.tsv\")"
   ]
  },
  {
   "cell_type": "code",
   "execution_count": 3,
   "id": "4001e0da",
   "metadata": {},
   "outputs": [],
   "source": [
    "f0 = open(\"Predictions.txt\")\n",
    "f1 = f0.read()\n",
    "preds = eval(\"np.array(\" + f1 + \")\")\n",
    "f0.close()"
   ]
  },
  {
   "cell_type": "code",
   "execution_count": 4,
   "id": "bbbb4278",
   "metadata": {},
   "outputs": [
    {
     "data": {
      "text/plain": [
       "(50,)"
      ]
     },
     "execution_count": 4,
     "metadata": {},
     "output_type": "execute_result"
    }
   ],
   "source": [
    "preds.shape"
   ]
  },
  {
   "cell_type": "code",
   "execution_count": 5,
   "id": "70ed9597",
   "metadata": {},
   "outputs": [],
   "source": [
    "p,y=proxUtil.getProxArrays()\n",
    "#p,y=proxUtil.getProxArrays(\"/home/ben/Documents/SchoolGithub/Math_Dissertation/Data_Science/PFGAP/Results/Proximities/gunpoint_prox.txt\", \"/home/ben/Documents/SchoolGithub/Math_Dissertation/Data_Science/PFGAP/Results/ytrain/gunpoint_ytrain.txt\")"
   ]
  },
  {
   "cell_type": "code",
   "execution_count": 6,
   "id": "e40a2465",
   "metadata": {},
   "outputs": [],
   "source": [
    "p = proxUtil.SymmetrizeProx(p)"
   ]
  },
  {
   "cell_type": "code",
   "execution_count": 7,
   "id": "6ad8a9fd",
   "metadata": {},
   "outputs": [
    {
     "data": {
      "text/plain": [
       "(50, 50)"
      ]
     },
     "execution_count": 7,
     "metadata": {},
     "output_type": "execute_result"
    }
   ],
   "source": [
    "p.shape"
   ]
  },
  {
   "cell_type": "code",
   "execution_count": 8,
   "id": "bfe32844",
   "metadata": {},
   "outputs": [
    {
     "data": {
      "text/plain": [
       "array([0, 0, 1, 1, 0, 0, 0, 0, 0, 1, 1, 1, 1, 1, 0, 1, 0, 0, 1, 0, 1, 1,\n",
       "       1, 0, 1, 0, 1, 1, 0, 1, 1, 0, 0, 1, 0, 1, 0, 0, 0, 0, 0, 1, 1, 1,\n",
       "       0, 0, 1, 0, 1, 0])"
      ]
     },
     "execution_count": 8,
     "metadata": {},
     "output_type": "execute_result"
    }
   ],
   "source": [
    "y"
   ]
  },
  {
   "cell_type": "code",
   "execution_count": 9,
   "id": "013c1f76",
   "metadata": {},
   "outputs": [
    {
     "data": {
      "text/plain": [
       "[0.07818194956081191,\n",
       " 0.46159788840623744,\n",
       " 1.638622719319407,\n",
       " 0.6576009378228254,\n",
       " 0.1294929123988647,\n",
       " 0.649725525184546,\n",
       " 0.7556982309802363,\n",
       " 4.28608914892907,\n",
       " 0.3356858352772944,\n",
       " 1.162184201349531,\n",
       " 0.1606572976898589,\n",
       " 0.8808804597235129,\n",
       " 1.0770597192913662,\n",
       " 1.0102005645518657,\n",
       " 0.28755845897983484,\n",
       " 0.046541646006017214,\n",
       " 8.31889925697859,\n",
       " 0.06965914381560925,\n",
       " 1.2326119956274229,\n",
       " 1.0666425696359305,\n",
       " 0.9801685280064717,\n",
       " 0.11649221087908375,\n",
       " 0.469211323655731,\n",
       " 0.2600217477183708,\n",
       " 0.040746275356074654,\n",
       " 0.12380056918017966,\n",
       " 0.27000388663835584,\n",
       " 4.484365674213706,\n",
       " 0.0057626688198473075,\n",
       " 0.466617011360289,\n",
       " 0.346899949301225,\n",
       " 0.43410741393000163,\n",
       " 0.3166661693126145,\n",
       " 1.6466197826327396,\n",
       " 0.3408864604438152,\n",
       " 2.2950779539311945,\n",
       " 1.780183343299373,\n",
       " 0.4790978436758999,\n",
       " 0.005762668819847493,\n",
       " 1.5142798763373315,\n",
       " 0.2035105555890675,\n",
       " 0.13910074454242244,\n",
       " 0.8657656763481104,\n",
       " 0.8755281936546809,\n",
       " 0.49152579531041757,\n",
       " 0.429796126155231,\n",
       " 3.0962969727420293,\n",
       " 2.346822947022242,\n",
       " 0.04074627535607437,\n",
       " 0.828544894238736]"
      ]
     },
     "execution_count": 9,
     "metadata": {},
     "output_type": "execute_result"
    }
   ],
   "source": [
    "proxUtil.getOutlierScores(p,y)"
   ]
  },
  {
   "cell_type": "code",
   "execution_count": null,
   "id": "a4d16592",
   "metadata": {},
   "outputs": [],
   "source": []
  },
  {
   "cell_type": "code",
   "execution_count": 10,
   "id": "933f6bc6",
   "metadata": {},
   "outputs": [],
   "source": [
    "embed = MDS(n_components=2, random_state=0, dissimilarity='precomputed')"
   ]
  },
  {
   "cell_type": "code",
   "execution_count": 21,
   "id": "2c4dca20",
   "metadata": {},
   "outputs": [],
   "source": [
    "dis = (np.ones(p.shape) - p)**4"
   ]
  },
  {
   "cell_type": "code",
   "execution_count": 22,
   "id": "cb7ac2b1",
   "metadata": {},
   "outputs": [],
   "source": [
    "x_trans = embed.fit_transform(dis)"
   ]
  },
  {
   "cell_type": "code",
   "execution_count": 23,
   "id": "187c7496",
   "metadata": {},
   "outputs": [],
   "source": [
    "xt = x_trans.transpose()"
   ]
  },
  {
   "cell_type": "code",
   "execution_count": 24,
   "id": "d316736f",
   "metadata": {},
   "outputs": [
    {
     "data": {
      "text/plain": [
       "[7.818194956081191,\n",
       " 46.15978884062375,\n",
       " 163.86227193194068,\n",
       " 65.76009378228254,\n",
       " 12.94929123988647,\n",
       " 64.97255251845459,\n",
       " 75.56982309802362,\n",
       " 428.60891489290697,\n",
       " 33.56858352772944,\n",
       " 116.21842013495309,\n",
       " 16.06572976898589,\n",
       " 88.0880459723513,\n",
       " 107.70597192913662,\n",
       " 101.02005645518656,\n",
       " 28.755845897983484,\n",
       " 4.654164600601721,\n",
       " 831.889925697859,\n",
       " 6.965914381560926,\n",
       " 123.26119956274229,\n",
       " 106.66425696359305,\n",
       " 98.01685280064717,\n",
       " 11.649221087908375,\n",
       " 46.9211323655731,\n",
       " 26.002174771837076,\n",
       " 4.0746275356074655,\n",
       " 12.380056918017965,\n",
       " 27.000388663835583,\n",
       " 448.43656742137057,\n",
       " 0.5762668819847307,\n",
       " 46.661701136028896,\n",
       " 34.689994930122495,\n",
       " 43.410741393000166,\n",
       " 31.666616931261448,\n",
       " 164.66197826327397,\n",
       " 34.08864604438152,\n",
       " 229.50779539311947,\n",
       " 178.0183343299373,\n",
       " 47.90978436758999,\n",
       " 0.5762668819847493,\n",
       " 151.42798763373315,\n",
       " 20.35105555890675,\n",
       " 13.910074454242244,\n",
       " 86.57656763481104,\n",
       " 87.5528193654681,\n",
       " 49.15257953104176,\n",
       " 42.9796126155231,\n",
       " 309.62969727420295,\n",
       " 234.6822947022242,\n",
       " 4.074627535607437,\n",
       " 82.8544894238736]"
      ]
     },
     "execution_count": 24,
     "metadata": {},
     "output_type": "execute_result"
    }
   ],
   "source": [
    "sizes = [x*100 for x in proxUtil.getOutlierScores(p,y)]\n",
    "sizes"
   ]
  },
  {
   "cell_type": "code",
   "execution_count": 25,
   "id": "3940c799",
   "metadata": {},
   "outputs": [
    {
     "data": {
      "text/plain": [
       "<matplotlib.collections.PathCollection at 0x7f1522037730>"
      ]
     },
     "execution_count": 25,
     "metadata": {},
     "output_type": "execute_result"
    },
    {
     "data": {
      "image/png": "[encoded data removed]",
      "text/plain": [
       "<Figure size 640x480 with 1 Axes>"
      ]
     },
     "metadata": {},
     "output_type": "display_data"
    }
   ],
   "source": [
    "plt.scatter(xt[0],xt[1],c=y,s=sizes)"
   ]
  },
  {
   "cell_type": "code",
   "execution_count": 13,
   "id": "dbd56eb5",
   "metadata": {},
   "outputs": [
    {
     "data": {
      "text/plain": [
       "16"
      ]
     },
     "execution_count": 13,
     "metadata": {},
     "output_type": "execute_result"
    }
   ],
   "source": [
    "np.argmax(sizes)"
   ]
  },
  {
   "cell_type": "code",
   "execution_count": 47,
   "id": "d6b7970b",
   "metadata": {},
   "outputs": [
    {
     "data": {
      "text/plain": [
       "array([-0.10269102, -0.75498711])"
      ]
     },
     "execution_count": 47,
     "metadata": {},
     "output_type": "execute_result"
    }
   ],
   "source": [
    "x_trans[np.argmax(sizes)]"
   ]
  },
  {
   "cell_type": "code",
   "execution_count": 46,
   "id": "4d33c1e4",
   "metadata": {},
   "outputs": [
    {
     "data": {
      "text/plain": [
       "2"
      ]
     },
     "execution_count": 46,
     "metadata": {},
     "output_type": "execute_result"
    }
   ],
   "source": [
    "y[np.argmax(sizes)]"
   ]
  },
  {
   "cell_type": "code",
   "execution_count": 33,
   "id": "9a5493c4",
   "metadata": {},
   "outputs": [],
   "source": [
    "clrs = [(-1)*(h)+2 for h in y]"
   ]
  },
  {
   "cell_type": "code",
   "execution_count": 52,
   "id": "7751ced0",
   "metadata": {},
   "outputs": [],
   "source": [
    "X1 = np.array([x_trans[i] for i in range(x_trans.shape[0]) if y[i]==1]).transpose()\n",
    "X2 = np.array([x_trans[i] for i in range(x_trans.shape[0]) if y[i]==2]).transpose()\n",
    "eX = [X1,X2]\n",
    "\n",
    "outs1 = np.array([sizes[i] for i in range(x_trans.shape[0]) if y[i]==1]).transpose()\n",
    "outs2 = np.array([sizes[i] for i in range(x_trans.shape[0]) if y[i]==2]).transpose()"
   ]
  },
  {
   "cell_type": "code",
   "execution_count": 53,
   "id": "f442d74b",
   "metadata": {},
   "outputs": [
    {
     "data": {
      "text/plain": [
       "array([156.52649667,  63.90904202, 123.50607501,  50.12332827,\n",
       "        10.57317765, 158.3608397 ,  10.57317765,  49.61418187,\n",
       "        95.29627963, 149.60383881, 158.97505865, 107.52314106,\n",
       "       155.27912663, 126.02149583,  83.19900498, 157.42211916,\n",
       "        85.84164166, 161.87568564,  70.00955685,  64.31475009,\n",
       "        53.42774003,  48.1235343 , 149.76990267, 110.13080516])"
      ]
     },
     "execution_count": 53,
     "metadata": {},
     "output_type": "execute_result"
    }
   ],
   "source": [
    "outs1"
   ]
  },
  {
   "cell_type": "code",
   "execution_count": 54,
   "id": "f11b8569",
   "metadata": {},
   "outputs": [
    {
     "data": {
      "text/plain": [
       "array([ 31.4057916 ,  59.82506975,   4.4587545 ,  35.78342426,\n",
       "       215.61858306,  26.02003387,  42.36192715,  46.30327062,\n",
       "       603.04400675,  12.85427264,  45.13082708,  20.32034408,\n",
       "       175.6455796 ,  66.50467021,  20.5290708 ,   4.4587545 ,\n",
       "        89.83222202, 525.88146674,  15.26349449,  38.94923459,\n",
       "        72.07216229, 102.20643035,  50.16492568,  61.40677754,\n",
       "       218.16232029,  15.79658554])"
      ]
     },
     "execution_count": 54,
     "metadata": {},
     "output_type": "execute_result"
    }
   ],
   "source": [
    "outs2"
   ]
  },
  {
   "cell_type": "code",
   "execution_count": 48,
   "id": "2293d527",
   "metadata": {},
   "outputs": [
    {
     "ename": "ValueError",
     "evalue": "The truth value of an array with more than one element is ambiguous. Use a.any() or a.all()",
     "output_type": "error",
     "traceback": [
      "\u001b[0;31m---------------------------------------------------------------------------\u001b[0m",
      "\u001b[0;31mValueError\u001b[0m                                Traceback (most recent call last)",
      "Cell \u001b[0;32mIn[48], line 1\u001b[0m\n\u001b[0;32m----> 1\u001b[0m \u001b[38;5;28;43mmax\u001b[39;49m\u001b[43m(\u001b[49m\u001b[43mX1\u001b[49m\u001b[43m)\u001b[49m\n",
      "\u001b[0;31mValueError\u001b[0m: The truth value of an array with more than one element is ambiguous. Use a.any() or a.all()"
     ]
    }
   ],
   "source": [
    "max()"
   ]
  },
  {
   "cell_type": "code",
   "execution_count": 56,
   "id": "53670371",
   "metadata": {},
   "outputs": [
    {
     "name": "stdout",
     "output_type": "stream",
     "text": [
      "16\n"
     ]
    },
    {
     "data": {
      "image/png": "[encoded data removed]",
      "text/plain": [
       "<Figure size 640x480 with 1 Axes>"
      ]
     },
     "metadata": {},
     "output_type": "display_data"
    }
   ],
   "source": [
    "cmap = plt.cm.Paired\n",
    "#plt.figure(figsize = (15,10))\n",
    "for i in range(1,3):\n",
    "    cmap1 = [i-1 for j in range(eX[i-1].shape[1])]\n",
    "    if y[np.argmax(sizes)] == i:\n",
    "        cmap1[np.argmax(eval(\"outs\" + str(i)))] = 5\n",
    "    plt.scatter(eX[i-1][0], eX[i-1][1], c=cmap(cmap1), \n",
    "                label=\"Class {:g}\".format(i))\n",
    "    \n",
    "plt.legend()\n",
    "plt.xlabel('MDS component 1')\n",
    "plt.ylabel('MDS component 2')\n",
    "plt.title('MDS embedding using PFGAP')\n",
    "plt.show()"
   ]
  },
  {
   "cell_type": "code",
   "execution_count": 57,
   "id": "529717cb",
   "metadata": {},
   "outputs": [],
   "source": [
    "ecgTrain = \"/home/ben/Documents/classes/CS7675/Project/UCRArchive_2018/ECG200/ECG200_TRAIN.tsv\"\n",
    "ecgTest = \"/home/ben/Documents/classes/CS7675/Project/UCRArchive_2018/ECG200/ECG200_TEST.tsv\""
   ]
  },
  {
   "cell_type": "code",
   "execution_count": 70,
   "id": "02b5fbf9",
   "metadata": {},
   "outputs": [
    {
     "name": "stdout",
     "output_type": "stream",
     "text": [
      "reading file [ECG200_TRAIN.tsv]:finished in 0:0:0.016\n",
      "reading file [ECG200_TEST.tsv]:finished in 0:0:0.007\n",
      "Running on configurations...\n",
      "Dataset: ECG200_TRAIN.tsv, Training Data : 100x96 , Testing Data: 100x96, Train #Classes: 2, Test #Classes: 2\n",
      "Repeats: 1 , Trees: 21 , Candidates per Split(r): 7\n",
      "Output Dir: output, Export: 1, Verbosity: 1\n",
      "Select DM per node: true , Shuffle Data: true, JVM WarmUp: false\n",
      "----------------------------------------------------------------------------------------------------\n",
      "\n",
      "Shuffling the training set...\n",
      "-----------------Repetition No: 1 (ECG200_TRAIN.tsv)   -----------------\n",
      "Using: 3 MB, Free: 21 MB, Allocated Pool: 24 MB, Max Available: 1024 MB\n",
      "0.1.2.3.4.5.6.7.8.9.10.11.12.13.14.15.16.17.18.19.20.\n",
      "Using: 9 MB, Free: 15 MB, Allocated Pool: 24 MB, Max Available: 1024 MB\n",
      "*\n",
      "Computing Forest Proximities...\n",
      "Done Computing Forest Proximities. Computation time: 24.0ms\n",
      "Training Time: 2489.193442ms (0:0:2.489)\n",
      "Prediction Time: 401.451791ms (0:0:0.401)\n",
      "Correct(TP+TN): 90 vs Incorrect(FP+FN): 10\n",
      "Accuracy: 0.9\n",
      "Error Rate: 0.09999999999999998\n",
      "REPEAT:1 ,ECG200_TRAIN.tsv, 0.9, 2489.193442, 401.451791, 6.380952380952381\n"
     ]
    }
   ],
   "source": [
    "proxUtil.getProx(ecgTrain, ecgTest, num_trees=21, r=7)"
   ]
  },
  {
   "cell_type": "code",
   "execution_count": 71,
   "id": "c4d939ac",
   "metadata": {},
   "outputs": [],
   "source": [
    "pecg, yecg = proxUtil.getProxArrays()"
   ]
  },
  {
   "cell_type": "code",
   "execution_count": 72,
   "id": "49ef60b8",
   "metadata": {},
   "outputs": [],
   "source": [
    "pecg = proxUtil.SymmetrizeProx(pecg)"
   ]
  },
  {
   "cell_type": "code",
   "execution_count": 73,
   "id": "0e6b9d62",
   "metadata": {},
   "outputs": [],
   "source": [
    "outs = proxUtil.getOutlierScores(pecg,yecg)"
   ]
  },
  {
   "cell_type": "code",
   "execution_count": 124,
   "id": "a2711ba0",
   "metadata": {},
   "outputs": [],
   "source": [
    "embed2 = MDS(n_components=2, random_state=0, dissimilarity='precomputed')"
   ]
  },
  {
   "cell_type": "code",
   "execution_count": 166,
   "id": "10327305",
   "metadata": {},
   "outputs": [],
   "source": [
    "dis2 = (np.ones(pecg.shape) - pecg)**2"
   ]
  },
  {
   "cell_type": "code",
   "execution_count": 167,
   "id": "9a25648a",
   "metadata": {},
   "outputs": [],
   "source": [
    "x_trans2 = embed2.fit_transform(dis2)"
   ]
  },
  {
   "cell_type": "code",
   "execution_count": 168,
   "id": "16a6cd17",
   "metadata": {},
   "outputs": [],
   "source": [
    "xt2 = x_trans2.transpose()"
   ]
  },
  {
   "cell_type": "code",
   "execution_count": 169,
   "id": "f3fd64ee",
   "metadata": {},
   "outputs": [
    {
     "data": {
      "text/plain": [
       "<matplotlib.collections.PathCollection at 0x7fe194b4e8b0>"
      ]
     },
     "execution_count": 169,
     "metadata": {},
     "output_type": "execute_result"
    },
    {
     "data": {
      "image/png": "[encoded data removed]",
      "text/plain": [
       "<Figure size 640x480 with 1 Axes>"
      ]
     },
     "metadata": {},
     "output_type": "display_data"
    }
   ],
   "source": [
    "plt.scatter(xt2[0],xt2[1],c=yecg, cmap=\"Paired\")"
   ]
  },
  {
   "cell_type": "code",
   "execution_count": 170,
   "id": "a586bf9d",
   "metadata": {},
   "outputs": [
    {
     "data": {
      "text/plain": [
       "array([[1.        , 1.        , 0.96819602, ..., 0.97623358, 0.981281  ,\n",
       "        1.        ],\n",
       "       [1.        , 1.        , 1.        , ..., 1.        , 1.        ,\n",
       "        0.93762259],\n",
       "       [0.96819602, 1.        , 1.        , ..., 0.95384682, 0.9723657 ,\n",
       "        1.        ],\n",
       "       ...,\n",
       "       [0.97623358, 1.        , 0.95384682, ..., 1.        , 0.98578372,\n",
       "        1.        ],\n",
       "       [0.981281  , 1.        , 0.9723657 , ..., 0.98578372, 1.        ,\n",
       "        1.        ],\n",
       "       [1.        , 0.93762259, 1.        , ..., 1.        , 1.        ,\n",
       "        1.        ]])"
      ]
     },
     "execution_count": 170,
     "metadata": {},
     "output_type": "execute_result"
    }
   ],
   "source": [
    "dis2"
   ]
  },
  {
   "cell_type": "code",
   "execution_count": 10,
   "id": "f3b5ec22",
   "metadata": {},
   "outputs": [
    {
     "name": "stdout",
     "output_type": "stream",
     "text": [
      "[420.5310055792212, 315.7217055406797, 423.7360577548897, 635.3381985966051, 520.5353516871431, 456.0394590029043, 296.22964790401943, 113.39242788646082, 304.55765346815247, 279.9079344495015, 288.23517467140033, 354.1357201465546, 255.70826490364618, 649.2492124969928, 271.9883287438735, 355.0349890877877, 215.3413563095892, 122.30742007785769, 532.8629446073478, 409.4048508961065, 400.4155498935636, 267.47692616663056, 173.14275700030038, 130.8221957969072, 451.615427857989, 173.83263043314147, 338.77877535603744, 500.85403831704906, 147.35831032808102, 359.32128183652054, 334.9403706113166, 220.35146684149456, 211.79568316955775, 3256.729953375724, 1927.3949028927316, 286.4448452954208]\n"
     ]
    },
    {
     "data": {
      "text/plain": [
       "325.33103807599815"
      ]
     },
     "execution_count": 10,
     "metadata": {},
     "output_type": "execute_result"
    }
   ],
   "source": [
    "np.median(proxUtil.getRawOutlierScores(p,y))"
   ]
  },
  {
   "cell_type": "code",
   "execution_count": null,
   "id": "02f9a079",
   "metadata": {},
   "outputs": [],
   "source": [
    "np.absolute"
   ]
  },
  {
   "cell_type": "code",
   "execution_count": null,
   "id": "69bd6651",
   "metadata": {},
   "outputs": [],
   "source": []
  },
  {
   "cell_type": "code",
   "execution_count": null,
   "id": "98991267",
   "metadata": {},
   "outputs": [],
   "source": []
  },
  {
   "cell_type": "code",
   "execution_count": null,
   "id": "d75acdd2",
   "metadata": {},
   "outputs": [],
   "source": []
  },
  {
   "cell_type": "code",
   "execution_count": 3,
   "id": "c055506d",
   "metadata": {},
   "outputs": [],
   "source": [
    "myTTV = ttv.Time2Vec(2)"
   ]
  },
  {
   "cell_type": "code",
   "execution_count": null,
   "id": "0de5545c",
   "metadata": {},
   "outputs": [],
   "source": [
    "'''from periodic_activations import SineActivation, CosineActivation\n",
    "#from Data import ToyDataset\n",
    "from torch import nn\n",
    "import torch\n",
    "\n",
    "class Model(nn.Module):\n",
    "    def __init__(self, activation, hiddem_dim):\n",
    "        super(Model, self).__init__()\n",
    "        if activation == \"sin\":\n",
    "            self.l1 = SineActivation(1, hiddem_dim)\n",
    "        elif activation == \"cos\":\n",
    "            self.l1 = CosineActivation(1, hiddem_dim)\n",
    "        \n",
    "        self.fc1 = nn.Linear(hiddem_dim, 2)\n",
    "    \n",
    "    def forward(self, x):\n",
    "        #x = x.unsqueeze(1)\n",
    "        x = self.l1(x)\n",
    "        x = self.fc1(x)\n",
    "        return x'''"
   ]
  },
  {
   "cell_type": "code",
   "execution_count": 7,
   "id": "e93d8018",
   "metadata": {},
   "outputs": [
    {
     "name": "stdout",
     "output_type": "stream",
     "text": [
      "(32, 4, 16)\n"
     ]
    }
   ],
   "source": [
    "test_vector = tf.random.uniform(shape=(32, 4), dtype=tf.float32)\n",
    "xti = ttv.Time2Vec(16, \"sin\")(test_vector)\n",
    "# Shape = (32, 4, 16)! 16 dimensional representation for each t-dimension\n",
    "print(xti.shape)"
   ]
  },
  {
   "cell_type": "code",
   "execution_count": 8,
   "id": "03613d49",
   "metadata": {},
   "outputs": [
    {
     "data": {
      "text/plain": [
       "<tf.Tensor: shape=(32, 4), dtype=float32, numpy=\n",
       "array([[0.8029165 , 0.07567239, 0.08392155, 0.20417178],\n",
       "       [0.54081905, 0.2758013 , 0.28376806, 0.38022268],\n",
       "       [0.59903204, 0.58121026, 0.4966402 , 0.4807514 ],\n",
       "       [0.50960004, 0.7604058 , 0.77674115, 0.01943135],\n",
       "       [0.47783077, 0.2711748 , 0.70218563, 0.0268898 ],\n",
       "       [0.19446242, 0.7123314 , 0.1654613 , 0.51701295],\n",
       "       [0.07896531, 0.24852848, 0.7533852 , 0.34335077],\n",
       "       [0.41673267, 0.22019565, 0.60618734, 0.21953952],\n",
       "       [0.11843455, 0.05637491, 0.6639073 , 0.5294523 ],\n",
       "       [0.27269185, 0.26160204, 0.29500937, 0.48894453],\n",
       "       [0.7011843 , 0.06099176, 0.52968526, 0.23748434],\n",
       "       [0.77117145, 0.6309719 , 0.43595016, 0.48153484],\n",
       "       [0.43068707, 0.34121048, 0.48539925, 0.7691499 ],\n",
       "       [0.50233257, 0.34971976, 0.65035784, 0.48593938],\n",
       "       [0.3721112 , 0.9307189 , 0.20821953, 0.49814963],\n",
       "       [0.17300451, 0.59673035, 0.57844913, 0.6492163 ],\n",
       "       [0.98796   , 0.18975687, 0.669256  , 0.03615832],\n",
       "       [0.58771205, 0.6654401 , 0.6486646 , 0.3609774 ],\n",
       "       [0.44603574, 0.24759841, 0.11345017, 0.49307692],\n",
       "       [0.00578117, 0.19526494, 0.9028678 , 0.6390712 ],\n",
       "       [0.12465417, 0.29290104, 0.43860102, 0.11893094],\n",
       "       [0.6273675 , 0.34460974, 0.6939775 , 0.11194873],\n",
       "       [0.8005929 , 0.7514335 , 0.6132562 , 0.60437775],\n",
       "       [0.6420927 , 0.7308502 , 0.5374279 , 0.05043852],\n",
       "       [0.39684808, 0.28661692, 0.92313933, 0.06115544],\n",
       "       [0.9047725 , 0.46620667, 0.81819546, 0.40392756],\n",
       "       [0.8289975 , 0.18940377, 0.56110907, 0.8787035 ],\n",
       "       [0.20574284, 0.22921884, 0.4699583 , 0.0314256 ],\n",
       "       [0.5336002 , 0.21658146, 0.7957535 , 0.4944178 ],\n",
       "       [0.624346  , 0.6016871 , 0.98061764, 0.3718623 ],\n",
       "       [0.02960074, 0.6524323 , 0.6391456 , 0.54241323],\n",
       "       [0.8042829 , 0.9442544 , 0.8011111 , 0.13403928]], dtype=float32)>"
      ]
     },
     "execution_count": 8,
     "metadata": {},
     "output_type": "execute_result"
    }
   ],
   "source": [
    "test_vector"
   ]
  },
  {
   "cell_type": "code",
   "execution_count": 11,
   "id": "8f8f3a5b",
   "metadata": {},
   "outputs": [
    {
     "data": {
      "text/plain": [
       "<tf.Tensor: shape=(32, 4, 16), dtype=float32, numpy=\n",
       "array([[[ 0.05255377,  0.04294104,  0.05236697, ..., -0.06022957,\n",
       "         -0.00173638, -0.03602551],\n",
       "        [ 0.0075463 , -0.04024414,  0.02599366, ...,  0.01983752,\n",
       "          0.03720756,  0.04223796],\n",
       "        [-0.00255047, -0.04949012,  0.0131323 , ..., -0.00031681,\n",
       "         -0.0411504 , -0.04703008],\n",
       "        [-0.02544541, -0.02017859,  0.00395241, ..., -0.00074187,\n",
       "          0.02694497,  0.03881849]],\n",
       "\n",
       "       [[ 0.05062369,  0.04178295,  0.04522225, ..., -0.04803665,\n",
       "         -0.01121211, -0.03749026],\n",
       "        [ 0.01248305, -0.04388963,  0.02099696, ...,  0.0297489 ,\n",
       "          0.03707449,  0.03707545],\n",
       "        [ 0.004828  , -0.05353351,  0.01518833, ..., -0.0058812 ,\n",
       "         -0.04426405, -0.0544902 ],\n",
       "        [-0.03104656, -0.02273286,  0.00855813, ..., -0.00233069,\n",
       "          0.02899706,  0.03274911]],\n",
       "\n",
       "       [[ 0.05105237,  0.04204017,  0.04680933, ..., -0.05074543,\n",
       "         -0.00910756, -0.03716494],\n",
       "        [ 0.02001684, -0.04945174,  0.01337072, ...,  0.04486829,\n",
       "          0.03687142,  0.02919529],\n",
       "        [ 0.01268738, -0.05783947,  0.01737829, ..., -0.01180807,\n",
       "         -0.04758017, -0.0624332 ],\n",
       "        [-0.03424494, -0.02419134,  0.01118802, ..., -0.00323794,\n",
       "          0.0301688 ,  0.02928281]],\n",
       "\n",
       "       ...,\n",
       "\n",
       "       [[ 0.05123878,  0.04215202,  0.04749944, ..., -0.05192324,\n",
       "         -0.00819239, -0.03702347],\n",
       "        [ 0.02052195, -0.04982461,  0.01285936, ...,  0.04588168,\n",
       "          0.0368578 ,  0.02866687],\n",
       "        [ 0.03055615, -0.06762521,  0.02235698, ..., -0.02528127,\n",
       "         -0.05511755, -0.08047659],\n",
       "        [-0.03078057, -0.02261156,  0.00833942, ..., -0.00225524,\n",
       "          0.02889961,  0.03303736]],\n",
       "\n",
       "       [[ 0.04685908,  0.03952394,  0.03128021, ..., -0.02423552,\n",
       "         -0.02969075, -0.04034699],\n",
       "        [ 0.02177373, -0.05074862,  0.01159213, ...,  0.04839282,\n",
       "          0.03682406,  0.02735733],\n",
       "        [ 0.01794877, -0.06072147,  0.0188443 , ..., -0.01577554,\n",
       "         -0.04979983, -0.06774841],\n",
       "        [-0.03620674, -0.02508591,  0.01280109, ..., -0.00379442,\n",
       "          0.03088749,  0.02715649]],\n",
       "\n",
       "       [[ 0.05256383,  0.04294708,  0.05240421, ..., -0.06029312,\n",
       "         -0.00168698, -0.03601788],\n",
       "        [ 0.02897235, -0.05606148,  0.00430432, ...,  0.0628273 ,\n",
       "          0.03663003,  0.0198257 ],\n",
       "        [ 0.02392865, -0.0639964 ,  0.02051045, ..., -0.02028449,\n",
       "         -0.05232229, -0.07378708],\n",
       "        [-0.0232141 , -0.01916102,  0.00211762, ..., -0.00010894,\n",
       "          0.02612745,  0.04123594]]], dtype=float32)>"
      ]
     },
     "execution_count": 11,
     "metadata": {},
     "output_type": "execute_result"
    }
   ],
   "source": [
    "xti"
   ]
  },
  {
   "cell_type": "code",
   "execution_count": 9,
   "id": "5f706f81",
   "metadata": {},
   "outputs": [],
   "source": [
    "xti2 = myTTV(test_vector)"
   ]
  },
  {
   "cell_type": "code",
   "execution_count": 10,
   "id": "6989673b",
   "metadata": {},
   "outputs": [
    {
     "data": {
      "text/plain": [
       "<tf.Tensor: shape=(32, 4, 2), dtype=float32, numpy=\n",
       "array([[[-0.00279788,  0.04050527],\n",
       "        [-0.05196204,  0.04205996],\n",
       "        [ 0.02150519,  0.01546386],\n",
       "        [ 0.00214242, -0.05530481]],\n",
       "\n",
       "       [[-0.01243108,  0.03871135],\n",
       "        [-0.0614237 ,  0.03357279],\n",
       "        [ 0.03120317,  0.00558219],\n",
       "        [ 0.0040346 , -0.06346563]],\n",
       "\n",
       "       [[-0.0102915 ,  0.0391098 ],\n",
       "        [-0.07586277,  0.0206164 ],\n",
       "        [ 0.04153325, -0.00494412],\n",
       "        [ 0.00511508, -0.06812376]],\n",
       "\n",
       "       [[-0.01357851,  0.03849766],\n",
       "        [-0.08433475,  0.01301262],\n",
       "        [ 0.05512575, -0.01879381],\n",
       "        [ 0.00015683, -0.04673722]],\n",
       "\n",
       "       [[-0.01474616,  0.03828021],\n",
       "        [-0.06120497,  0.03376903],\n",
       "        [ 0.05150778, -0.01510763],\n",
       "        [ 0.000237  , -0.04708319]],\n",
       "\n",
       "       [[-0.02516116,  0.03634053],\n",
       "        [-0.08206189,  0.01505265],\n",
       "        [ 0.02546208,  0.01143215],\n",
       "        [ 0.00550482, -0.06980363]],\n",
       "\n",
       "       [[-0.02940617,  0.0355499 ],\n",
       "        [-0.0601343 ,  0.03472955],\n",
       "        [ 0.05399235, -0.01763907],\n",
       "        [ 0.00363831, -0.06175677]],\n",
       "\n",
       "       [[-0.01699178,  0.037862  ],\n",
       "        [-0.05879479,  0.03593121],\n",
       "        [ 0.04684926, -0.01036098],\n",
       "        [ 0.00230759, -0.05601734]],\n",
       "\n",
       "       [[-0.02795551,  0.03582009],\n",
       "        [-0.0510497 ,  0.04287818],\n",
       "        [ 0.04965024, -0.01321498],\n",
       "        [ 0.00563852, -0.07037985]],\n",
       "\n",
       "       [[-0.02228589,  0.03687603],\n",
       "        [-0.06075239,  0.03417505],\n",
       "        [ 0.03174868,  0.00502632],\n",
       "        [ 0.00520314, -0.06850334]],\n",
       "\n",
       "       [[-0.00653697,  0.03980898],\n",
       "        [-0.05126797,  0.04268243],\n",
       "        [ 0.04313683, -0.00657815],\n",
       "        [ 0.00250046, -0.05684931]],\n",
       "\n",
       "       [[-0.00396464,  0.040288  ],\n",
       "        [-0.07821539,  0.01850497],\n",
       "        [ 0.03858813, -0.00194307],\n",
       "        [ 0.0051235 , -0.06816006]],\n",
       "\n",
       "       [[-0.0164789 ,  0.03795752],\n",
       "        [-0.0645161 ,  0.03079833],\n",
       "        [ 0.04098776, -0.00438827],\n",
       "        [ 0.00821478, -0.08147849]],\n",
       "\n",
       "       [[-0.01384562,  0.03844792],\n",
       "        [-0.06491841,  0.03043738],\n",
       "        [ 0.04899273, -0.01254503],\n",
       "        [ 0.00517084, -0.06836411]],\n",
       "\n",
       "       [[-0.01863181,  0.03755657],\n",
       "        [-0.09238678,  0.00578504],\n",
       "        [ 0.02753701,  0.0093179 ],\n",
       "        [ 0.00530208, -0.06892978]],\n",
       "\n",
       "       [[-0.02594983,  0.03619364],\n",
       "        [-0.07659653,  0.01995788],\n",
       "        [ 0.0455032 , -0.00898941],\n",
       "        [ 0.00692574, -0.07592642]],\n",
       "\n",
       "       [[ 0.00400326,  0.04177172],\n",
       "        [-0.05735571,  0.03722214],\n",
       "        [ 0.0499098 , -0.01347945],\n",
       "        [ 0.00033662, -0.04751311]],\n",
       "\n",
       "       [[-0.01070756,  0.03903232],\n",
       "        [-0.07984497,  0.01704241],\n",
       "        [ 0.04891056, -0.01246131],\n",
       "        [ 0.00382776, -0.06257372]],\n",
       "\n",
       "       [[-0.01591477,  0.03806257],\n",
       "        [-0.06009033,  0.034769  ],\n",
       "        [ 0.02293813,  0.01400385],\n",
       "        [ 0.00524756, -0.06869478]],\n",
       "\n",
       "       [[-0.032096  ,  0.03504891],\n",
       "        [-0.05761612,  0.03698855],\n",
       "        [ 0.06124631, -0.02502917],\n",
       "        [ 0.0068167 , -0.07545666]],\n",
       "\n",
       "       [[-0.02772691,  0.03586266],\n",
       "        [-0.06223214,  0.0328475 ],\n",
       "        [ 0.03871677, -0.00207415],\n",
       "        [ 0.00122625, -0.05135212]],\n",
       "\n",
       "       [[-0.00925005,  0.03930374],\n",
       "        [-0.06467681,  0.03065414],\n",
       "        [ 0.05110946, -0.01470179],\n",
       "        [ 0.00115121, -0.05102831]],\n",
       "\n",
       "       [[-0.00288328,  0.04048937],\n",
       "        [-0.08391055,  0.01339336],\n",
       "        [ 0.04719229, -0.01071051],\n",
       "        [ 0.00644381, -0.0738501 ]],\n",
       "\n",
       "       [[-0.00870884,  0.03940453],\n",
       "        [-0.08293742,  0.01426681],\n",
       "        [ 0.04351256, -0.006961  ],\n",
       "        [ 0.0004901 , -0.04817548]],\n",
       "\n",
       "       [[-0.01772262,  0.03772589],\n",
       "        [-0.06193504,  0.03311405],\n",
       "        [ 0.06223004, -0.02603125],\n",
       "        [ 0.00060528, -0.04867256]],\n",
       "\n",
       "       [[ 0.00094577,  0.04120239],\n",
       "        [-0.07042565,  0.02549573],\n",
       "        [ 0.05713741, -0.02084329],\n",
       "        [ 0.00428938, -0.06456415]],\n",
       "\n",
       "       [[-0.00183929,  0.04068378],\n",
       "        [-0.05733901,  0.03723712],\n",
       "        [ 0.04466174, -0.00813199],\n",
       "        [ 0.00939226, -0.08654783]],\n",
       "\n",
       "       [[-0.02474656,  0.03641775],\n",
       "        [-0.05922138,  0.03554852],\n",
       "        [ 0.04023845, -0.00362473],\n",
       "        [ 0.00028575, -0.04729358]],\n",
       "\n",
       "       [[-0.0126964 ,  0.03866194],\n",
       "        [-0.05862392,  0.0360845 ],\n",
       "        [ 0.05604836, -0.01973378],\n",
       "        [ 0.00526197, -0.06875689]],\n",
       "\n",
       "       [[-0.00936111,  0.03928306],\n",
       "        [-0.07683087,  0.01974756],\n",
       "        [ 0.06501929, -0.02887243],\n",
       "        [ 0.00394475, -0.06307818]],\n",
       "\n",
       "       [[-0.03122053,  0.03521197],\n",
       "        [-0.07923   ,  0.01759436],\n",
       "        [ 0.04844863, -0.01199064],\n",
       "        [ 0.00577782, -0.07098021]],\n",
       "\n",
       "       [[-0.00274766,  0.04051463],\n",
       "        [-0.09302671,  0.00521062],\n",
       "        [ 0.05630835, -0.01999865],\n",
       "        [ 0.00138864, -0.05205277]]], dtype=float32)>"
      ]
     },
     "execution_count": 10,
     "metadata": {},
     "output_type": "execute_result"
    }
   ],
   "source": [
    "xti2"
   ]
  },
  {
   "cell_type": "code",
   "execution_count": null,
   "id": "d6c9c7a1",
   "metadata": {},
   "outputs": [],
   "source": []
  }
 ],
 "metadata": {
  "kernelspec": {
   "display_name": "Python 3 (ipykernel)",
   "language": "python",
   "name": "python3"
  },
  "language_info": {
   "codemirror_mode": {
    "name": "ipython",
    "version": 3
   },
   "file_extension": ".py",
   "mimetype": "text/x-python",
   "name": "python",
   "nbconvert_exporter": "python",
   "pygments_lexer": "ipython3",
   "version": "3.8.8"
  }
 },
 "nbformat": 4,
 "nbformat_minor": 5
}
