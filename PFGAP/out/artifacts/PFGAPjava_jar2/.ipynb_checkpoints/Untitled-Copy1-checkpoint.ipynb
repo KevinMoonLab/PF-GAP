{
 "cells": [
  {
   "cell_type": "code",
   "execution_count": 1,
   "id": "150240fc",
   "metadata": {},
   "outputs": [],
   "source": [
    "import proxUtil\n",
    "import matplotlib.pyplot as plt\n",
    "import numpy as np\n",
    "from sklearn.manifold import MDS"
   ]
  },
  {
   "cell_type": "code",
   "execution_count": 2,
   "id": "7a2d9d3e",
   "metadata": {},
   "outputs": [
    {
     "name": "stdout",
     "output_type": "stream",
     "text": [
      "reading file [GunPoint_TEST.tsv]:finished in 0:0:0.024\n",
      "\n",
      "**\n"
     ]
    }
   ],
   "source": [
    "proxUtil.evalPF(\"GunPoint_TEST.tsv\", modelname=\"Ben\")"
   ]
  },
  {
   "cell_type": "code",
   "execution_count": 3,
   "id": "4001e0da",
   "metadata": {},
   "outputs": [],
   "source": [
    "f0 = open(\"Predictions_saved.txt\")\n",
    "f1 = f0.read()\n",
    "preds = eval(\"np.array(\" + f1 + \")\")\n",
    "f0.close()"
   ]
  },
  {
   "cell_type": "code",
   "execution_count": 4,
   "id": "bbbb4278",
   "metadata": {},
   "outputs": [
    {
     "data": {
      "text/plain": [
       "(150,)"
      ]
     },
     "execution_count": 4,
     "metadata": {},
     "output_type": "execute_result"
    }
   ],
   "source": [
    "preds.shape"
   ]
  },
  {
   "cell_type": "code",
   "execution_count": null,
   "id": "a209c17f",
   "metadata": {},
   "outputs": [],
   "source": []
  }
 ],
 "metadata": {
  "kernelspec": {
   "display_name": "Python 3 (ipykernel)",
   "language": "python",
   "name": "python3"
  },
  "language_info": {
   "codemirror_mode": {
    "name": "ipython",
    "version": 3
   },
   "file_extension": ".py",
   "mimetype": "text/x-python",
   "name": "python",
   "nbconvert_exporter": "python",
   "pygments_lexer": "ipython3",
   "version": "3.8.8"
  }
 },
 "nbformat": 4,
 "nbformat_minor": 5
}
