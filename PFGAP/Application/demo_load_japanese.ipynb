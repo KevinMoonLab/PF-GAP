{
 "cells": [
  {
   "cell_type": "code",
   "execution_count": 1,
   "id": "150240fc",
   "metadata": {},
   "outputs": [],
   "source": [
    "import PF_wrapper as PF\n",
    "import numpy as np\n",
    "import pandas as pd\n",
    "\n",
    "from aeon.datasets import load_japanese_vowels"
   ]
  },
  {
   "cell_type": "code",
   "execution_count": 2,
   "id": "fce7da21-968e-4535-b6a0-b8128ed87e8a",
   "metadata": {},
   "outputs": [],
   "source": [
    "X3, y3 = load_japanese_vowels(split=\"TRAIN\")\n",
    "X3t, y3t = load_japanese_vowels(split=\"TEST\")"
   ]
  },
  {
   "cell_type": "code",
   "execution_count": 3,
   "id": "d48629cd-1e91-45fd-bb46-a8c83bda99a5",
   "metadata": {},
   "outputs": [],
   "source": [
    "def aeonToFile(X3, filename, entry_separator = ',', array_separator = ':'):\n",
    "\n",
    "    with open(filename, 'w') as f:\n",
    "        # Loop over the first dimension (the \"planes\")\n",
    "        for plane in X3:\n",
    "            # Loop over the second dimension (the \"rows\")\n",
    "            for i, row in enumerate(plane):\n",
    "                # Convert the row to a string, joining with the item separator\n",
    "                row_str = entry_separator.join(str(item) for item in row)\n",
    "                \n",
    "                # Write the row string to the file\n",
    "                f.write(row_str)\n",
    "                \n",
    "                # Add the sub-array separator if not the last row\n",
    "                if i < len(plane) - 1:\n",
    "                    f.write(array_separator)\n",
    "            \n",
    "            # Add a newline after each plane\n",
    "            f.write('\\n')"
   ]
  },
  {
   "cell_type": "code",
   "execution_count": 4,
   "id": "43eae826-559b-4ed2-be3b-ccb4be0a75d5",
   "metadata": {},
   "outputs": [],
   "source": [
    "aeonToFile(X3, 'Data/ThreeDdata.txt')\n",
    "aeonToFile(X3t, 'Data/ThreeDdata_test.txt')"
   ]
  },
  {
   "cell_type": "code",
   "execution_count": 5,
   "id": "32e7bbc9-3dc7-4025-8e09-c92f0c6143a3",
   "metadata": {},
   "outputs": [],
   "source": [
    "y3df = pd.DataFrame(y3)\n",
    "y3df.to_csv(\"Data/ThreeDlabels.csv\", index=False, header=None)\n",
    "\n",
    "y3tdf = pd.DataFrame(y3t)\n",
    "y3tdf.to_csv(\"Data/ThreeDlabels_test.csv\", index=False, header=None)"
   ]
  },
  {
   "cell_type": "code",
   "execution_count": 6,
   "id": "c8cbf2a1-71d8-4dcb-b8ff-8ed351406c2d",
   "metadata": {},
   "outputs": [],
   "source": [
    "dir1 = \"training_output\"\n",
    "dir2 = \"training_predictions\""
   ]
  },
  {
   "cell_type": "code",
   "execution_count": 7,
   "id": "51db5e40",
   "metadata": {},
   "outputs": [
    {
     "name": "stdout",
     "output_type": "stream",
     "text": [
      "\n",
      "0:3mb\n",
      "finished in 0:0:0.034\n",
      "\n",
      "0:16mb\n",
      "finished in 0:0:0.020\n",
      "\n",
      "-----------------Repetition No: 1 (ThreeDdata.txt)   -----------------\n",
      "Using: 3 MB, Free: 17 MB, Allocated Pool: 20 MB, Max Available: 1024 MB\n",
      "core.ProximityForestResult@2f4d3709\n",
      "5.1.6.3.7.4.0.2.9.10.12.11.13.8.15.14.16.17.18.19.21.20.22.23.24.26.25.28.27.30.29.32.31.33.34.35.36.38.37.41.40.39.42.43.44.46.45.48.47.49.51.50.52.55.53.54.56.57.59.58.60.62.61.64.63.65.66.67.68.69.71.70.72.74.73.75.76.77.81.78.80.82.83.79.84.85.86.88.87.91.89.90.92.94.93.95.99.97.96.98.\n",
      "Using: 47 MB, Free: 113 MB, Allocated Pool: 160 MB, Max Available: 1024 MB\n",
      "****\n",
      "Training Time: 2775.425491ms (0:0:2.775)\n",
      "Prediction Time: 1222.171999ms (0:0:1.222)\n",
      "Correct(TP+TN): 361 vs Incorrect(FP+FN): 9\n",
      "Accuracy: 0.9756756756756757\n",
      "Error Rate: 0.024324324324324298\n",
      "REPEAT:1 ,ThreeDdata.txt, 0.9756756756756757, 2775.425491, 1222.171999, 4.77\n",
      "Computing Training Proximities...\n",
      "Computing Training Outlier Scores...\n",
      "Computing Test/Train Proximities...\n",
      "Done Computing Test/Train Proximities. Computation time: 2400.0ms\n"
     ]
    }
   ],
   "source": [
    "# First, we train a PF model and give it the name 'Spartacus'\n",
    "\n",
    "PF.train(\"Data/ThreeDdata.txt\", test_file=\"Data/ThreeDdata_test.txt\", distances=['dtw_i', 'dtw_d'], \n",
    "                  train_labels=\"Data/ThreeDlabels.csv\", test_labels=\"Data/ThreeDlabels_test.csv\",\n",
    "                  return_proximities=True, output_directory=dir1, array_separator=\":\", entry_separator=\",\", \n",
    "                  model_name=\"Spartacus\", data_dimension=2, return_training_outlier_scores=True,\n",
    "           num_trees=100, parallel_train=True, r=5, parallel_prox=True)"
   ]
  },
  {
   "cell_type": "code",
   "execution_count": 8,
   "id": "1a9f0a77-3260-45af-b597-29ce638e6751",
   "metadata": {},
   "outputs": [],
   "source": [
    "# Here are the predictions on the provided test set.\n",
    "f0 = open(dir1 + \"/Validation_Predictions.txt\")\n",
    "f1 = f0.read()\n",
    "preds = eval(\"np.array(\" + f1 + \")\")\n",
    "f0.close()"
   ]
  },
  {
   "cell_type": "code",
   "execution_count": 9,
   "id": "3ff64067-5bf5-4f68-a876-1a3706e03b29",
   "metadata": {},
   "outputs": [
    {
     "name": "stdout",
     "output_type": "stream",
     "text": [
      "\n",
      "0:3mb\n",
      "finished in 0:0:0.030\n",
      "\n",
      "***\n",
      "\n",
      "0:3mb\n",
      "finished in 0:0:0.043\n",
      "\n",
      "****\n"
     ]
    }
   ],
   "source": [
    "# We can now read a model by name and obtain predictions on another dataset. This creates:\n",
    "    #1. Predictions_saved.txt: the predicted labels of the read-in model.\n",
    "# Let's get predictions on the training set to illustrate.\n",
    "PF.predict(dir1 + \"/Spartacus\", \"Data/ThreeDdata.txt\", test_labels=\"Data/ThreeDlabels.csv\",\n",
    "           output_directory=dir2, entry_separator=\",\", array_separator=\":\", data_dimension=2)\n",
    "# Now let's get predictions on the test set.\n",
    "PF.predict(dir1 + \"/Spartacus\", \"Data/ThreeDdata_test.txt\", test_labels=\"Data/ThreeDlabels_test.csv\",\n",
    "           entry_separator=\",\", array_separator=\":\", data_dimension=2)"
   ]
  },
  {
   "cell_type": "code",
   "execution_count": 10,
   "id": "820f80af-3361-4034-a35c-41008cba6336",
   "metadata": {},
   "outputs": [],
   "source": [
    "# Here are the predictions (of the saved model) on the training set.\n",
    "f0 = open(dir2 + \"/Predictions_saved.txt\")\n",
    "f1 = f0.read()\n",
    "train_preds_saved = eval(\"np.array(\" + f1 + \")\")\n",
    "f0.close()"
   ]
  },
  {
   "cell_type": "code",
   "execution_count": 11,
   "id": "999eb58a",
   "metadata": {},
   "outputs": [],
   "source": [
    "# Here are the predictions (of the saved model) on the test set.\n",
    "f0 = open(\"Predictions_saved.txt\")\n",
    "f1 = f0.read()\n",
    "preds_saved = eval(\"np.array(\" + f1 + \")\")\n",
    "f0.close()"
   ]
  },
  {
   "cell_type": "code",
   "execution_count": 12,
   "id": "3a0e9426-197e-4139-ab65-f75166562ca7",
   "metadata": {},
   "outputs": [
    {
     "name": "stdout",
     "output_type": "stream",
     "text": [
      "270\n",
      "370\n",
      "370\n"
     ]
    }
   ],
   "source": [
    "print(len(train_preds_saved))\n",
    "print(len(preds_saved))\n",
    "print(len(preds))"
   ]
  },
  {
   "cell_type": "code",
   "execution_count": 13,
   "id": "1b9bd53e-b9e8-4394-b1dc-971ade0a80c6",
   "metadata": {},
   "outputs": [
    {
     "data": {
      "text/plain": [
       "array([0])"
      ]
     },
     "execution_count": 13,
     "metadata": {},
     "output_type": "execute_result"
    }
   ],
   "source": [
    "# Just checking: are the outputs of the saved model equal to the original predictions?\n",
    "np.unique([preds[i]-preds_saved[i] for i in range(len(preds))])"
   ]
  },
  {
   "cell_type": "code",
   "execution_count": 14,
   "id": "70ed9597",
   "metadata": {},
   "outputs": [],
   "source": [
    "# the following can be used to obtain the training proximities\n",
    "p=PF.getArray(dir1 + \"/TrainingProximities.txt\")"
   ]
  },
  {
   "cell_type": "code",
   "execution_count": 15,
   "id": "31fd6b7f-114b-4977-aed0-ef8cef53ab57",
   "metadata": {},
   "outputs": [
    {
     "data": {
      "text/plain": [
       "(270, 270)"
      ]
     },
     "execution_count": 15,
     "metadata": {},
     "output_type": "execute_result"
    }
   ],
   "source": [
    "p.shape"
   ]
  },
  {
   "cell_type": "code",
   "execution_count": 16,
   "id": "5d024c80-8231-403e-8362-bf33ef19852b",
   "metadata": {},
   "outputs": [],
   "source": [
    "# We can also access the test/train proximities\n",
    "pt=PF.getArray(dir1 + \"/TestTrainProximities.txt\")"
   ]
  },
  {
   "cell_type": "code",
   "execution_count": 17,
   "id": "ade5daa2-4686-4beb-bc15-a9be7e2cba28",
   "metadata": {},
   "outputs": [
    {
     "data": {
      "text/plain": [
       "(370, 270)"
      ]
     },
     "execution_count": 17,
     "metadata": {},
     "output_type": "execute_result"
    }
   ],
   "source": [
    "pt.shape"
   ]
  },
  {
   "cell_type": "code",
   "execution_count": 18,
   "id": "e40a2465",
   "metadata": {},
   "outputs": [],
   "source": [
    "# The raw proximities are not symmetric. But in some applications, one desires symmetry.\n",
    "p = 0.5*(p + p.transpose())"
   ]
  },
  {
   "cell_type": "code",
   "execution_count": 19,
   "id": "013c1f76",
   "metadata": {},
   "outputs": [
    {
     "data": {
      "text/plain": [
       "(270,)"
      ]
     },
     "execution_count": 19,
     "metadata": {},
     "output_type": "execute_result"
    }
   ],
   "source": [
    "# The following can be used to obtain outlier scores for the training set.\n",
    "# Note that these are intra-class outlier scores.\n",
    "outlier_scores = PF.getArray(dir1 + \"/outlier_scores.txt\")\n",
    "outlier_scores.shape"
   ]
  },
  {
   "cell_type": "code",
   "execution_count": null,
   "id": "1335581a-0499-4d35-9721-8d1a631556b8",
   "metadata": {},
   "outputs": [],
   "source": []
  }
 ],
 "metadata": {
  "kernelspec": {
   "display_name": "Python 3 (ipykernel)",
   "language": "python",
   "name": "python3"
  },
  "language_info": {
   "codemirror_mode": {
    "name": "ipython",
    "version": 3
   },
   "file_extension": ".py",
   "mimetype": "text/x-python",
   "name": "python",
   "nbconvert_exporter": "python",
   "pygments_lexer": "ipython3",
   "version": "3.13.7"
  }
 },
 "nbformat": 4,
 "nbformat_minor": 5
}
