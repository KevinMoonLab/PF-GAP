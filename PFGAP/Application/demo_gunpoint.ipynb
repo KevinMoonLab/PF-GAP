{
 "cells": [
  {
   "cell_type": "code",
   "execution_count": 1,
   "id": "150240fc",
   "metadata": {},
   "outputs": [],
   "source": [
    "import PF_wrapper as PF\n",
    "import matplotlib.pyplot as plt\n",
    "import numpy as np\n",
    "import pandas as pd\n",
    "from sklearn.manifold import MDS"
   ]
  },
  {
   "cell_type": "code",
   "execution_count": 2,
   "id": "c8cbf2a1-71d8-4dcb-b8ff-8ed351406c2d",
   "metadata": {},
   "outputs": [],
   "source": [
    "dir1 = \"training_output\"\n",
    "dir2 = \"training_predictions\""
   ]
  },
  {
   "cell_type": "code",
   "execution_count": 3,
   "id": "51db5e40",
   "metadata": {},
   "outputs": [
    {
     "name": "stdout",
     "output_type": "stream",
     "text": [
      "\n",
      "0:3mb\n",
      "finished in 0:0:0.018\n",
      "\n",
      "-----------------Repetition No: 1 (GunPoint_TRAIN.tsv)   -----------------\n",
      "Using: 3 MB, Free: 21 MB, Allocated Pool: 24 MB, Max Available: 1024 MB\n",
      "core.ProximityForestResult@7291c18f\n",
      "0.1.2.3.4.5.6.7.8.9.10.\n",
      "Using: 22 MB, Free: 114 MB, Allocated Pool: 136 MB, Max Available: 1024 MB\n",
      "Computing Training Proximities...\n",
      "Done Computing Training Proximities. Computation time: 11.0ms\n"
     ]
    }
   ],
   "source": [
    "# First, we train a PF model and give it the name 'Spartacus'\n",
    "\n",
    "PF.train(\"Data/GunPoint_TRAIN.tsv\", model_name=\"Spartacus\", \n",
    "                  return_proximities=True, output_directory=dir1, entry_separator=\"\\t\")"
   ]
  },
  {
   "cell_type": "code",
   "execution_count": 4,
   "id": "3ff64067-5bf5-4f68-a876-1a3706e03b29",
   "metadata": {},
   "outputs": [
    {
     "name": "stdout",
     "output_type": "stream",
     "text": [
      "\n",
      "0:3mb\n",
      "finished in 0:0:0.022\n",
      "\n",
      "*\n",
      "\n",
      "0:3mb\n",
      "finished in 0:0:0.033\n",
      "\n",
      "**\n"
     ]
    }
   ],
   "source": [
    "# We can now read a model by name and obtain predictions on another dataset. This creates:\n",
    "    #1. Predictions_saved.txt: the predicted labels of the read-in model.\n",
    "# Let's get predictions on the training set to illustrate.\n",
    "PF.predict(dir1 + \"/Spartacus\", \"Data/GunPoint_TRAIN.tsv\", entry_separator=\"\\t\", output_directory=dir2)\n",
    "# Now let's get predictions on the test set.\n",
    "PF.predict(dir1 + \"/Spartacus\", \"Data/GunPoint_TEST.tsv\", entry_separator=\"\\t\")"
   ]
  },
  {
   "cell_type": "code",
   "execution_count": 5,
   "id": "820f80af-3361-4034-a35c-41008cba6336",
   "metadata": {},
   "outputs": [],
   "source": [
    "# Here are the predictions (of the saved model) on the training set.\n",
    "f0 = open(dir2 + \"/Predictions_saved.txt\")\n",
    "f1 = f0.read()\n",
    "train_preds_saved = eval(\"np.array(\" + f1 + \")\")\n",
    "f0.close()"
   ]
  },
  {
   "cell_type": "code",
   "execution_count": 6,
   "id": "999eb58a",
   "metadata": {},
   "outputs": [],
   "source": [
    "# Here are the predictions (of the saved model) on the test set.\n",
    "f0 = open(\"Predictions_saved.txt\")\n",
    "f1 = f0.read()\n",
    "preds_saved = eval(\"np.array(\" + f1 + \")\")\n",
    "f0.close()"
   ]
  },
  {
   "cell_type": "code",
   "execution_count": 7,
   "id": "3a0e9426-197e-4139-ab65-f75166562ca7",
   "metadata": {},
   "outputs": [
    {
     "name": "stdout",
     "output_type": "stream",
     "text": [
      "50\n",
      "150\n"
     ]
    }
   ],
   "source": [
    "print(len(train_preds_saved))\n",
    "print(len(preds_saved))"
   ]
  },
  {
   "cell_type": "code",
   "execution_count": 8,
   "id": "70ed9597",
   "metadata": {},
   "outputs": [
    {
     "data": {
      "text/plain": [
       "(50, 50)"
      ]
     },
     "execution_count": 8,
     "metadata": {},
     "output_type": "execute_result"
    }
   ],
   "source": [
    "# the following can be used to obtain the proximities (p) and true training labels (y)\n",
    "p=PF.getArray(dir1 + \"/TrainingProximities.txt\")\n",
    "p.shape"
   ]
  },
  {
   "cell_type": "code",
   "execution_count": 9,
   "id": "e40a2465",
   "metadata": {},
   "outputs": [],
   "source": [
    "# The raw proximities are not symmetric. But in some applications, one desires symmetry.\n",
    "p = 0.5*(p+p.transpose())"
   ]
  },
  {
   "cell_type": "code",
   "execution_count": 10,
   "id": "cb7ac2b1",
   "metadata": {},
   "outputs": [
    {
     "name": "stderr",
     "output_type": "stream",
     "text": [
      "/home/ben/.local/lib/python3.13/site-packages/sklearn/manifold/_mds.py:677: FutureWarning: The default value of `n_init` will change from 4 to 1 in 1.9.\n",
      "  warnings.warn(\n"
     ]
    }
   ],
   "source": [
    "# The proximities can be used to obtain a vector embedding.\n",
    "# we will prepare a visual, using size to indicate intra-class outlier-ness.\n",
    "embed = MDS(n_components=2, random_state=0, dissimilarity='precomputed')\n",
    "dis = (np.ones(p.shape) - p)**4\n",
    "x_trans = embed.fit_transform(dis)\n",
    "xt = x_trans.transpose()\n",
    "#sizes = [x*100 for x in outlier_scores]"
   ]
  },
  {
   "cell_type": "code",
   "execution_count": 11,
   "id": "3940c799",
   "metadata": {},
   "outputs": [],
   "source": [
    "#plt.scatter(xt[0],xt[1],c=train_preds_saved)\n",
    "#plt.title(\"MDS Embedding of the GunPoint dataset PF Proximities\")\n",
    "#plt.xlabel(\"MDS 1\")\n",
    "#plt.ylabel(\"MDS 2\")\n",
    "#plt.show()"
   ]
  },
  {
   "cell_type": "code",
   "execution_count": 12,
   "id": "ae2b7c60-da60-434b-aa53-31cd6de3abf3",
   "metadata": {},
   "outputs": [],
   "source": [
    "X1 = np.array([x_trans[i] for i in range(x_trans.shape[0]) if train_preds_saved[i]==1]).transpose()\n",
    "X2 = np.array([x_trans[i] for i in range(x_trans.shape[0]) if train_preds_saved[i]==2]).transpose()\n",
    "eX = [X1,X2]\n",
    "\n",
    "#outs1 = np.array([sizes[i] for i in range(x_trans.shape[0]) if train_preds_saved[i]==1]).transpose()\n",
    "#outs2 = np.array([sizes[i] for i in range(x_trans.shape[0]) if train_preds_saved[i]==2]).transpose()\n",
    "#Outs = [outs1,outs2]"
   ]
  },
  {
   "cell_type": "code",
   "execution_count": 13,
   "id": "d6c9c7a1",
   "metadata": {},
   "outputs": [],
   "source": [
    "cmap = plt.cm.Paired\n",
    "#plt.figure(figsize = (15,10))\n",
    "for i in range(1,3):\n",
    "    cmap1 = [i-1 for j in range(eX[i-1].shape[1])]\n",
    "    #if y[np.argmax(sizes)] == i:\n",
    "     #   cmap1[np.argmax(eval(\"outs\" + str(i)))] = 5\n",
    "    #plt.scatter(eX[i-1][0], eX[i-1][1], c=cmap(cmap1), s=Outs[i-1],\n",
    "     #           label=\"Class {:g}\".format(i-1))\n",
    "    plt.scatter(eX[i-1][0], eX[i-1][1], c=cmap(cmap1),\n",
    "                label=\"Class {:g}\".format(i-1))\n",
    "    \n",
    "plt.legend()\n",
    "plt.xlabel('MDS component 1')\n",
    "plt.ylabel('MDS component 2')\n",
    "plt.title('MDS embedding using PFGAP')\n",
    "#plt.savefig(\"Demo_MDS_GunPointTrain.pdf\")\n",
    "#plt.show()\n",
    "plt.close()"
   ]
  },
  {
   "cell_type": "code",
   "execution_count": null,
   "id": "d27022ed-5e14-4517-a919-fc9790b6b2ea",
   "metadata": {},
   "outputs": [],
   "source": []
  }
 ],
 "metadata": {
  "kernelspec": {
   "display_name": "Python 3 (ipykernel)",
   "language": "python",
   "name": "python3"
  },
  "language_info": {
   "codemirror_mode": {
    "name": "ipython",
    "version": 3
   },
   "file_extension": ".py",
   "mimetype": "text/x-python",
   "name": "python",
   "nbconvert_exporter": "python",
   "pygments_lexer": "ipython3",
   "version": "3.13.7"
  }
 },
 "nbformat": 4,
 "nbformat_minor": 5
}
