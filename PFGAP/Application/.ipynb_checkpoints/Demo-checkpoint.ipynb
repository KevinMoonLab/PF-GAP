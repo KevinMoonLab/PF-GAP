{
 "cells": [
  {
   "cell_type": "code",
   "execution_count": 11,
   "id": "150240fc",
   "metadata": {},
   "outputs": [],
   "source": [
    "import proxUtil\n",
    "import matplotlib.pyplot as plt\n",
    "import numpy as np\n",
    "import pandas as pd\n",
    "from sklearn.manifold import MDS\n",
    "\n",
    "from aeon.datasets import load_gunpoint\n",
    "from aeon.datasets import load_japanese_vowels"
   ]
  },
  {
   "cell_type": "code",
   "execution_count": 13,
   "id": "fce7da21-968e-4535-b6a0-b8128ed87e8a",
   "metadata": {},
   "outputs": [],
   "source": [
    "X, y = load_gunpoint(split=\"TRAIN\", return_type='numpy2d')\n",
    "X3, y3 = load_japanese_vowels(split=\"TRAIN\")"
   ]
  },
  {
   "cell_type": "code",
   "execution_count": null,
   "id": "e176c883-e499-4cc0-9557-9b74d3fb59ce",
   "metadata": {},
   "outputs": [],
   "source": [
    "# missing mechanisms here?"
   ]
  },
  {
   "cell_type": "code",
   "execution_count": 16,
   "id": "33d8194c-bc77-48b7-9152-36689eb78d20",
   "metadata": {},
   "outputs": [],
   "source": [
    "Xdf = pd.DataFrame(X)\n",
    "ydf = pd.DataFrame(y)"
   ]
  },
  {
   "cell_type": "code",
   "execution_count": 15,
   "id": "d48629cd-1e91-45fd-bb46-a8c83bda99a5",
   "metadata": {},
   "outputs": [],
   "source": [
    "first_separator = ','  # Separator for items in the innermost array\n",
    "second_separator = ':' # Separator for sub-arrays\n",
    "\n",
    "# 3. Open a file for writing\n",
    "with open('ThreeDdata.txt', 'w') as f:\n",
    "    # Loop over the first dimension (the \"planes\")\n",
    "    for plane in X3:\n",
    "        # Loop over the second dimension (the \"rows\")\n",
    "        for i, row in enumerate(plane):\n",
    "            # Convert the row to a string, joining with the item separator\n",
    "            row_str = first_separator.join(str(item) for item in row)\n",
    "            \n",
    "            # Write the row string to the file\n",
    "            f.write(row_str)\n",
    "            \n",
    "            # Add the sub-array separator if not the last row\n",
    "            if i < len(plane) - 1:\n",
    "                f.write(second_separator)\n",
    "        \n",
    "        # Add a newline after each plane\n",
    "        f.write('\\n')"
   ]
  },
  {
   "cell_type": "code",
   "execution_count": 17,
   "id": "19b7090e-1486-4fae-b19d-71fd2850118f",
   "metadata": {},
   "outputs": [
    {
     "data": {
      "text/plain": [
       "array([[ 1.303905e+00,  1.288280e+00,  1.332021e+00,  1.436550e+00,\n",
       "         1.510069e+00,  1.492324e+00,  1.731416e+00,  1.655716e+00,\n",
       "         1.560145e+00,  1.981364e+00,  1.640630e+00,  1.591455e+00,\n",
       "         1.582411e+00,  1.541301e+00,  1.592347e+00,  1.674087e+00,\n",
       "         1.681482e+00,  1.647909e+00,  1.570202e+00,  1.612420e+00,\n",
       "         1.589158e+00,  1.519606e+00,  1.452399e+00,  1.370862e+00,\n",
       "         1.307289e+00,  1.334578e+00],\n",
       "       [ 6.725600e-02,  1.867200e-02, -5.874400e-02, -2.065650e-01,\n",
       "        -3.088800e-01, -4.138030e-01, -6.157140e-01, -4.897260e-01,\n",
       "        -3.099910e-01, -6.306890e-01, -4.719320e-01, -4.717780e-01,\n",
       "        -5.072250e-01, -5.303760e-01, -5.968310e-01, -6.597170e-01,\n",
       "        -6.143510e-01, -6.586960e-01, -6.657770e-01, -6.069900e-01,\n",
       "        -5.263710e-01, -5.244180e-01, -6.230310e-01, -6.213460e-01,\n",
       "        -6.005730e-01, -5.421570e-01],\n",
       "       [ 5.977200e-01,  6.315790e-01,  6.019280e-01,  6.417750e-01,\n",
       "         6.142970e-01,  5.831790e-01,  6.249050e-01,  3.663890e-01,\n",
       "         1.074690e-01,  2.619750e-01,  9.151600e-02,  1.257820e-01,\n",
       "         2.788580e-01,  3.635220e-01,  3.900100e-01,  3.801700e-01,\n",
       "         3.812380e-01,  5.113630e-01,  4.783560e-01,  4.167740e-01,\n",
       "         4.371240e-01,  4.432970e-01,  5.273930e-01,  6.007710e-01,\n",
       "         6.209790e-01,  5.581040e-01],\n",
       "       [-2.714740e-01, -3.551120e-01, -3.479130e-01, -3.910730e-01,\n",
       "        -2.836390e-01, -1.975190e-01, -2.413470e-01, -1.838510e-01,\n",
       "         1.503400e-02, -4.698200e-02,  6.106300e-02,  4.880900e-02,\n",
       "        -5.803100e-02, -8.740500e-02, -1.274900e-02,  4.882400e-02,\n",
       "         4.396400e-02, -2.978000e-02,  3.514000e-03,  5.061100e-02,\n",
       "        -6.907500e-02,  3.248500e-02,  2.221070e-01,  2.831970e-01,\n",
       "         3.855060e-01,  4.704170e-01],\n",
       "       [-2.368080e-01, -1.192160e-01, -5.346300e-02, -1.036460e-01,\n",
       "        -1.787630e-01, -2.423760e-01, -1.581160e-01, -1.800300e-02,\n",
       "        -4.191000e-02,  7.640300e-02,  1.656140e-01,  2.502470e-01,\n",
       "         2.872800e-01,  2.514010e-01,  1.983390e-01,  2.214040e-01,\n",
       "         2.798830e-01,  3.146030e-01,  2.880000e-01,  2.405400e-01,\n",
       "         2.801040e-01,  3.238360e-01,  2.680610e-01,  2.503330e-01,\n",
       "         2.108330e-01,  2.291240e-01],\n",
       "       [-4.111250e-01, -4.344250e-01, -4.217530e-01, -2.273740e-01,\n",
       "        -2.671680e-01, -2.345100e-01, -1.867600e-01, -2.528190e-01,\n",
       "        -2.174010e-01, -2.576170e-01, -2.126290e-01, -1.884730e-01,\n",
       "        -1.558760e-01, -1.166250e-01, -1.308530e-01, -1.809240e-01,\n",
       "        -1.938160e-01, -1.594300e-01, -1.301580e-01, -8.176000e-02,\n",
       "        -6.222000e-03, -6.980000e-02, -1.202660e-01, -1.807770e-01,\n",
       "        -2.515750e-01, -2.638250e-01],\n",
       "       [-1.482600e-02, -7.803600e-02, -2.847900e-02, -7.001600e-02,\n",
       "        -3.463000e-02, -2.631500e-02, -1.546000e-02,  6.903900e-02,\n",
       "         6.705600e-02, -1.596100e-02, -4.672300e-02, -1.218020e-01,\n",
       "        -1.044520e-01, -4.708000e-02,  3.544900e-02,  2.196700e-02,\n",
       "        -1.282100e-02, -5.718600e-02, -5.607700e-02, -4.721900e-02,\n",
       "        -1.211580e-01, -1.707550e-01, -1.791470e-01, -1.916490e-01,\n",
       "        -2.286470e-01, -2.517540e-01],\n",
       "       [ 1.131750e-01,  1.781210e-01,  1.450730e-01,  1.386110e-01,\n",
       "         1.600950e-01,  1.784860e-01,  9.242000e-02,  1.874000e-02,\n",
       "         9.260000e-03,  1.700100e-02, -3.499800e-02,  1.121000e-03,\n",
       "        -8.545800e-02, -1.649290e-01, -2.099780e-01, -2.357450e-01,\n",
       "        -2.115650e-01, -1.275710e-01, -1.194850e-01, -1.733720e-01,\n",
       "        -3.103100e-01, -3.910980e-01, -3.969880e-01, -3.533580e-01,\n",
       "        -3.053280e-01, -3.311810e-01],\n",
       "       [-5.823000e-02, -1.064300e-01, -1.594880e-01, -1.252290e-01,\n",
       "        -9.874900e-02, -1.221200e-01, -2.037550e-01, -1.800310e-01,\n",
       "        -1.630250e-01, -2.321170e-01, -2.109970e-01, -2.805620e-01,\n",
       "        -3.201380e-01, -3.508660e-01, -3.870180e-01, -3.210560e-01,\n",
       "        -3.025570e-01, -3.808020e-01, -3.599160e-01, -2.696740e-01,\n",
       "        -1.486900e-01, -9.899900e-02, -6.360000e-02, -4.400400e-02,\n",
       "        -1.451900e-02, -7.968000e-03],\n",
       "       [-1.731380e-01, -1.819100e-01, -1.277510e-01, -1.827440e-01,\n",
       "        -2.205310e-01, -2.563850e-01, -1.862000e-01, -1.365800e-01,\n",
       "        -2.295860e-01, -2.170840e-01, -2.212340e-01, -1.776550e-01,\n",
       "        -1.254660e-01, -8.645900e-02, -5.678900e-02, -9.824800e-02,\n",
       "        -1.365980e-01, -9.161300e-02, -9.191000e-02, -1.181280e-01,\n",
       "        -7.524000e-02, -2.945300e-02, -4.565000e-02, -1.053270e-01,\n",
       "        -1.675280e-01, -1.882850e-01],\n",
       "       [ 9.305800e-02,  9.303100e-02,  1.909200e-02, -2.151600e-02,\n",
       "        -6.132900e-02, -3.840300e-02, -1.004840e-01, -2.457500e-01,\n",
       "        -1.779760e-01, -1.928190e-01, -1.754460e-01, -1.194000e-01,\n",
       "        -1.011510e-01, -9.659100e-02, -9.481900e-02, -1.622550e-01,\n",
       "        -1.730160e-01, -1.437420e-01, -1.357730e-01, -1.761210e-01,\n",
       "        -2.456720e-01, -1.980520e-01, -1.845700e-01, -1.930440e-01,\n",
       "        -1.758110e-01, -1.386100e-01],\n",
       "       [ 9.924700e-02,  9.918300e-02,  1.135460e-01,  6.592700e-02,\n",
       "         9.364000e-02,  6.447000e-02,  4.500300e-02,  5.294700e-02,\n",
       "         3.872700e-02,  8.943500e-02,  7.247600e-02,  1.112900e-02,\n",
       "         4.971300e-02,  8.246700e-02,  8.640100e-02,  2.023470e-01,\n",
       "         2.489090e-01,  1.545340e-01,  7.677700e-02,  7.593400e-02,\n",
       "         1.310270e-01,  1.272820e-01,  1.027090e-01,  1.191520e-01,\n",
       "         8.856500e-02,  5.447800e-02]])"
      ]
     },
     "execution_count": 17,
     "metadata": {},
     "output_type": "execute_result"
    }
   ],
   "source": [
    "X3[1]"
   ]
  },
  {
   "cell_type": "code",
   "execution_count": 19,
   "id": "9502c490-1fb0-45e1-b00e-709d76d240d9",
   "metadata": {},
   "outputs": [],
   "source": [
    "Xdf.to_csv(\"Data/GunPointMissing.csv\", index=False, header=None)\n",
    "ydf.to_csv(\"Data/GunPointMissingLabels.csv\", index=False, header=None)"
   ]
  },
  {
   "cell_type": "code",
   "execution_count": null,
   "id": "508491a2-e5b0-4c1c-9417-7b8e581d3248",
   "metadata": {},
   "outputs": [],
   "source": [
    "# manual missingness..."
   ]
  },
  {
   "cell_type": "code",
   "execution_count": 3,
   "id": "c8cbf2a1-71d8-4dcb-b8ff-8ed351406c2d",
   "metadata": {},
   "outputs": [],
   "source": [
    "dir1 = \"training_output\"\n",
    "dir2 = \"training_predictions\""
   ]
  },
  {
   "cell_type": "code",
   "execution_count": 19,
   "id": "51db5e40",
   "metadata": {},
   "outputs": [
    {
     "name": "stdout",
     "output_type": "stream",
     "text": [
      "\n",
      "0:2mb\n",
      "finished in 0:0:0.027\n",
      "Running on configurations...\n",
      "Dataset: GunPointMissing.csv, Training Data : 50x0 , Testing Data: nonexnone, Train #Classes: 2, Test #Classes: none\n",
      "Repeats: 1 , Trees: 11 , Candidates per Split(r): 5\n",
      "Output Dir: training_output/, Export: 1, Verbosity: 1\n",
      "Select DM per node: true , Shuffle Data: false, JVM WarmUp: false\n",
      "----------------------------------------------------------------------------------------------------\n",
      "\n",
      "-----------------Repetition No: 1 (GunPointMissing.csv)   -----------------\n",
      "Using: 4 MB, Free: 16 MB, Allocated Pool: 20 MB, Max Available: 1024 MB\n",
      "Performing initial imputation...\n",
      "core.ProximityForestResult@7aec35a\n",
      "0.1.2.3.4.5.6.7.8.9.10.\n",
      "Using: 25 MB, Free: 104 MB, Allocated Pool: 129 MB, Max Available: 1024 MB\n",
      "Updating missing values...\n",
      "core.ProximityForestResult@66cd51c3\n",
      "0.1.2.3.4.5.6.7.8.9.10.\n",
      "Using: 45 MB, Free: 84 MB, Allocated Pool: 129 MB, Max Available: 1024 MB\n",
      "Updating missing values...\n",
      "core.ProximityForestResult@4dcbadb4\n",
      "0.1.2.3.4.5.6.7.8.9.10.\n",
      "Using: 28 MB, Free: 101 MB, Allocated Pool: 129 MB, Max Available: 1024 MB\n",
      "Updating missing values...\n",
      "core.ProximityForestResult@4e515669\n",
      "0.1.2.3.4.5.6.7.8.9.10.\n",
      "Using: 52 MB, Free: 77 MB, Allocated Pool: 129 MB, Max Available: 1024 MB\n",
      "Updating missing values...\n",
      "core.ProximityForestResult@17d10166\n",
      "0.1.2.3.4.5.6.7.8.9.10.\n",
      "Using: 72 MB, Free: 57 MB, Allocated Pool: 129 MB, Max Available: 1024 MB\n",
      "Updating missing values...\n",
      "core.ProximityForestResult@1b9e1916\n",
      "0.1.2.3.4.5.6.7.8.9.10.\n",
      "Using: 16 MB, Free: 113 MB, Allocated Pool: 129 MB, Max Available: 1024 MB\n",
      "Computing Forest Proximities...\n",
      "Done Computing Forest Proximities. Computation time: 2.0ms\n"
     ]
    }
   ],
   "source": [
    "# First, we train a PF model and give it the name 'Spartacus'\n",
    "# By default, this will create a number of files (names can be specified by arguments):\n",
    "    #1. Spartacus.ser: the serialized trained model\n",
    "    #2. ytrain.txt: the training labels, used in computing outlier scores later\n",
    "    #3. ForestProximities.txt: the array of proximities\n",
    "    #4. Predictions.txt: the predictions on the given test data.\n",
    "\n",
    "#proxUtil.PF_Train(\"Data/GunPoint_TRAIN.csv\", test_file=\"Data/GunPoint_TEST.csv\", \n",
    "#                  model_name=\"Spartacus\", output_directory=dir1, row_separator=\"\\t\")\n",
    "\n",
    "#proxUtil.PF_Train(\"Data/GunPoint_missing_TRAIN.tsv\", model_name=\"Spartacus\", \n",
    "#                  return_proximities=True, output_directory=dir1, row_separator=\"\\t\",\n",
    "#                 impute_training_data=True, return_imputed_training=True)\n",
    "\n",
    "proxUtil.PF_Train(\"Data/GunPointMissing.csv\", model_name=\"Spartacus\", \n",
    "                  return_proximities=True, output_directory=dir1, row_separator=\",\",\n",
    "                 train_labels=\"Data/GunPointMissingLabels.csv\", impute_training_data=True,\n",
    "                 return_imputed_training=True)\n",
    "\n",
    "# When training, the test/validation data is not strictly needed.\n",
    "#proxUtil.getProx(\"Data/GunPoint_TRAIN.tsv\", modelname=\"Spartacus\", out=dir1)\n",
    "\n",
    "#This implementation has been expanded so as to handle user-specified distance(s):\n",
    "#proxUtil.getProx(\"Data/GunPoint_TRAIN.tsv\", testfile=\"Data/GunPoint_TEST.tsv\", modelname=\"Spartacus\", distances=['dtw','ddtw'])\n",
    "\n",
    "#In particular, Euclidean distance for time-independent data\n",
    "#proxUtil.getProx(\"Data/GunPoint_TRAIN.tsv\", testfile=\"Data/GunPoint_TEST.tsv\", modelname=\"Spartacus\", distances=['euclidean'])\n",
    "\n",
    "#One can also use a python-specified distance. A file called 'PythonDistance.py' must be in the directory the .jar file is called,\n",
    "    # the function must be called 'Distance' See the PythonDistance.py file for an example and acceptable call signature.\n",
    "#proxUtil.getProx(\"Data/GunPoint_TRAIN.tsv\", testfile=\"Data/GunPoint_TEST.tsv\", modelname=\"Spartacus\", distances=['python'], num_trees=11)\n",
    "\n",
    "# Similarly, one can use a function defined by a MapleDistances.mpl file (in particular, for Manifold distances)\n",
    "#proxUtil.getProx(\"Data/GunPoint_TRAIN.tsv\", testfile=\"Data/GunPoint_TEST.tsv\", modelname=\"Spartacus\", distances=['maple'], num_trees=11)"
   ]
  },
  {
   "cell_type": "code",
   "execution_count": 22,
   "id": "4c0c987b-2779-44eb-9029-5c86a17aa4a9",
   "metadata": {},
   "outputs": [
    {
     "name": "stderr",
     "output_type": "stream",
     "text": [
      "\n",
      "Fatal Error:: For input string: \"-0.6478854,-0.64199155,-0.63818632,-0.63825875,-0.63834515,-0.63869741,-0.64304876,-0.64376789,-0.64504991,-0.64711823,-0.64915334,-0.65124584,-0.65729046,-0.66220082,-0.66123227,-0.66098661,-0.66156196,-0.66225552,-0.66191228,-0.66274039,-0.66093438,-0.66344985,-0.66219448,-0.6623359,-0.66171176,-0.66139185,-0.66140829,-0.66144719,-0.66037322,-0.65910828,-0.65974177,-0.65817648,-0.65839527,-0.65734763,-0.65851971,-0.6584864,-0.657366,-0.65435815,-0.65251819,-0.6513159,-0.64814481,-0.64733294,-0.64709792,-0.64486153,-0.64360412,-0.64349171,-0.64265061,-0.6420974,-0.64447929,-0.6488921,-0.65765851,-0.66120325,-0.64966432,-0.61016844,-0.53743483,-0.46503123,-0.35853483,-0.28313648,-0.17744604,0.15824648,0.35028455,0.48241039,0.60380734,0.79710411,0.98755132,1.2037853,1.4065415,1.5962459,1.7128307,1.7788152,1.7938492,1.7971408,1.8101928,1.8206277,1.8172235,1.8316333,1.8316333,1.828965,1.8453761,1.8452577,1.8458113,1.8424932,1.8353569,1.8363734,1.8406975,1.8325128,1.8317604,1.8292355,1.82239,1.8137368,1.8065749,1.7817465,1.7681708,1.714996,1.6361695,1.5421009,1.4168285,1.295362,1.1717134,1.0294766,0.83269526,0.74873661,0.48444394,0.46799664,0.13619262,-0.02096398,-0.24144559,-0.42927857,-0.54787937,-0.65770118,-0.74082076,-0.77535158,-0.78246083,-0.7692917,-0.74327798,-0.71938126,-0.69687714,-0.6863145,-0.67373867,-0.6683903,-0.66464289,-0.66411665,-0.66429579,-0.66119756,-0.65934631,-0.65258234,-0.64332472,-0.63886892,-0.63655838,-0.63317355,-0.63303697,-0.63300935,-0.63303406,-0.63521866,-0.63446965,-0.63579121,-0.63628253,-0.63539522,-0.63607448,-0.63755154,-0.63926427,-0.63971561,-0.63973452,-0.64018371,-0.6392345,-0.63939473,-0.64023111,-0.64042873,-0.63866571,-0.63865722\"\n",
      "\n",
      "java.lang.NumberFormatException: For input string: \"-0.6478854,-0.64199155,-0.63818632,-0.63825875,-0.63834515,-0.63869741,-0.64304876,-0.64376789,-0.64504991,-0.64711823,-0.64915334,-0.65124584,-0.65729046,-0.66220082,-0.66123227,-0.66098661,-0.66156196,-0.66225552,-0.66191228,-0.66274039,-0.66093438,-0.66344985,-0.66219448,-0.6623359,-0.66171176,-0.66139185,-0.66140829,-0.66144719,-0.66037322,-0.65910828,-0.65974177,-0.65817648,-0.65839527,-0.65734763,-0.65851971,-0.6584864,-0.657366,-0.65435815,-0.65251819,-0.6513159,-0.64814481,-0.64733294,-0.64709792,-0.64486153,-0.64360412,-0.64349171,-0.64265061,-0.6420974,-0.64447929,-0.6488921,-0.65765851,-0.66120325,-0.64966432,-0.61016844,-0.53743483,-0.46503123,-0.35853483,-0.28313648,-0.17744604,0.15824648,0.35028455,0.48241039,0.60380734,0.79710411,0.98755132,1.2037853,1.4065415,1.5962459,1.7128307,1.7788152,1.7938492,1.7971408,1.8101928,1.8206277,1.8172235,1.8316333,1.8316333,1.828965,1.8453761,1.8452577,1.8458113,1.8424932,1.8353569,1.8363734,1.8406975,1.8325128,1.8317604,1.8292355,1.82239,1.8137368,1.8065749,1.7817465,1.7681708,1.714996,1.6361695,1.5421009,1.4168285,1.295362,1.1717134,1.0294766,0.83269526,0.74873661,0.48444394,0.46799664,0.13619262,-0.02096398,-0.24144559,-0.42927857,-0.54787937,-0.65770118,-0.74082076,-0.77535158,-0.78246083,-0.7692917,-0.74327798,-0.71938126,-0.69687714,-0.6863145,-0.67373867,-0.6683903,-0.66464289,-0.66411665,-0.66429579,-0.66119756,-0.65934631,-0.65258234,-0.64332472,-0.63886892,-0.63655838,-0.63317355,-0.63303697,-0.63300935,-0.63303406,-0.63521866,-0.63446965,-0.63579121,-0.63628253,-0.63539522,-0.63607448,-0.63755154,-0.63926427,-0.63971561,-0.63973452,-0.64018371,-0.6392345,-0.63939473,-0.64023111,-0.64042873,-0.63866571,-0.63865722\"\n",
      "\tat java.base/java.lang.NumberFormatException.forInputString(NumberFormatException.java:67)\n",
      "\tat java.base/java.lang.Integer.parseInt(Integer.java:662)\n",
      "\tat java.base/java.lang.Integer.parseInt(Integer.java:778)\n",
      "\tat core.DelimitedFileReader$RowParser.parseDoubleRow(DelimitedFileReader.java:284)\n",
      "\tat core.DelimitedFileReader.readToListObjectDataset(DelimitedFileReader.java:119)\n",
      "\tat core.ExperimentRunner.run(ExperimentRunner.java:54)\n",
      "\tat application.PFApplication.main(PFApplication.java:233)\n"
     ]
    }
   ],
   "source": [
    "#proxUtil.evalPF(\"Data/GunPointMissing.csv\", modelname=dir1 + \"/Spartacus\", out=dir2)"
   ]
  },
  {
   "cell_type": "code",
   "execution_count": 35,
   "id": "1a9f0a77-3260-45af-b597-29ce638e6751",
   "metadata": {},
   "outputs": [],
   "source": [
    "# Here are the predictions on the provided test set.\n",
    "f0 = open(dir1 + \"/Predictions.txt\")\n",
    "f1 = f0.read()\n",
    "preds = eval(\"np.array(\" + f1 + \")\")\n",
    "f0.close()"
   ]
  },
  {
   "cell_type": "code",
   "execution_count": 36,
   "id": "3ff64067-5bf5-4f68-a876-1a3706e03b29",
   "metadata": {},
   "outputs": [
    {
     "name": "stdout",
     "output_type": "stream",
     "text": [
      "\n",
      "0:2mb\n",
      "finished in 0:0:0.023\n",
      "\n",
      "*\n",
      "\n",
      "0:2mb\n",
      "finished in 0:0:0.032\n",
      "\n",
      "**\n"
     ]
    }
   ],
   "source": [
    "# We can now read a model by name and obtain predictions on another dataset. This creates:\n",
    "    #1. Predictions_saved.txt: the predicted labels of the read-in model.\n",
    "# Let's get predictions on the training set to illustrate.\n",
    "proxUtil.evalPF(\"Data/GunPoint_TRAIN.tsv\", modelname=dir1 + \"/Spartacus\", out=dir2)\n",
    "# Now let's get predictions on the test set.\n",
    "proxUtil.evalPF(\"Data/GunPoint_TEST.tsv\", modelname=dir1 + \"/Spartacus\")"
   ]
  },
  {
   "cell_type": "code",
   "execution_count": 37,
   "id": "820f80af-3361-4034-a35c-41008cba6336",
   "metadata": {},
   "outputs": [],
   "source": [
    "# Here are the predictions (of the saved model) on the training set.\n",
    "f0 = open(dir2 + \"/Predictions_saved.txt\")\n",
    "f1 = f0.read()\n",
    "train_preds_saved = eval(\"np.array(\" + f1 + \")\")\n",
    "f0.close()"
   ]
  },
  {
   "cell_type": "code",
   "execution_count": 38,
   "id": "999eb58a",
   "metadata": {},
   "outputs": [],
   "source": [
    "# Here are the predictions (of the saved model) on the test set.\n",
    "f0 = open(\"Predictions_saved.txt\")\n",
    "f1 = f0.read()\n",
    "preds_saved = eval(\"np.array(\" + f1 + \")\")\n",
    "f0.close()"
   ]
  },
  {
   "cell_type": "code",
   "execution_count": 39,
   "id": "3a0e9426-197e-4139-ab65-f75166562ca7",
   "metadata": {},
   "outputs": [
    {
     "name": "stdout",
     "output_type": "stream",
     "text": [
      "50\n",
      "150\n",
      "150\n"
     ]
    }
   ],
   "source": [
    "print(len(train_preds_saved))\n",
    "print(len(preds_saved))\n",
    "print(len(preds))"
   ]
  },
  {
   "cell_type": "code",
   "execution_count": 40,
   "id": "1b9bd53e-b9e8-4394-b1dc-971ade0a80c6",
   "metadata": {},
   "outputs": [
    {
     "data": {
      "text/plain": [
       "array([0])"
      ]
     },
     "execution_count": 40,
     "metadata": {},
     "output_type": "execute_result"
    }
   ],
   "source": [
    "# Just checking: are the outputs of the saved model equal to the original predictions?\n",
    "np.unique([preds[i]-preds_saved[i] for i in range(len(preds))])"
   ]
  },
  {
   "cell_type": "code",
   "execution_count": 41,
   "id": "70ed9597",
   "metadata": {},
   "outputs": [],
   "source": [
    "# the following can be used to obtain the proximities (p) and true training labels (y)\n",
    "p,y=proxUtil.getProxArrays(proxfile=dir1 + \"/ForestProximities.txt\", yfile=dir1 + \"/ytrain.txt\")"
   ]
  },
  {
   "cell_type": "code",
   "execution_count": 42,
   "id": "e40a2465",
   "metadata": {},
   "outputs": [],
   "source": [
    "# The raw proximities are not symmetric. But in some applications, one desires symmetry.\n",
    "p = proxUtil.SymmetrizeProx(p)"
   ]
  },
  {
   "cell_type": "code",
   "execution_count": 43,
   "id": "013c1f76",
   "metadata": {},
   "outputs": [],
   "source": [
    "# The following can be used to obtain outlier scores.\n",
    "# Note that these are intra-class outlier scores.\n",
    "outlier_scores = proxUtil.getOutlierScores(p,y)"
   ]
  },
  {
   "cell_type": "code",
   "execution_count": 44,
   "id": "cb7ac2b1",
   "metadata": {},
   "outputs": [
    {
     "name": "stderr",
     "output_type": "stream",
     "text": [
      "/home/ben/.local/lib/python3.13/site-packages/sklearn/manifold/_mds.py:677: FutureWarning: The default value of `n_init` will change from 4 to 1 in 1.9.\n",
      "  warnings.warn(\n"
     ]
    }
   ],
   "source": [
    "# The proximities can be used to obtain a vector embedding.\n",
    "# we will prepare a visual, using size to indicate intra-class outlier-ness.\n",
    "embed = MDS(n_components=2, random_state=0, dissimilarity='precomputed')\n",
    "dis = (np.ones(p.shape) - p)**4\n",
    "x_trans = embed.fit_transform(dis)\n",
    "xt = x_trans.transpose()\n",
    "sizes = [x*100 for x in outlier_scores]"
   ]
  },
  {
   "cell_type": "code",
   "execution_count": 45,
   "id": "3940c799",
   "metadata": {},
   "outputs": [],
   "source": [
    "#plt.scatter(xt[0],xt[1],c=y,s=sizes)\n",
    "#plt.title(\"MDS Embedding of the GunPoint dataset PF Proximities\")\n",
    "#plt.xlabel(\"MDS 1\")\n",
    "#plt.ylabel(\"MDS 2\")\n",
    "#plt.show()"
   ]
  },
  {
   "cell_type": "code",
   "execution_count": 46,
   "id": "ae2b7c60-da60-434b-aa53-31cd6de3abf3",
   "metadata": {},
   "outputs": [],
   "source": [
    "X1 = np.array([x_trans[i] for i in range(x_trans.shape[0]) if y[i]==0]).transpose()\n",
    "X2 = np.array([x_trans[i] for i in range(x_trans.shape[0]) if y[i]==1]).transpose()\n",
    "eX = [X1,X2]\n",
    "\n",
    "outs1 = np.array([sizes[i] for i in range(x_trans.shape[0]) if y[i]==0]).transpose()\n",
    "outs2 = np.array([sizes[i] for i in range(x_trans.shape[0]) if y[i]==1]).transpose()\n",
    "Outs = [outs1,outs2]"
   ]
  },
  {
   "cell_type": "code",
   "execution_count": 47,
   "id": "d6c9c7a1",
   "metadata": {},
   "outputs": [
    {
     "data": {
      "image/png": "[encoded data removed]",
      "text/plain": [
       "<Figure size 640x480 with 1 Axes>"
      ]
     },
     "metadata": {},
     "output_type": "display_data"
    }
   ],
   "source": [
    "cmap = plt.cm.Paired\n",
    "#plt.figure(figsize = (15,10))\n",
    "for i in range(1,3):\n",
    "    cmap1 = [i-1 for j in range(eX[i-1].shape[1])]\n",
    "    #if y[np.argmax(sizes)] == i:\n",
    "     #   cmap1[np.argmax(eval(\"outs\" + str(i)))] = 5\n",
    "    #plt.scatter(eX[i-1][0], eX[i-1][1], c=cmap(cmap1), s=Outs[i-1],\n",
    "     #           label=\"Class {:g}\".format(i-1))\n",
    "    plt.scatter(eX[i-1][0], eX[i-1][1], c=cmap(cmap1),\n",
    "                label=\"Class {:g}\".format(i-1))\n",
    "    \n",
    "plt.legend()\n",
    "plt.xlabel('MDS component 1')\n",
    "plt.ylabel('MDS component 2')\n",
    "plt.title('MDS embedding using PFGAP')\n",
    "#plt.savefig(\"Demo_MDS_GunPointTrain.pdf\")\n",
    "plt.show()\n",
    "plt.close()"
   ]
  },
  {
   "cell_type": "code",
   "execution_count": null,
   "id": "d27022ed-5e14-4517-a919-fc9790b6b2ea",
   "metadata": {},
   "outputs": [],
   "source": []
  }
 ],
 "metadata": {
  "kernelspec": {
   "display_name": "Python 3 (ipykernel)",
   "language": "python",
   "name": "python3"
  },
  "language_info": {
   "codemirror_mode": {
    "name": "ipython",
    "version": 3
   },
   "file_extension": ".py",
   "mimetype": "text/x-python",
   "name": "python",
   "nbconvert_exporter": "python",
   "pygments_lexer": "ipython3",
   "version": "3.13.7"
  }
 },
 "nbformat": 4,
 "nbformat_minor": 5
}
