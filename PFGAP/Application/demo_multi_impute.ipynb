{
 "cells": [
  {
   "cell_type": "code",
   "execution_count": 1,
   "id": "150240fc",
   "metadata": {},
   "outputs": [],
   "source": [
    "import PF_wrapper as PF\n",
    "import numpy as np\n",
    "import pandas as pd"
   ]
  },
  {
   "cell_type": "code",
   "execution_count": 2,
   "id": "c8cbf2a1-71d8-4dcb-b8ff-8ed351406c2d",
   "metadata": {},
   "outputs": [],
   "source": [
    "dir1 = \"training_output\"\n",
    "dir2 = \"training_predictions\""
   ]
  },
  {
   "cell_type": "code",
   "execution_count": 3,
   "id": "4049d5ac-0d44-42b3-b7be-fea208b3e2ce",
   "metadata": {},
   "outputs": [],
   "source": [
    "# The tiny, made-up dataset is just for testing purposes."
   ]
  },
  {
   "cell_type": "code",
   "execution_count": 4,
   "id": "51db5e40",
   "metadata": {},
   "outputs": [
    {
     "name": "stdout",
     "output_type": "stream",
     "text": [
      "\n",
      "0:3mb\n",
      "finished in 0:0:0.006\n",
      "\n",
      "0:4mb\n",
      "finished in 0:0:0.000\n",
      "\n",
      "-----------------Repetition No: 1 (differentlengths.txt)   -----------------\n",
      "Using: 2 MB, Free: 18 MB, Allocated Pool: 20 MB, Max Available: 1024 MB\n",
      "Imputing the training set...\n",
      "core.ProximityForestResult@3d494fbf\n",
      "0.1.2.3.4.5.6.7.8.9.10.\n",
      "Using: 3 MB, Free: 11 MB, Allocated Pool: 14 MB, Max Available: 1024 MB\n",
      "core.ProximityForestResult@46f7f36a\n",
      "0.1.2.3.4.5.6.7.8.9.10.\n",
      "Using: 3 MB, Free: 11 MB, Allocated Pool: 14 MB, Max Available: 1024 MB\n",
      "core.ProximityForestResult@421faab1\n",
      "0.1.2.3.4.5.6.7.8.9.10.\n",
      "Using: 4 MB, Free: 10 MB, Allocated Pool: 14 MB, Max Available: 1024 MB\n",
      "core.ProximityForestResult@2b71fc7e\n",
      "0.1.2.3.4.5.6.7.8.9.10.\n",
      "Using: 4 MB, Free: 10 MB, Allocated Pool: 14 MB, Max Available: 1024 MB\n",
      "core.ProximityForestResult@5ce65a89\n",
      "0.1.2.3.4.5.6.7.8.9.10.\n",
      "Using: 4 MB, Free: 10 MB, Allocated Pool: 14 MB, Max Available: 1024 MB\n",
      "Done imputing the training set.\n",
      "core.ProximityForestResult@25f38edc\n",
      "0.1.2.3.4.5.6.7.8.9.10.\n",
      "Using: 4 MB, Free: 10 MB, Allocated Pool: 14 MB, Max Available: 1024 MB\n",
      "Imputing the test dataset...\n",
      "*\n",
      "*\n",
      "*\n",
      "*\n",
      "*\n",
      "Done imputing the test dataset.\n",
      "*\n",
      "Training Time: 1.066653ms (0:0:0.001)\n",
      "Prediction Time: 0.056954ms (0:0:0.000)\n",
      "Correct(TP+TN): 12 vs Incorrect(FP+FN): 0\n",
      "Accuracy: 6.0\n",
      "Error Rate: -5.0\n",
      "REPEAT:1 ,differentlengths.txt, 6.0, 1.066653, 0.056954, 0.7272727272727273\n"
     ]
    }
   ],
   "source": [
    "PF.train(\"Data/differentlengths.txt\", test_file=\"Data/differentlengths_test.txt\", distances=['dtw_d', 'dtw_i'], \n",
    "            train_labels=\"Data/differentlabels.txt\", test_labels=\"Data/differentlabels_test.txt\",\n",
    "            output_directory=dir1, array_separator=\":\", entry_separator=\",\", data_dimension=2,\n",
    "           impute_training_data=True, return_imputed_training=True, impute_testing_data=True,\n",
    "           return_imputed_testing=True, impute_iterations=5)"
   ]
  },
  {
   "cell_type": "code",
   "execution_count": 5,
   "id": "d27022ed-5e14-4517-a919-fc9790b6b2ea",
   "metadata": {},
   "outputs": [],
   "source": [
    "# Note: there is currently a bug with the accuracy printout when imputing."
   ]
  }
 ],
 "metadata": {
  "kernelspec": {
   "display_name": "Python 3 (ipykernel)",
   "language": "python",
   "name": "python3"
  },
  "language_info": {
   "codemirror_mode": {
    "name": "ipython",
    "version": 3
   },
   "file_extension": ".py",
   "mimetype": "text/x-python",
   "name": "python",
   "nbconvert_exporter": "python",
   "pygments_lexer": "ipython3",
   "version": "3.13.7"
  }
 },
 "nbformat": 4,
 "nbformat_minor": 5
}
