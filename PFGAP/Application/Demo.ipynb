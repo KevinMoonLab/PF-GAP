{
 "cells": [
  {
   "cell_type": "code",
   "execution_count": 1,
   "id": "150240fc",
   "metadata": {},
   "outputs": [],
   "source": [
    "import proxUtil\n",
    "import matplotlib.pyplot as plt\n",
    "import numpy as np\n",
    "from sklearn.manifold import MDS"
   ]
  },
  {
   "cell_type": "code",
   "execution_count": 2,
   "id": "c8cbf2a1-71d8-4dcb-b8ff-8ed351406c2d",
   "metadata": {},
   "outputs": [],
   "source": [
    "dir1 = \"training_output\"\n",
    "dir2 = \"training_predictions\""
   ]
  },
  {
   "cell_type": "code",
   "execution_count": 3,
   "id": "51db5e40",
   "metadata": {},
   "outputs": [
    {
     "name": "stdout",
     "output_type": "stream",
     "text": [
      "reading file [GunPoint_TEST.tsv]:finished in 0:0:0.022\n",
      "reading file [GunPoint_TRAIN.tsv]:finished in 0:0:0.004\n",
      "Running on configurations...\n",
      "Dataset: GunPoint_TRAIN.tsv, Training Data : 50x150 , Testing Data: 150x150, Train #Classes: 2, Test #Classes: 2\n",
      "Repeats: 1 , Trees: 11 , Candidates per Split(r): 5\n",
      "Output Dir: training_output/, Export: 1, Verbosity: 1\n",
      "Select DM per node: true , Shuffle Data: false, JVM WarmUp: false\n",
      "----------------------------------------------------------------------------------------------------\n",
      "\n",
      "-----------------Repetition No: 1 (GunPoint_TRAIN.tsv)   -----------------\n",
      "Using: 4 MB, Free: 16 MB, Allocated Pool: 20 MB, Max Available: 1024 MB\n",
      "core.ProximityForestResult@6576fe71\n",
      "0.1.2.3.4.5.6.7.8.9.10.\n",
      "Using: 26 MB, Free: 108 MB, Allocated Pool: 134 MB, Max Available: 1024 MB\n",
      "**\n",
      "Training Time: 799.308270ms (0:0:0.799)\n",
      "Prediction Time: 428.651793ms (0:0:0.428)\n",
      "Correct(TP+TN): 147 vs Incorrect(FP+FN): 3\n",
      "Accuracy: 0.98\n",
      "Error Rate: 0.020000000000000018\n",
      "REPEAT:1 ,GunPoint_TRAIN.tsv, 0.98, 799.30827, 428.651793, 3.6363636363636362\n",
      "Computing Forest Proximities...\n",
      "Done Computing Forest Proximities. Computation time: 9.0ms\n"
     ]
    }
   ],
   "source": [
    "# First, we train a PF model and give it the name 'Spartacus'\n",
    "# By default, this will create a number of files (names can be specified by arguments):\n",
    "    #1. Spartacus.ser: the serialized trained model\n",
    "    #2. ytrain.txt: the training labels, used in computing outlier scores later\n",
    "    #3. ForestProximities.txt: the array of proximities\n",
    "    #4. Predictions.txt: the predictions on the given test data.\n",
    "\n",
    "proxUtil.getProx(\"Data/GunPoint_TRAIN.tsv\", testfile=\"Data/GunPoint_TEST.tsv\", modelname=\"Spartacus\", out=dir1)\n",
    "\n",
    "# When training, the test/validation data is not strictly needed.\n",
    "#proxUtil.getProx(\"Data/GunPoint_TRAIN.tsv\", modelname=\"Spartacus\", out=dir1)\n",
    "\n",
    "#This implementation has been expanded so as to handle user-specified distance(s):\n",
    "#proxUtil.getProx(\"Data/GunPoint_TRAIN.tsv\", testfile=\"Data/GunPoint_TEST.tsv\", modelname=\"Spartacus\", distances=['dtw','ddtw'])\n",
    "\n",
    "#In particular, Euclidean distance for time-independent data\n",
    "#proxUtil.getProx(\"Data/GunPoint_TRAIN.tsv\", testfile=\"Data/GunPoint_TEST.tsv\", modelname=\"Spartacus\", distances=['euclidean'])\n",
    "\n",
    "#One can also use a python-specified distance. A file called 'PythonDistance.py' must be in the directory the .jar file is called,\n",
    "    # the function must be called 'Distance' See the PythonDistance.py file for an example and acceptable call signature.\n",
    "#proxUtil.getProx(\"Data/GunPoint_TRAIN.tsv\", testfile=\"Data/GunPoint_TEST.tsv\", modelname=\"Spartacus\", distances=['python'], num_trees=11)\n",
    "\n",
    "# Similarly, one can use a function defined by a MapleDistances.mpl file (in particular, for Manifold distances)\n",
    "#proxUtil.getProx(\"Data/GunPoint_TRAIN.tsv\", testfile=\"Data/GunPoint_TEST.tsv\", modelname=\"Spartacus\", distances=['maple'], num_trees=11)"
   ]
  },
  {
   "cell_type": "code",
   "execution_count": 4,
   "id": "1a9f0a77-3260-45af-b597-29ce638e6751",
   "metadata": {},
   "outputs": [],
   "source": [
    "# Here are the predictions on the provided test set.\n",
    "f0 = open(dir1 + \"/Predictions.txt\")\n",
    "f1 = f0.read()\n",
    "preds = eval(\"np.array(\" + f1 + \")\")\n",
    "f0.close()"
   ]
  },
  {
   "cell_type": "code",
   "execution_count": 5,
   "id": "3ff64067-5bf5-4f68-a876-1a3706e03b29",
   "metadata": {},
   "outputs": [
    {
     "name": "stdout",
     "output_type": "stream",
     "text": [
      "reading file [GunPoint_TRAIN.tsv]:finished in 0:0:0.013\n",
      "\n",
      "*\n",
      "reading file [GunPoint_TEST.tsv]:finished in 0:0:0.022\n",
      "\n",
      "**\n"
     ]
    }
   ],
   "source": [
    "# We can now read a model by name and obtain predictions on another dataset. This creates:\n",
    "    #1. Predictions_saved.txt: the predicted labels of the read-in model.\n",
    "# Let's get predictions on the training set to illustrate.\n",
    "proxUtil.evalPF(\"Data/GunPoint_TRAIN.tsv\", modelname=dir1 + \"/Spartacus\", out=dir2)\n",
    "# Now let's get predictions on the test set.\n",
    "proxUtil.evalPF(\"Data/GunPoint_TEST.tsv\", modelname=dir1 + \"/Spartacus\")"
   ]
  },
  {
   "cell_type": "code",
   "execution_count": 6,
   "id": "820f80af-3361-4034-a35c-41008cba6336",
   "metadata": {},
   "outputs": [],
   "source": [
    "# Here are the predictions (of the saved model) on the training set.\n",
    "f0 = open(dir2 + \"/Predictions_saved.txt\")\n",
    "f1 = f0.read()\n",
    "train_preds_saved = eval(\"np.array(\" + f1 + \")\")\n",
    "f0.close()"
   ]
  },
  {
   "cell_type": "code",
   "execution_count": 7,
   "id": "999eb58a",
   "metadata": {},
   "outputs": [],
   "source": [
    "# Here are the predictions (of the saved model) on the test set.\n",
    "f0 = open(\"Predictions_saved.txt\")\n",
    "f1 = f0.read()\n",
    "preds_saved = eval(\"np.array(\" + f1 + \")\")\n",
    "f0.close()"
   ]
  },
  {
   "cell_type": "code",
   "execution_count": 8,
   "id": "3a0e9426-197e-4139-ab65-f75166562ca7",
   "metadata": {},
   "outputs": [
    {
     "name": "stdout",
     "output_type": "stream",
     "text": [
      "50\n",
      "150\n",
      "150\n"
     ]
    }
   ],
   "source": [
    "print(len(train_preds_saved))\n",
    "print(len(preds_saved))\n",
    "print(len(preds))"
   ]
  },
  {
   "cell_type": "code",
   "execution_count": 9,
   "id": "1b9bd53e-b9e8-4394-b1dc-971ade0a80c6",
   "metadata": {},
   "outputs": [
    {
     "data": {
      "text/plain": [
       "array([0])"
      ]
     },
     "execution_count": 9,
     "metadata": {},
     "output_type": "execute_result"
    }
   ],
   "source": [
    "# Just checking: are the outputs of the saved model equal to the original predictions?\n",
    "np.unique([preds[i]-preds_saved[i] for i in range(len(preds))])"
   ]
  },
  {
   "cell_type": "code",
   "execution_count": 10,
   "id": "70ed9597",
   "metadata": {},
   "outputs": [],
   "source": [
    "# the following can be used to obtain the proximities (p) and true training labels (y)\n",
    "p,y=proxUtil.getProxArrays(proxfile=dir1 + \"/ForestProximities.txt\", yfile=dir1 + \"/ytrain.txt\")"
   ]
  },
  {
   "cell_type": "code",
   "execution_count": 11,
   "id": "e40a2465",
   "metadata": {},
   "outputs": [],
   "source": [
    "# The raw proximities are not symmetric. But in some applications, one desires symmetry.\n",
    "p = proxUtil.SymmetrizeProx(p)"
   ]
  },
  {
   "cell_type": "code",
   "execution_count": 12,
   "id": "013c1f76",
   "metadata": {},
   "outputs": [],
   "source": [
    "# The following can be used to obtain outlier scores.\n",
    "# Note that these are intra-class outlier scores.\n",
    "outlier_scores = proxUtil.getOutlierScores(p,y)"
   ]
  },
  {
   "cell_type": "code",
   "execution_count": 13,
   "id": "cb7ac2b1",
   "metadata": {},
   "outputs": [
    {
     "name": "stderr",
     "output_type": "stream",
     "text": [
      "/home/ben/.local/lib/python3.13/site-packages/sklearn/manifold/_mds.py:677: FutureWarning: The default value of `n_init` will change from 4 to 1 in 1.9.\n",
      "  warnings.warn(\n"
     ]
    }
   ],
   "source": [
    "# The proximities can be used to obtain a vector embedding.\n",
    "# we will prepare a visual, using size to indicate intra-class outlier-ness.\n",
    "embed = MDS(n_components=2, random_state=0, dissimilarity='precomputed')\n",
    "dis = (np.ones(p.shape) - p)**4\n",
    "x_trans = embed.fit_transform(dis)\n",
    "xt = x_trans.transpose()\n",
    "sizes = [x*100 for x in outlier_scores]"
   ]
  },
  {
   "cell_type": "code",
   "execution_count": 14,
   "id": "3940c799",
   "metadata": {},
   "outputs": [],
   "source": [
    "#plt.scatter(xt[0],xt[1],c=y,s=sizes)\n",
    "#plt.title(\"MDS Embedding of the GunPoint dataset PF Proximities\")\n",
    "#plt.xlabel(\"MDS 1\")\n",
    "#plt.ylabel(\"MDS 2\")\n",
    "#plt.show()"
   ]
  },
  {
   "cell_type": "code",
   "execution_count": 15,
   "id": "ae2b7c60-da60-434b-aa53-31cd6de3abf3",
   "metadata": {},
   "outputs": [],
   "source": [
    "X1 = np.array([x_trans[i] for i in range(x_trans.shape[0]) if y[i]==0]).transpose()\n",
    "X2 = np.array([x_trans[i] for i in range(x_trans.shape[0]) if y[i]==1]).transpose()\n",
    "eX = [X1,X2]\n",
    "\n",
    "outs1 = np.array([sizes[i] for i in range(x_trans.shape[0]) if y[i]==0]).transpose()\n",
    "outs2 = np.array([sizes[i] for i in range(x_trans.shape[0]) if y[i]==1]).transpose()\n",
    "Outs = [outs1,outs2]"
   ]
  },
  {
   "cell_type": "code",
   "execution_count": 16,
   "id": "d6c9c7a1",
   "metadata": {},
   "outputs": [],
   "source": [
    "cmap = plt.cm.Paired\n",
    "#plt.figure(figsize = (15,10))\n",
    "for i in range(1,3):\n",
    "    cmap1 = [i-1 for j in range(eX[i-1].shape[1])]\n",
    "    #if y[np.argmax(sizes)] == i:\n",
    "     #   cmap1[np.argmax(eval(\"outs\" + str(i)))] = 5\n",
    "    #plt.scatter(eX[i-1][0], eX[i-1][1], c=cmap(cmap1), s=Outs[i-1],\n",
    "     #           label=\"Class {:g}\".format(i-1))\n",
    "    plt.scatter(eX[i-1][0], eX[i-1][1], c=cmap(cmap1),\n",
    "                label=\"Class {:g}\".format(i-1))\n",
    "    \n",
    "plt.legend()\n",
    "plt.xlabel('MDS component 1')\n",
    "plt.ylabel('MDS component 2')\n",
    "plt.title('MDS embedding using PFGAP')\n",
    "plt.savefig(\"Demo_MDS_GunPointTrain.pdf\")\n",
    "#plt.show()\n",
    "plt.close()"
   ]
  },
  {
   "cell_type": "code",
   "execution_count": null,
   "id": "d27022ed-5e14-4517-a919-fc9790b6b2ea",
   "metadata": {},
   "outputs": [],
   "source": []
  }
 ],
 "metadata": {
  "kernelspec": {
   "display_name": "Python 3 (ipykernel)",
   "language": "python",
   "name": "python3"
  },
  "language_info": {
   "codemirror_mode": {
    "name": "ipython",
    "version": 3
   },
   "file_extension": ".py",
   "mimetype": "text/x-python",
   "name": "python",
   "nbconvert_exporter": "python",
   "pygments_lexer": "ipython3",
   "version": "3.13.7"
  }
 },
 "nbformat": 4,
 "nbformat_minor": 5
}
