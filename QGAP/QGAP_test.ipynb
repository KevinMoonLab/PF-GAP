{
 "cells": [
  {
   "cell_type": "code",
   "execution_count": 1,
   "id": "39d2b1e0-a0d5-4c94-91c0-c5e284c057a3",
   "metadata": {},
   "outputs": [],
   "source": [
    "from aeon.classification.interval_based import QUANTClassifier\n",
    "from aeon.regression.interval_based import QUANTRegressor\n",
    "from aeon.datasets import load_gunpoint\n",
    "from aeon.datasets import load_from_ts_file\n",
    "from aeon.datasets import load_basic_motions\n",
    "\n",
    "from sklearn.ensemble import RandomForestClassifier\n",
    "from sklearn.ensemble import RandomForestRegressor\n",
    "\n",
    "import qgap"
   ]
  },
  {
   "cell_type": "code",
   "execution_count": 2,
   "id": "936d73b3-5811-4c98-a6a0-90820e0a2a20",
   "metadata": {},
   "outputs": [
    {
     "data": {
      "text/plain": [
       "'modelC = QUANTClassifier(estimator=RandomForestClassifier)\\nmodelR = QUANTRegressor(estimator=RandomForestRegressor)\\nmodelMC = QUANTClassifier(estimator=RandomForestClassifier)'"
      ]
     },
     "execution_count": 2,
     "metadata": {},
     "output_type": "execute_result"
    }
   ],
   "source": [
    "'''modelC = QUANTClassifier(estimator=RandomForestClassifier)\n",
    "modelR = QUANTRegressor(estimator=RandomForestRegressor)\n",
    "modelMC = QUANTClassifier(estimator=RandomForestClassifier)'''"
   ]
  },
  {
   "cell_type": "code",
   "execution_count": 3,
   "id": "8ab7401d-26fd-485e-aa19-3676f64e22fd",
   "metadata": {},
   "outputs": [],
   "source": [
    "XtrainC, ytrainC = load_gunpoint(split=\"TRAIN\")\n",
    "#Xtest1, ytest1 = load_gunpoint(split=\"TEST\")\n",
    "XtrainR, ytrainR = load_from_ts_file(\"FloodModeling1_TRAIN.ts\")\n",
    "XtrainMC, ytrainMC = load_basic_motions(split=\"TRAIN\")"
   ]
  },
  {
   "cell_type": "code",
   "execution_count": 4,
   "id": "5bc11727-b9bf-410f-a4dc-9441374bf9c5",
   "metadata": {},
   "outputs": [],
   "source": [
    "qfgapC = qgap.QGAP(matrix_type=\"dense\")\n",
    "qfgapR = qgap.QGAP(prediction_type=\"regression\", matrix_type=\"dense\")\n",
    "qfgapMC = qgap.QGAP(matrix_type=\"dense\")"
   ]
  },
  {
   "cell_type": "code",
   "execution_count": 5,
   "id": "96a56b21-7271-4bca-8822-558fc66437b9",
   "metadata": {},
   "outputs": [
    {
     "name": "stdout",
     "output_type": "stream",
     "text": [
      "(50, 50)\n"
     ]
    }
   ],
   "source": [
    "qfgapC.fit(XtrainC,ytrainC)\n",
    "Pc = qfgapC.get_proximities()\n",
    "print(Pc.shape)"
   ]
  },
  {
   "cell_type": "code",
   "execution_count": 6,
   "id": "14995926-87ca-476c-980f-0340a63f8ccb",
   "metadata": {},
   "outputs": [
    {
     "name": "stdout",
     "output_type": "stream",
     "text": [
      "(471, 471)\n"
     ]
    }
   ],
   "source": [
    "qfgapR.fit(XtrainR,ytrainR)\n",
    "Pr = qfgapR.get_proximities()\n",
    "print(Pr.shape)"
   ]
  },
  {
   "cell_type": "code",
   "execution_count": 7,
   "id": "d2ea919a-e4d2-4312-8136-55f1a64f0182",
   "metadata": {},
   "outputs": [
    {
     "name": "stdout",
     "output_type": "stream",
     "text": [
      "(40, 40)\n"
     ]
    }
   ],
   "source": [
    "qfgapMC.fit(XtrainMC,ytrainMC)\n",
    "Pmc = qfgapMC.get_proximities()\n",
    "print(Pmc.shape)"
   ]
  },
  {
   "cell_type": "code",
   "execution_count": null,
   "id": "b866fb79-93ce-4567-b5e4-dcbaa823aec9",
   "metadata": {},
   "outputs": [],
   "source": []
  }
 ],
 "metadata": {
  "kernelspec": {
   "display_name": "Python 3 (ipykernel)",
   "language": "python",
   "name": "python3"
  },
  "language_info": {
   "codemirror_mode": {
    "name": "ipython",
    "version": 3
   },
   "file_extension": ".py",
   "mimetype": "text/x-python",
   "name": "python",
   "nbconvert_exporter": "python",
   "pygments_lexer": "ipython3",
   "version": "3.12.4"
  }
 },
 "nbformat": 4,
 "nbformat_minor": 5
}
