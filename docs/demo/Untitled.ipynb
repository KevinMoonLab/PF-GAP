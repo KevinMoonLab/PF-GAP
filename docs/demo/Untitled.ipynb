{
 "cells": [
  {
   "cell_type": "code",
   "execution_count": 1,
   "id": "af4cbe41-051e-4793-8a0f-d784cd751b33",
   "metadata": {},
   "outputs": [],
   "source": [
    "import PF_wrapper as PF\n",
    "import matplotlib.pyplot as plt\n",
    "import numpy as np\n",
    "import pandas as pd"
   ]
  },
  {
   "cell_type": "code",
   "execution_count": 2,
   "id": "767d3bfa-4f6d-4c61-a1c8-40d9a8f9e248",
   "metadata": {},
   "outputs": [],
   "source": [
    "dir1 = \"training_output\"\n",
    "dir2 = \"training_predictions\""
   ]
  },
  {
   "cell_type": "code",
   "execution_count": 3,
   "id": "594c17c5-5290-47d3-a72a-0c0015eb60c7",
   "metadata": {},
   "outputs": [],
   "source": [
    "#distances=[\"javadistance:userdistances.jar:MyEuclideanDistance\"]"
   ]
  },
  {
   "cell_type": "code",
   "execution_count": 7,
   "id": "e68494df-234a-42d7-9c97-c61d760834c8",
   "metadata": {},
   "outputs": [
    {
     "name": "stdout",
     "output_type": "stream",
     "text": [
      "\n",
      "0:3mb\n",
      "finished in 0:0:0.051\n",
      "\n",
      "0:8mb\n",
      "finished in 0:0:0.006\n",
      "\n",
      "-----------------Repetition No: 1 (GunPoint_TRAIN.tsv)   -----------------\n",
      "Using: 3 MB, Free: 21 MB, Allocated Pool: 24 MB, Max Available: 1024 MB\n",
      "core.ProximityForestResult@9807454\n",
      "0.1.2.3.4.5.6.7.8.9.10.\n",
      "Using: 9 MB, Free: 15 MB, Allocated Pool: 24 MB, Max Available: 1024 MB\n",
      "**\n",
      "Computing Training Proximities...\n",
      "Done Computing Training Proximities. Computation time: 14.0ms\n",
      "Computing Test/Train Proximities...\n",
      "Done Computing Test/Train Proximities. Computation time: 38.0ms\n"
     ]
    }
   ],
   "source": [
    "PF.train(\"Data/GunPoint_TRAIN.tsv\", test_file=\"Data/GunPoint_TEST.tsv\", model_name=\"Spartacus\", \n",
    "         distances=[\"javadistance:userdistances.jar:MyEuclideanDistance\"],\n",
    "                  return_proximities=True, output_directory=dir1, entry_separator=\"\\t\")"
   ]
  },
  {
   "cell_type": "code",
   "execution_count": null,
   "id": "a5dca30b-27c8-465f-8f50-49989881edd3",
   "metadata": {},
   "outputs": [],
   "source": []
  },
  {
   "cell_type": "code",
   "execution_count": null,
   "id": "3b48d452-931a-48ef-a454-042d4da4746e",
   "metadata": {},
   "outputs": [],
   "source": []
  }
 ],
 "metadata": {
  "kernelspec": {
   "display_name": "Python 3 (ipykernel)",
   "language": "python",
   "name": "python3"
  },
  "language_info": {
   "codemirror_mode": {
    "name": "ipython",
    "version": 3
   },
   "file_extension": ".py",
   "mimetype": "text/x-python",
   "name": "python",
   "nbconvert_exporter": "python",
   "pygments_lexer": "ipython3",
   "version": "3.13.7"
  }
 },
 "nbformat": 4,
 "nbformat_minor": 5
}
